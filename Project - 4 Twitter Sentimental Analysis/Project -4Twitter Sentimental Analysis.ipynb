{
 "cells": [
  {
   "cell_type": "markdown",
   "metadata": {},
   "source": [
    "# Problem Statement:\n",
    "\n",
    "You want to collect text data using Twitter API.\n",
    "\n",
    "https://developer.twitter.com/en\n",
    "\n",
    "https://anaconda.org/conda-forge/tweepy\n",
    "\n",
    "https://anaconda.org/anaconda/openpyxl\n",
    "    \n",
    "\n",
    "__Consumer API keys__\n",
    "\n",
    "__API key:__\n",
    "    \n",
    "DiC0StEvwM3hcawclSRl4uhir\n",
    "    \n",
    "__API secret key:__\n",
    "\n",
    "gOJy6ZVsEOvwZsfyOYjUTW7452L01BmFiX9rHa5dcW6zlZHQX5\n",
    "    \n",
    "__Access token:__\n",
    "\n",
    "3000639511-TpF6XTInNwZj7ZFe5tGFc7SIIj5aqttZSfJF3fH\n",
    "    \n",
    "__Access token secret:__\n",
    "    \n",
    "P9AoGd8u2WZea35QAWiLCz6VL0mb6x7WHAhAjgp3BEd56\n",
    "\n",
    "__Bearer token:__\n",
    "AAAAAAAAAAAAAAAAAAAAAMEPRgEAAAAAZrHQs6nvsxJAX2sTFv5V0Q%2BXAIw%3Dv8fvP2RdN1UnlaT2vr9lnmHpDPU1wpAT1CmoEr25xPn3Lpcqcp\n"
   ]
  },
  {
   "cell_type": "code",
   "execution_count": 1,
   "metadata": {},
   "outputs": [],
   "source": [
    "import numpy as np\n",
    "import pandas as pd\n",
    "import warnings\n",
    "warnings.filterwarnings('ignore')\n",
    "import json"
   ]
  },
  {
   "cell_type": "code",
   "execution_count": 2,
   "metadata": {},
   "outputs": [],
   "source": [
    "import tweepy\n",
    "import openpyxl\n",
    "from tweepy import OAuthHandler\n"
   ]
  },
  {
   "cell_type": "code",
   "execution_count": 3,
   "metadata": {},
   "outputs": [],
   "source": [
    "# credentials\n",
    "\n",
    "consumer_key = \"DiC0StEvwM3hcawclSRl4uhir\"\n",
    "consumer_secret = \"gOJy6ZVsEOvwZsfyOYjUTW7452L01BmFiX9rHa5dcW6zlZHQX5\"\n",
    "access_token = \"3000639511-TpF6XTInNwZj7ZFe5tGFc7SIIj5aqttZSfJF3fH\"\n",
    "access_token_secret = \"P9AoGd8u2WZea35QAWiLCz6VL0mb6x7WHAhAjgp3BEd56\"\n"
   ]
  },
  {
   "cell_type": "code",
   "execution_count": 4,
   "metadata": {},
   "outputs": [],
   "source": [
    "# call API\n",
    "\n",
    "auth = tweepy.OAuthHandler(consumer_key, consumer_secret)\n",
    "auth.set_access_token(access_token, access_token_secret)\n",
    "api = tweepy.API(auth)"
   ]
  },
  {
   "cell_type": "code",
   "execution_count": 5,
   "metadata": {},
   "outputs": [
    {
     "name": "stdout",
     "output_type": "stream",
     "text": [
      "Status(_api=<tweepy.api.API object at 0x000001CA436A9490>, _json={'created_at': 'Sat Jul 10 08:32:35 +0000 2021', 'id': 1413778162874454016, 'id_str': '1413778162874454016', 'full_text': '@selinlimelinli Which vaccine is accepted if one has to travel internationaly or to be precise istanbul.i took covaxin but people say i shud hv tkn covishield.', 'truncated': False, 'display_text_range': [16, 159], 'entities': {'hashtags': [], 'symbols': [], 'user_mentions': [{'screen_name': 'selinlimelinli', 'name': 'Selin', 'id': 933718596504702977, 'id_str': '933718596504702977', 'indices': [0, 15]}], 'urls': []}, 'metadata': {'iso_language_code': 'en', 'result_type': 'recent'}, 'source': '<a href=\"https://mobile.twitter.com\" rel=\"nofollow\">Twitter Web App</a>', 'in_reply_to_status_id': 1399056709130334212, 'in_reply_to_status_id_str': '1399056709130334212', 'in_reply_to_user_id': 933718596504702977, 'in_reply_to_user_id_str': '933718596504702977', 'in_reply_to_screen_name': 'selinlimelinli', 'user': {'id': 1110551330383425536, 'id_str': '1110551330383425536', 'name': 'Ajay', 'screen_name': 'Ajay35128529', 'location': '', 'description': 'At 60 feeling fit n fine on special keto diet only.', 'url': None, 'entities': {'description': {'urls': []}}, 'protected': False, 'followers_count': 3, 'friends_count': 24, 'listed_count': 0, 'created_at': 'Tue Mar 26 14:37:24 +0000 2019', 'favourites_count': 36, 'utc_offset': None, 'time_zone': None, 'geo_enabled': False, 'verified': False, 'statuses_count': 31, 'lang': None, 'contributors_enabled': False, 'is_translator': False, 'is_translation_enabled': False, 'profile_background_color': 'F5F8FA', 'profile_background_image_url': None, 'profile_background_image_url_https': None, 'profile_background_tile': False, 'profile_image_url': 'http://pbs.twimg.com/profile_images/1110945500092608512/c_2l6lbU_normal.jpg', 'profile_image_url_https': 'https://pbs.twimg.com/profile_images/1110945500092608512/c_2l6lbU_normal.jpg', 'profile_link_color': '1DA1F2', 'profile_sidebar_border_color': 'C0DEED', 'profile_sidebar_fill_color': 'DDEEF6', 'profile_text_color': '333333', 'profile_use_background_image': True, 'has_extended_profile': False, 'default_profile': True, 'default_profile_image': False, 'following': False, 'follow_request_sent': False, 'notifications': False, 'translator_type': 'none', 'withheld_in_countries': []}, 'geo': None, 'coordinates': None, 'place': None, 'contributors': None, 'is_quote_status': False, 'retweet_count': 0, 'favorite_count': 0, 'favorited': False, 'retweeted': False, 'lang': 'en'}, created_at=datetime.datetime(2021, 7, 10, 8, 32, 35), id=1413778162874454016, id_str='1413778162874454016', full_text='@selinlimelinli Which vaccine is accepted if one has to travel internationaly or to be precise istanbul.i took covaxin but people say i shud hv tkn covishield.', truncated=False, display_text_range=[16, 159], entities={'hashtags': [], 'symbols': [], 'user_mentions': [{'screen_name': 'selinlimelinli', 'name': 'Selin', 'id': 933718596504702977, 'id_str': '933718596504702977', 'indices': [0, 15]}], 'urls': []}, metadata={'iso_language_code': 'en', 'result_type': 'recent'}, source='Twitter Web App', source_url='https://mobile.twitter.com', in_reply_to_status_id=1399056709130334212, in_reply_to_status_id_str='1399056709130334212', in_reply_to_user_id=933718596504702977, in_reply_to_user_id_str='933718596504702977', in_reply_to_screen_name='selinlimelinli', author=User(_api=<tweepy.api.API object at 0x000001CA436A9490>, _json={'id': 1110551330383425536, 'id_str': '1110551330383425536', 'name': 'Ajay', 'screen_name': 'Ajay35128529', 'location': '', 'description': 'At 60 feeling fit n fine on special keto diet only.', 'url': None, 'entities': {'description': {'urls': []}}, 'protected': False, 'followers_count': 3, 'friends_count': 24, 'listed_count': 0, 'created_at': 'Tue Mar 26 14:37:24 +0000 2019', 'favourites_count': 36, 'utc_offset': None, 'time_zone': None, 'geo_enabled': False, 'verified': False, 'statuses_count': 31, 'lang': None, 'contributors_enabled': False, 'is_translator': False, 'is_translation_enabled': False, 'profile_background_color': 'F5F8FA', 'profile_background_image_url': None, 'profile_background_image_url_https': None, 'profile_background_tile': False, 'profile_image_url': 'http://pbs.twimg.com/profile_images/1110945500092608512/c_2l6lbU_normal.jpg', 'profile_image_url_https': 'https://pbs.twimg.com/profile_images/1110945500092608512/c_2l6lbU_normal.jpg', 'profile_link_color': '1DA1F2', 'profile_sidebar_border_color': 'C0DEED', 'profile_sidebar_fill_color': 'DDEEF6', 'profile_text_color': '333333', 'profile_use_background_image': True, 'has_extended_profile': False, 'default_profile': True, 'default_profile_image': False, 'following': False, 'follow_request_sent': False, 'notifications': False, 'translator_type': 'none', 'withheld_in_countries': []}, id=1110551330383425536, id_str='1110551330383425536', name='Ajay', screen_name='Ajay35128529', location='', description='At 60 feeling fit n fine on special keto diet only.', url=None, entities={'description': {'urls': []}}, protected=False, followers_count=3, friends_count=24, listed_count=0, created_at=datetime.datetime(2019, 3, 26, 14, 37, 24), favourites_count=36, utc_offset=None, time_zone=None, geo_enabled=False, verified=False, statuses_count=31, lang=None, contributors_enabled=False, is_translator=False, is_translation_enabled=False, profile_background_color='F5F8FA', profile_background_image_url=None, profile_background_image_url_https=None, profile_background_tile=False, profile_image_url='http://pbs.twimg.com/profile_images/1110945500092608512/c_2l6lbU_normal.jpg', profile_image_url_https='https://pbs.twimg.com/profile_images/1110945500092608512/c_2l6lbU_normal.jpg', profile_link_color='1DA1F2', profile_sidebar_border_color='C0DEED', profile_sidebar_fill_color='DDEEF6', profile_text_color='333333', profile_use_background_image=True, has_extended_profile=False, default_profile=True, default_profile_image=False, following=False, follow_request_sent=False, notifications=False, translator_type='none', withheld_in_countries=[]), user=User(_api=<tweepy.api.API object at 0x000001CA436A9490>, _json={'id': 1110551330383425536, 'id_str': '1110551330383425536', 'name': 'Ajay', 'screen_name': 'Ajay35128529', 'location': '', 'description': 'At 60 feeling fit n fine on special keto diet only.', 'url': None, 'entities': {'description': {'urls': []}}, 'protected': False, 'followers_count': 3, 'friends_count': 24, 'listed_count': 0, 'created_at': 'Tue Mar 26 14:37:24 +0000 2019', 'favourites_count': 36, 'utc_offset': None, 'time_zone': None, 'geo_enabled': False, 'verified': False, 'statuses_count': 31, 'lang': None, 'contributors_enabled': False, 'is_translator': False, 'is_translation_enabled': False, 'profile_background_color': 'F5F8FA', 'profile_background_image_url': None, 'profile_background_image_url_https': None, 'profile_background_tile': False, 'profile_image_url': 'http://pbs.twimg.com/profile_images/1110945500092608512/c_2l6lbU_normal.jpg', 'profile_image_url_https': 'https://pbs.twimg.com/profile_images/1110945500092608512/c_2l6lbU_normal.jpg', 'profile_link_color': '1DA1F2', 'profile_sidebar_border_color': 'C0DEED', 'profile_sidebar_fill_color': 'DDEEF6', 'profile_text_color': '333333', 'profile_use_background_image': True, 'has_extended_profile': False, 'default_profile': True, 'default_profile_image': False, 'following': False, 'follow_request_sent': False, 'notifications': False, 'translator_type': 'none', 'withheld_in_countries': []}, id=1110551330383425536, id_str='1110551330383425536', name='Ajay', screen_name='Ajay35128529', location='', description='At 60 feeling fit n fine on special keto diet only.', url=None, entities={'description': {'urls': []}}, protected=False, followers_count=3, friends_count=24, listed_count=0, created_at=datetime.datetime(2019, 3, 26, 14, 37, 24), favourites_count=36, utc_offset=None, time_zone=None, geo_enabled=False, verified=False, statuses_count=31, lang=None, contributors_enabled=False, is_translator=False, is_translation_enabled=False, profile_background_color='F5F8FA', profile_background_image_url=None, profile_background_image_url_https=None, profile_background_tile=False, profile_image_url='http://pbs.twimg.com/profile_images/1110945500092608512/c_2l6lbU_normal.jpg', profile_image_url_https='https://pbs.twimg.com/profile_images/1110945500092608512/c_2l6lbU_normal.jpg', profile_link_color='1DA1F2', profile_sidebar_border_color='C0DEED', profile_sidebar_fill_color='DDEEF6', profile_text_color='333333', profile_use_background_image=True, has_extended_profile=False, default_profile=True, default_profile_image=False, following=False, follow_request_sent=False, notifications=False, translator_type='none', withheld_in_countries=[]), geo=None, coordinates=None, place=None, contributors=None, is_quote_status=False, retweet_count=0, favorite_count=0, favorited=False, retweeted=False, lang='en')\n",
      "=================================================\n",
      "Status(_api=<tweepy.api.API object at 0x000001CA436A9490>, _json={'created_at': 'Fri Jul 09 17:45:00 +0000 2021', 'id': 1413554794623651851, 'id_str': '1413554794623651851', 'full_text': 'If a person has taken two regular doses of Covishield or Covaxin, then a third dose of Sputnik V in the form of a booster will be good and helpful, a doctor suggested.\\n\\nhttps://t.co/Ri27W7lDh9', 'truncated': False, 'display_text_range': [0, 192], 'entities': {'hashtags': [], 'symbols': [], 'user_mentions': [], 'urls': [{'url': 'https://t.co/Ri27W7lDh9', 'expanded_url': 'https://www.news18.com/news/india/delta-variant-can-shatter-vaccine-cover-single-dose-of-pfizer-astrazeneca-barely-give-protection-3943448.html', 'display_url': 'news18.com/news/india/del…', 'indices': [169, 192]}]}, 'metadata': {'iso_language_code': 'en', 'result_type': 'recent'}, 'source': '<a href=\"https://about.twitter.com/products/tweetdeck\" rel=\"nofollow\">TweetDeck</a>', 'in_reply_to_status_id': None, 'in_reply_to_status_id_str': None, 'in_reply_to_user_id': None, 'in_reply_to_user_id_str': None, 'in_reply_to_screen_name': None, 'user': {'id': 6509832, 'id_str': '6509832', 'name': 'News18', 'screen_name': 'CNNnews18', 'location': 'India', 'description': 'Official Twitter account of CNN-News18. Lightning fast alerts, #BreakingNews from India and the world.', 'url': 'https://t.co/pQMY3y46t6', 'entities': {'url': {'urls': [{'url': 'https://t.co/pQMY3y46t6', 'expanded_url': 'http://www.News18.com', 'display_url': 'News18.com', 'indices': [0, 23]}]}, 'description': {'urls': []}}, 'protected': False, 'followers_count': 4581141, 'friends_count': 403, 'listed_count': 6503, 'created_at': 'Fri Jun 01 20:31:01 +0000 2007', 'favourites_count': 188, 'utc_offset': None, 'time_zone': None, 'geo_enabled': True, 'verified': True, 'statuses_count': 889863, 'lang': None, 'contributors_enabled': False, 'is_translator': False, 'is_translation_enabled': False, 'profile_background_color': '4A913C', 'profile_background_image_url': 'http://abs.twimg.com/images/themes/theme15/bg.png', 'profile_background_image_url_https': 'https://abs.twimg.com/images/themes/theme15/bg.png', 'profile_background_tile': True, 'profile_image_url': 'http://pbs.twimg.com/profile_images/1162229007439421440/k_CbYqJm_normal.jpg', 'profile_image_url_https': 'https://pbs.twimg.com/profile_images/1162229007439421440/k_CbYqJm_normal.jpg', 'profile_banner_url': 'https://pbs.twimg.com/profile_banners/6509832/1624253041', 'profile_link_color': 'E81C4F', 'profile_sidebar_border_color': 'A8C7F7', 'profile_sidebar_fill_color': 'C0DFEC', 'profile_text_color': '333333', 'profile_use_background_image': True, 'has_extended_profile': False, 'default_profile': False, 'default_profile_image': False, 'following': False, 'follow_request_sent': False, 'notifications': False, 'translator_type': 'none', 'withheld_in_countries': []}, 'geo': None, 'coordinates': None, 'place': None, 'contributors': None, 'is_quote_status': False, 'retweet_count': 9, 'favorite_count': 14, 'favorited': False, 'retweeted': False, 'possibly_sensitive': False, 'lang': 'en'}, created_at=datetime.datetime(2021, 7, 9, 17, 45), id=1413554794623651851, id_str='1413554794623651851', full_text='If a person has taken two regular doses of Covishield or Covaxin, then a third dose of Sputnik V in the form of a booster will be good and helpful, a doctor suggested.\\n\\nhttps://t.co/Ri27W7lDh9', truncated=False, display_text_range=[0, 192], entities={'hashtags': [], 'symbols': [], 'user_mentions': [], 'urls': [{'url': 'https://t.co/Ri27W7lDh9', 'expanded_url': 'https://www.news18.com/news/india/delta-variant-can-shatter-vaccine-cover-single-dose-of-pfizer-astrazeneca-barely-give-protection-3943448.html', 'display_url': 'news18.com/news/india/del…', 'indices': [169, 192]}]}, metadata={'iso_language_code': 'en', 'result_type': 'recent'}, source='TweetDeck', source_url='https://about.twitter.com/products/tweetdeck', in_reply_to_status_id=None, in_reply_to_status_id_str=None, in_reply_to_user_id=None, in_reply_to_user_id_str=None, in_reply_to_screen_name=None, author=User(_api=<tweepy.api.API object at 0x000001CA436A9490>, _json={'id': 6509832, 'id_str': '6509832', 'name': 'News18', 'screen_name': 'CNNnews18', 'location': 'India', 'description': 'Official Twitter account of CNN-News18. Lightning fast alerts, #BreakingNews from India and the world.', 'url': 'https://t.co/pQMY3y46t6', 'entities': {'url': {'urls': [{'url': 'https://t.co/pQMY3y46t6', 'expanded_url': 'http://www.News18.com', 'display_url': 'News18.com', 'indices': [0, 23]}]}, 'description': {'urls': []}}, 'protected': False, 'followers_count': 4581141, 'friends_count': 403, 'listed_count': 6503, 'created_at': 'Fri Jun 01 20:31:01 +0000 2007', 'favourites_count': 188, 'utc_offset': None, 'time_zone': None, 'geo_enabled': True, 'verified': True, 'statuses_count': 889863, 'lang': None, 'contributors_enabled': False, 'is_translator': False, 'is_translation_enabled': False, 'profile_background_color': '4A913C', 'profile_background_image_url': 'http://abs.twimg.com/images/themes/theme15/bg.png', 'profile_background_image_url_https': 'https://abs.twimg.com/images/themes/theme15/bg.png', 'profile_background_tile': True, 'profile_image_url': 'http://pbs.twimg.com/profile_images/1162229007439421440/k_CbYqJm_normal.jpg', 'profile_image_url_https': 'https://pbs.twimg.com/profile_images/1162229007439421440/k_CbYqJm_normal.jpg', 'profile_banner_url': 'https://pbs.twimg.com/profile_banners/6509832/1624253041', 'profile_link_color': 'E81C4F', 'profile_sidebar_border_color': 'A8C7F7', 'profile_sidebar_fill_color': 'C0DFEC', 'profile_text_color': '333333', 'profile_use_background_image': True, 'has_extended_profile': False, 'default_profile': False, 'default_profile_image': False, 'following': False, 'follow_request_sent': False, 'notifications': False, 'translator_type': 'none', 'withheld_in_countries': []}, id=6509832, id_str='6509832', name='News18', screen_name='CNNnews18', location='India', description='Official Twitter account of CNN-News18. Lightning fast alerts, #BreakingNews from India and the world.', url='https://t.co/pQMY3y46t6', entities={'url': {'urls': [{'url': 'https://t.co/pQMY3y46t6', 'expanded_url': 'http://www.News18.com', 'display_url': 'News18.com', 'indices': [0, 23]}]}, 'description': {'urls': []}}, protected=False, followers_count=4581141, friends_count=403, listed_count=6503, created_at=datetime.datetime(2007, 6, 1, 20, 31, 1), favourites_count=188, utc_offset=None, time_zone=None, geo_enabled=True, verified=True, statuses_count=889863, lang=None, contributors_enabled=False, is_translator=False, is_translation_enabled=False, profile_background_color='4A913C', profile_background_image_url='http://abs.twimg.com/images/themes/theme15/bg.png', profile_background_image_url_https='https://abs.twimg.com/images/themes/theme15/bg.png', profile_background_tile=True, profile_image_url='http://pbs.twimg.com/profile_images/1162229007439421440/k_CbYqJm_normal.jpg', profile_image_url_https='https://pbs.twimg.com/profile_images/1162229007439421440/k_CbYqJm_normal.jpg', profile_banner_url='https://pbs.twimg.com/profile_banners/6509832/1624253041', profile_link_color='E81C4F', profile_sidebar_border_color='A8C7F7', profile_sidebar_fill_color='C0DFEC', profile_text_color='333333', profile_use_background_image=True, has_extended_profile=False, default_profile=False, default_profile_image=False, following=False, follow_request_sent=False, notifications=False, translator_type='none', withheld_in_countries=[]), user=User(_api=<tweepy.api.API object at 0x000001CA436A9490>, _json={'id': 6509832, 'id_str': '6509832', 'name': 'News18', 'screen_name': 'CNNnews18', 'location': 'India', 'description': 'Official Twitter account of CNN-News18. Lightning fast alerts, #BreakingNews from India and the world.', 'url': 'https://t.co/pQMY3y46t6', 'entities': {'url': {'urls': [{'url': 'https://t.co/pQMY3y46t6', 'expanded_url': 'http://www.News18.com', 'display_url': 'News18.com', 'indices': [0, 23]}]}, 'description': {'urls': []}}, 'protected': False, 'followers_count': 4581141, 'friends_count': 403, 'listed_count': 6503, 'created_at': 'Fri Jun 01 20:31:01 +0000 2007', 'favourites_count': 188, 'utc_offset': None, 'time_zone': None, 'geo_enabled': True, 'verified': True, 'statuses_count': 889863, 'lang': None, 'contributors_enabled': False, 'is_translator': False, 'is_translation_enabled': False, 'profile_background_color': '4A913C', 'profile_background_image_url': 'http://abs.twimg.com/images/themes/theme15/bg.png', 'profile_background_image_url_https': 'https://abs.twimg.com/images/themes/theme15/bg.png', 'profile_background_tile': True, 'profile_image_url': 'http://pbs.twimg.com/profile_images/1162229007439421440/k_CbYqJm_normal.jpg', 'profile_image_url_https': 'https://pbs.twimg.com/profile_images/1162229007439421440/k_CbYqJm_normal.jpg', 'profile_banner_url': 'https://pbs.twimg.com/profile_banners/6509832/1624253041', 'profile_link_color': 'E81C4F', 'profile_sidebar_border_color': 'A8C7F7', 'profile_sidebar_fill_color': 'C0DFEC', 'profile_text_color': '333333', 'profile_use_background_image': True, 'has_extended_profile': False, 'default_profile': False, 'default_profile_image': False, 'following': False, 'follow_request_sent': False, 'notifications': False, 'translator_type': 'none', 'withheld_in_countries': []}, id=6509832, id_str='6509832', name='News18', screen_name='CNNnews18', location='India', description='Official Twitter account of CNN-News18. Lightning fast alerts, #BreakingNews from India and the world.', url='https://t.co/pQMY3y46t6', entities={'url': {'urls': [{'url': 'https://t.co/pQMY3y46t6', 'expanded_url': 'http://www.News18.com', 'display_url': 'News18.com', 'indices': [0, 23]}]}, 'description': {'urls': []}}, protected=False, followers_count=4581141, friends_count=403, listed_count=6503, created_at=datetime.datetime(2007, 6, 1, 20, 31, 1), favourites_count=188, utc_offset=None, time_zone=None, geo_enabled=True, verified=True, statuses_count=889863, lang=None, contributors_enabled=False, is_translator=False, is_translation_enabled=False, profile_background_color='4A913C', profile_background_image_url='http://abs.twimg.com/images/themes/theme15/bg.png', profile_background_image_url_https='https://abs.twimg.com/images/themes/theme15/bg.png', profile_background_tile=True, profile_image_url='http://pbs.twimg.com/profile_images/1162229007439421440/k_CbYqJm_normal.jpg', profile_image_url_https='https://pbs.twimg.com/profile_images/1162229007439421440/k_CbYqJm_normal.jpg', profile_banner_url='https://pbs.twimg.com/profile_banners/6509832/1624253041', profile_link_color='E81C4F', profile_sidebar_border_color='A8C7F7', profile_sidebar_fill_color='C0DFEC', profile_text_color='333333', profile_use_background_image=True, has_extended_profile=False, default_profile=False, default_profile_image=False, following=False, follow_request_sent=False, notifications=False, translator_type='none', withheld_in_countries=[]), geo=None, coordinates=None, place=None, contributors=None, is_quote_status=False, retweet_count=9, favorite_count=14, favorited=False, retweeted=False, possibly_sensitive=False, lang='en')\n",
      "=================================================\n",
      "Status(_api=<tweepy.api.API object at 0x000001CA436A9490>, _json={'created_at': 'Fri Jul 09 12:02:25 +0000 2021', 'id': 1413468581434585096, 'id_str': '1413468581434585096', 'full_text': \"@r0h1n @dawalelo @prajektor With regards to vaccine shortfall, I don't find in the article the latest numbers for covishield n covaxin. Only numbers are for Q1, even there against 120m promised by both, shortfall found was 5.1m or just 4.25%. Do u hav any latest shortfall data for these 2 firms?\", 'truncated': False, 'display_text_range': [28, 296], 'entities': {'hashtags': [], 'symbols': [], 'user_mentions': [{'screen_name': 'r0h1n', 'name': 'Rohin Dharmakumar', 'id': 198795374, 'id_str': '198795374', 'indices': [0, 6]}, {'screen_name': 'dawalelo', 'name': 'Medical Macaroni | دوالےلو', 'id': 77520998, 'id_str': '77520998', 'indices': [7, 16]}, {'screen_name': 'prajektor', 'name': 'Prajakta Patil', 'id': 369390381, 'id_str': '369390381', 'indices': [17, 27]}], 'urls': []}, 'metadata': {'iso_language_code': 'en', 'result_type': 'recent'}, 'source': '<a href=\"http://twitter.com/download/android\" rel=\"nofollow\">Twitter for Android</a>', 'in_reply_to_status_id': 1413373598761316352, 'in_reply_to_status_id_str': '1413373598761316352', 'in_reply_to_user_id': 198795374, 'in_reply_to_user_id_str': '198795374', 'in_reply_to_screen_name': 'r0h1n', 'user': {'id': 22891909, 'id_str': '22891909', 'name': 'Chaitanya', 'screen_name': 'Hellboy87', 'location': 'Hyderabad, India', 'description': 'New to twitter', 'url': None, 'entities': {'description': {'urls': []}}, 'protected': False, 'followers_count': 36, 'friends_count': 120, 'listed_count': 6, 'created_at': 'Thu Mar 05 06:53:28 +0000 2009', 'favourites_count': 709, 'utc_offset': None, 'time_zone': None, 'geo_enabled': False, 'verified': False, 'statuses_count': 307, 'lang': None, 'contributors_enabled': False, 'is_translator': False, 'is_translation_enabled': False, 'profile_background_color': '000000', 'profile_background_image_url': 'http://abs.twimg.com/images/themes/theme1/bg.png', 'profile_background_image_url_https': 'https://abs.twimg.com/images/themes/theme1/bg.png', 'profile_background_tile': False, 'profile_image_url': 'http://pbs.twimg.com/profile_images/697697925967667201/6j3IJRx3_normal.jpg', 'profile_image_url_https': 'https://pbs.twimg.com/profile_images/697697925967667201/6j3IJRx3_normal.jpg', 'profile_banner_url': 'https://pbs.twimg.com/profile_banners/22891909/1455179709', 'profile_link_color': '1B95E0', 'profile_sidebar_border_color': '000000', 'profile_sidebar_fill_color': '000000', 'profile_text_color': '000000', 'profile_use_background_image': False, 'has_extended_profile': False, 'default_profile': False, 'default_profile_image': False, 'following': False, 'follow_request_sent': False, 'notifications': False, 'translator_type': 'none', 'withheld_in_countries': []}, 'geo': None, 'coordinates': None, 'place': None, 'contributors': None, 'is_quote_status': False, 'retweet_count': 0, 'favorite_count': 1, 'favorited': False, 'retweeted': False, 'lang': 'en'}, created_at=datetime.datetime(2021, 7, 9, 12, 2, 25), id=1413468581434585096, id_str='1413468581434585096', full_text=\"@r0h1n @dawalelo @prajektor With regards to vaccine shortfall, I don't find in the article the latest numbers for covishield n covaxin. Only numbers are for Q1, even there against 120m promised by both, shortfall found was 5.1m or just 4.25%. Do u hav any latest shortfall data for these 2 firms?\", truncated=False, display_text_range=[28, 296], entities={'hashtags': [], 'symbols': [], 'user_mentions': [{'screen_name': 'r0h1n', 'name': 'Rohin Dharmakumar', 'id': 198795374, 'id_str': '198795374', 'indices': [0, 6]}, {'screen_name': 'dawalelo', 'name': 'Medical Macaroni | دوالےلو', 'id': 77520998, 'id_str': '77520998', 'indices': [7, 16]}, {'screen_name': 'prajektor', 'name': 'Prajakta Patil', 'id': 369390381, 'id_str': '369390381', 'indices': [17, 27]}], 'urls': []}, metadata={'iso_language_code': 'en', 'result_type': 'recent'}, source='Twitter for Android', source_url='http://twitter.com/download/android', in_reply_to_status_id=1413373598761316352, in_reply_to_status_id_str='1413373598761316352', in_reply_to_user_id=198795374, in_reply_to_user_id_str='198795374', in_reply_to_screen_name='r0h1n', author=User(_api=<tweepy.api.API object at 0x000001CA436A9490>, _json={'id': 22891909, 'id_str': '22891909', 'name': 'Chaitanya', 'screen_name': 'Hellboy87', 'location': 'Hyderabad, India', 'description': 'New to twitter', 'url': None, 'entities': {'description': {'urls': []}}, 'protected': False, 'followers_count': 36, 'friends_count': 120, 'listed_count': 6, 'created_at': 'Thu Mar 05 06:53:28 +0000 2009', 'favourites_count': 709, 'utc_offset': None, 'time_zone': None, 'geo_enabled': False, 'verified': False, 'statuses_count': 307, 'lang': None, 'contributors_enabled': False, 'is_translator': False, 'is_translation_enabled': False, 'profile_background_color': '000000', 'profile_background_image_url': 'http://abs.twimg.com/images/themes/theme1/bg.png', 'profile_background_image_url_https': 'https://abs.twimg.com/images/themes/theme1/bg.png', 'profile_background_tile': False, 'profile_image_url': 'http://pbs.twimg.com/profile_images/697697925967667201/6j3IJRx3_normal.jpg', 'profile_image_url_https': 'https://pbs.twimg.com/profile_images/697697925967667201/6j3IJRx3_normal.jpg', 'profile_banner_url': 'https://pbs.twimg.com/profile_banners/22891909/1455179709', 'profile_link_color': '1B95E0', 'profile_sidebar_border_color': '000000', 'profile_sidebar_fill_color': '000000', 'profile_text_color': '000000', 'profile_use_background_image': False, 'has_extended_profile': False, 'default_profile': False, 'default_profile_image': False, 'following': False, 'follow_request_sent': False, 'notifications': False, 'translator_type': 'none', 'withheld_in_countries': []}, id=22891909, id_str='22891909', name='Chaitanya', screen_name='Hellboy87', location='Hyderabad, India', description='New to twitter', url=None, entities={'description': {'urls': []}}, protected=False, followers_count=36, friends_count=120, listed_count=6, created_at=datetime.datetime(2009, 3, 5, 6, 53, 28), favourites_count=709, utc_offset=None, time_zone=None, geo_enabled=False, verified=False, statuses_count=307, lang=None, contributors_enabled=False, is_translator=False, is_translation_enabled=False, profile_background_color='000000', profile_background_image_url='http://abs.twimg.com/images/themes/theme1/bg.png', profile_background_image_url_https='https://abs.twimg.com/images/themes/theme1/bg.png', profile_background_tile=False, profile_image_url='http://pbs.twimg.com/profile_images/697697925967667201/6j3IJRx3_normal.jpg', profile_image_url_https='https://pbs.twimg.com/profile_images/697697925967667201/6j3IJRx3_normal.jpg', profile_banner_url='https://pbs.twimg.com/profile_banners/22891909/1455179709', profile_link_color='1B95E0', profile_sidebar_border_color='000000', profile_sidebar_fill_color='000000', profile_text_color='000000', profile_use_background_image=False, has_extended_profile=False, default_profile=False, default_profile_image=False, following=False, follow_request_sent=False, notifications=False, translator_type='none', withheld_in_countries=[]), user=User(_api=<tweepy.api.API object at 0x000001CA436A9490>, _json={'id': 22891909, 'id_str': '22891909', 'name': 'Chaitanya', 'screen_name': 'Hellboy87', 'location': 'Hyderabad, India', 'description': 'New to twitter', 'url': None, 'entities': {'description': {'urls': []}}, 'protected': False, 'followers_count': 36, 'friends_count': 120, 'listed_count': 6, 'created_at': 'Thu Mar 05 06:53:28 +0000 2009', 'favourites_count': 709, 'utc_offset': None, 'time_zone': None, 'geo_enabled': False, 'verified': False, 'statuses_count': 307, 'lang': None, 'contributors_enabled': False, 'is_translator': False, 'is_translation_enabled': False, 'profile_background_color': '000000', 'profile_background_image_url': 'http://abs.twimg.com/images/themes/theme1/bg.png', 'profile_background_image_url_https': 'https://abs.twimg.com/images/themes/theme1/bg.png', 'profile_background_tile': False, 'profile_image_url': 'http://pbs.twimg.com/profile_images/697697925967667201/6j3IJRx3_normal.jpg', 'profile_image_url_https': 'https://pbs.twimg.com/profile_images/697697925967667201/6j3IJRx3_normal.jpg', 'profile_banner_url': 'https://pbs.twimg.com/profile_banners/22891909/1455179709', 'profile_link_color': '1B95E0', 'profile_sidebar_border_color': '000000', 'profile_sidebar_fill_color': '000000', 'profile_text_color': '000000', 'profile_use_background_image': False, 'has_extended_profile': False, 'default_profile': False, 'default_profile_image': False, 'following': False, 'follow_request_sent': False, 'notifications': False, 'translator_type': 'none', 'withheld_in_countries': []}, id=22891909, id_str='22891909', name='Chaitanya', screen_name='Hellboy87', location='Hyderabad, India', description='New to twitter', url=None, entities={'description': {'urls': []}}, protected=False, followers_count=36, friends_count=120, listed_count=6, created_at=datetime.datetime(2009, 3, 5, 6, 53, 28), favourites_count=709, utc_offset=None, time_zone=None, geo_enabled=False, verified=False, statuses_count=307, lang=None, contributors_enabled=False, is_translator=False, is_translation_enabled=False, profile_background_color='000000', profile_background_image_url='http://abs.twimg.com/images/themes/theme1/bg.png', profile_background_image_url_https='https://abs.twimg.com/images/themes/theme1/bg.png', profile_background_tile=False, profile_image_url='http://pbs.twimg.com/profile_images/697697925967667201/6j3IJRx3_normal.jpg', profile_image_url_https='https://pbs.twimg.com/profile_images/697697925967667201/6j3IJRx3_normal.jpg', profile_banner_url='https://pbs.twimg.com/profile_banners/22891909/1455179709', profile_link_color='1B95E0', profile_sidebar_border_color='000000', profile_sidebar_fill_color='000000', profile_text_color='000000', profile_use_background_image=False, has_extended_profile=False, default_profile=False, default_profile_image=False, following=False, follow_request_sent=False, notifications=False, translator_type='none', withheld_in_countries=[]), geo=None, coordinates=None, place=None, contributors=None, is_quote_status=False, retweet_count=0, favorite_count=1, favorited=False, retweeted=False, lang='en')\n",
      "=================================================\n",
      "Status(_api=<tweepy.api.API object at 0x000001CA436A9490>, _json={'created_at': 'Fri Jul 09 11:17:02 +0000 2021', 'id': 1413457161712062466, 'id_str': '1413457161712062466', 'full_text': \"Why are people spreading hate towards Pfizer vaccine?\\n\\nThere's no difference between you and people spreading hate towards Indian vaccine COVAXIN or Indian manufactured vaccine COVISHIELD.\", 'truncated': False, 'display_text_range': [0, 188], 'entities': {'hashtags': [], 'symbols': [], 'user_mentions': [], 'urls': []}, 'metadata': {'iso_language_code': 'en', 'result_type': 'recent'}, 'source': '<a href=\"http://twitter.com/download/android\" rel=\"nofollow\">Twitter for Android</a>', 'in_reply_to_status_id': None, 'in_reply_to_status_id_str': None, 'in_reply_to_user_id': None, 'in_reply_to_user_id_str': None, 'in_reply_to_screen_name': None, 'user': {'id': 249574631, 'id_str': '249574631', 'name': 'Dr Abhi #PutAMaskOn', 'screen_name': 'docabhii', 'location': 'Pune, India', 'description': 'Doctor 👨\\u200d⚕️ |♂️| I solemnly swear that I follow evidence based medicine| Techsavvy 👨\\u200d💻 | Music | #TeamCoffee |#MedTwitter #MentalHealthMatters l हरे कृष्णा।', 'url': None, 'entities': {'description': {'urls': []}}, 'protected': False, 'followers_count': 1035, 'friends_count': 823, 'listed_count': 4, 'created_at': 'Wed Feb 09 10:06:02 +0000 2011', 'favourites_count': 13943, 'utc_offset': None, 'time_zone': None, 'geo_enabled': True, 'verified': False, 'statuses_count': 8716, 'lang': None, 'contributors_enabled': False, 'is_translator': False, 'is_translation_enabled': False, 'profile_background_color': 'DBE9ED', 'profile_background_image_url': 'http://abs.twimg.com/images/themes/theme17/bg.gif', 'profile_background_image_url_https': 'https://abs.twimg.com/images/themes/theme17/bg.gif', 'profile_background_tile': False, 'profile_image_url': 'http://pbs.twimg.com/profile_images/1393195870682705922/HJ1yOhyd_normal.jpg', 'profile_image_url_https': 'https://pbs.twimg.com/profile_images/1393195870682705922/HJ1yOhyd_normal.jpg', 'profile_banner_url': 'https://pbs.twimg.com/profile_banners/249574631/1621000296', 'profile_link_color': 'CC3366', 'profile_sidebar_border_color': 'DBE9ED', 'profile_sidebar_fill_color': 'E6F6F9', 'profile_text_color': '333333', 'profile_use_background_image': True, 'has_extended_profile': False, 'default_profile': False, 'default_profile_image': False, 'following': False, 'follow_request_sent': False, 'notifications': False, 'translator_type': 'none', 'withheld_in_countries': []}, 'geo': None, 'coordinates': None, 'place': None, 'contributors': None, 'is_quote_status': False, 'retweet_count': 2, 'favorite_count': 22, 'favorited': False, 'retweeted': False, 'lang': 'en'}, created_at=datetime.datetime(2021, 7, 9, 11, 17, 2), id=1413457161712062466, id_str='1413457161712062466', full_text=\"Why are people spreading hate towards Pfizer vaccine?\\n\\nThere's no difference between you and people spreading hate towards Indian vaccine COVAXIN or Indian manufactured vaccine COVISHIELD.\", truncated=False, display_text_range=[0, 188], entities={'hashtags': [], 'symbols': [], 'user_mentions': [], 'urls': []}, metadata={'iso_language_code': 'en', 'result_type': 'recent'}, source='Twitter for Android', source_url='http://twitter.com/download/android', in_reply_to_status_id=None, in_reply_to_status_id_str=None, in_reply_to_user_id=None, in_reply_to_user_id_str=None, in_reply_to_screen_name=None, author=User(_api=<tweepy.api.API object at 0x000001CA436A9490>, _json={'id': 249574631, 'id_str': '249574631', 'name': 'Dr Abhi #PutAMaskOn', 'screen_name': 'docabhii', 'location': 'Pune, India', 'description': 'Doctor 👨\\u200d⚕️ |♂️| I solemnly swear that I follow evidence based medicine| Techsavvy 👨\\u200d💻 | Music | #TeamCoffee |#MedTwitter #MentalHealthMatters l हरे कृष्णा।', 'url': None, 'entities': {'description': {'urls': []}}, 'protected': False, 'followers_count': 1035, 'friends_count': 823, 'listed_count': 4, 'created_at': 'Wed Feb 09 10:06:02 +0000 2011', 'favourites_count': 13943, 'utc_offset': None, 'time_zone': None, 'geo_enabled': True, 'verified': False, 'statuses_count': 8716, 'lang': None, 'contributors_enabled': False, 'is_translator': False, 'is_translation_enabled': False, 'profile_background_color': 'DBE9ED', 'profile_background_image_url': 'http://abs.twimg.com/images/themes/theme17/bg.gif', 'profile_background_image_url_https': 'https://abs.twimg.com/images/themes/theme17/bg.gif', 'profile_background_tile': False, 'profile_image_url': 'http://pbs.twimg.com/profile_images/1393195870682705922/HJ1yOhyd_normal.jpg', 'profile_image_url_https': 'https://pbs.twimg.com/profile_images/1393195870682705922/HJ1yOhyd_normal.jpg', 'profile_banner_url': 'https://pbs.twimg.com/profile_banners/249574631/1621000296', 'profile_link_color': 'CC3366', 'profile_sidebar_border_color': 'DBE9ED', 'profile_sidebar_fill_color': 'E6F6F9', 'profile_text_color': '333333', 'profile_use_background_image': True, 'has_extended_profile': False, 'default_profile': False, 'default_profile_image': False, 'following': False, 'follow_request_sent': False, 'notifications': False, 'translator_type': 'none', 'withheld_in_countries': []}, id=249574631, id_str='249574631', name='Dr Abhi #PutAMaskOn', screen_name='docabhii', location='Pune, India', description='Doctor 👨\\u200d⚕️ |♂️| I solemnly swear that I follow evidence based medicine| Techsavvy 👨\\u200d💻 | Music | #TeamCoffee |#MedTwitter #MentalHealthMatters l हरे कृष्णा।', url=None, entities={'description': {'urls': []}}, protected=False, followers_count=1035, friends_count=823, listed_count=4, created_at=datetime.datetime(2011, 2, 9, 10, 6, 2), favourites_count=13943, utc_offset=None, time_zone=None, geo_enabled=True, verified=False, statuses_count=8716, lang=None, contributors_enabled=False, is_translator=False, is_translation_enabled=False, profile_background_color='DBE9ED', profile_background_image_url='http://abs.twimg.com/images/themes/theme17/bg.gif', profile_background_image_url_https='https://abs.twimg.com/images/themes/theme17/bg.gif', profile_background_tile=False, profile_image_url='http://pbs.twimg.com/profile_images/1393195870682705922/HJ1yOhyd_normal.jpg', profile_image_url_https='https://pbs.twimg.com/profile_images/1393195870682705922/HJ1yOhyd_normal.jpg', profile_banner_url='https://pbs.twimg.com/profile_banners/249574631/1621000296', profile_link_color='CC3366', profile_sidebar_border_color='DBE9ED', profile_sidebar_fill_color='E6F6F9', profile_text_color='333333', profile_use_background_image=True, has_extended_profile=False, default_profile=False, default_profile_image=False, following=False, follow_request_sent=False, notifications=False, translator_type='none', withheld_in_countries=[]), user=User(_api=<tweepy.api.API object at 0x000001CA436A9490>, _json={'id': 249574631, 'id_str': '249574631', 'name': 'Dr Abhi #PutAMaskOn', 'screen_name': 'docabhii', 'location': 'Pune, India', 'description': 'Doctor 👨\\u200d⚕️ |♂️| I solemnly swear that I follow evidence based medicine| Techsavvy 👨\\u200d💻 | Music | #TeamCoffee |#MedTwitter #MentalHealthMatters l हरे कृष्णा।', 'url': None, 'entities': {'description': {'urls': []}}, 'protected': False, 'followers_count': 1035, 'friends_count': 823, 'listed_count': 4, 'created_at': 'Wed Feb 09 10:06:02 +0000 2011', 'favourites_count': 13943, 'utc_offset': None, 'time_zone': None, 'geo_enabled': True, 'verified': False, 'statuses_count': 8716, 'lang': None, 'contributors_enabled': False, 'is_translator': False, 'is_translation_enabled': False, 'profile_background_color': 'DBE9ED', 'profile_background_image_url': 'http://abs.twimg.com/images/themes/theme17/bg.gif', 'profile_background_image_url_https': 'https://abs.twimg.com/images/themes/theme17/bg.gif', 'profile_background_tile': False, 'profile_image_url': 'http://pbs.twimg.com/profile_images/1393195870682705922/HJ1yOhyd_normal.jpg', 'profile_image_url_https': 'https://pbs.twimg.com/profile_images/1393195870682705922/HJ1yOhyd_normal.jpg', 'profile_banner_url': 'https://pbs.twimg.com/profile_banners/249574631/1621000296', 'profile_link_color': 'CC3366', 'profile_sidebar_border_color': 'DBE9ED', 'profile_sidebar_fill_color': 'E6F6F9', 'profile_text_color': '333333', 'profile_use_background_image': True, 'has_extended_profile': False, 'default_profile': False, 'default_profile_image': False, 'following': False, 'follow_request_sent': False, 'notifications': False, 'translator_type': 'none', 'withheld_in_countries': []}, id=249574631, id_str='249574631', name='Dr Abhi #PutAMaskOn', screen_name='docabhii', location='Pune, India', description='Doctor 👨\\u200d⚕️ |♂️| I solemnly swear that I follow evidence based medicine| Techsavvy 👨\\u200d💻 | Music | #TeamCoffee |#MedTwitter #MentalHealthMatters l हरे कृष्णा।', url=None, entities={'description': {'urls': []}}, protected=False, followers_count=1035, friends_count=823, listed_count=4, created_at=datetime.datetime(2011, 2, 9, 10, 6, 2), favourites_count=13943, utc_offset=None, time_zone=None, geo_enabled=True, verified=False, statuses_count=8716, lang=None, contributors_enabled=False, is_translator=False, is_translation_enabled=False, profile_background_color='DBE9ED', profile_background_image_url='http://abs.twimg.com/images/themes/theme17/bg.gif', profile_background_image_url_https='https://abs.twimg.com/images/themes/theme17/bg.gif', profile_background_tile=False, profile_image_url='http://pbs.twimg.com/profile_images/1393195870682705922/HJ1yOhyd_normal.jpg', profile_image_url_https='https://pbs.twimg.com/profile_images/1393195870682705922/HJ1yOhyd_normal.jpg', profile_banner_url='https://pbs.twimg.com/profile_banners/249574631/1621000296', profile_link_color='CC3366', profile_sidebar_border_color='DBE9ED', profile_sidebar_fill_color='E6F6F9', profile_text_color='333333', profile_use_background_image=True, has_extended_profile=False, default_profile=False, default_profile_image=False, following=False, follow_request_sent=False, notifications=False, translator_type='none', withheld_in_countries=[]), geo=None, coordinates=None, place=None, contributors=None, is_quote_status=False, retweet_count=2, favorite_count=22, favorited=False, retweeted=False, lang='en')\n",
      "=================================================\n",
      "Status(_api=<tweepy.api.API object at 0x000001CA436A9490>, _json={'created_at': 'Fri Jul 09 07:38:19 +0000 2021', 'id': 1413402117579018243, 'id_str': '1413402117579018243', 'full_text': 'If this was asked by #COVAXIN or #COVISHIELD makers @INCIndia\"and @RahulGandhi would have shouted #Corruption Pfizer says it will seek FDA approval for a COVID-19 vaccine booster dose\"  https://t.co/3L7pIBUZqv', 'truncated': False, 'display_text_range': [0, 209], 'entities': {'hashtags': [{'text': 'COVAXIN', 'indices': [21, 29]}, {'text': 'COVISHIELD', 'indices': [33, 44]}, {'text': 'Corruption', 'indices': [98, 109]}], 'symbols': [], 'user_mentions': [{'screen_name': 'INCIndia', 'name': 'Congress', 'id': 1153045459, 'id_str': '1153045459', 'indices': [52, 61]}, {'screen_name': 'RahulGandhi', 'name': 'Rahul Gandhi', 'id': 3171712086, 'id_str': '3171712086', 'indices': [66, 78]}], 'urls': [{'url': 'https://t.co/3L7pIBUZqv', 'expanded_url': 'https://twitter.com/i/events/1413253270546509826', 'display_url': 'twitter.com/i/events/14132…', 'indices': [186, 209]}]}, 'metadata': {'iso_language_code': 'en', 'result_type': 'recent'}, 'source': '<a href=\"http://twitter.com/download/android\" rel=\"nofollow\">Twitter for Android</a>', 'in_reply_to_status_id': None, 'in_reply_to_status_id_str': None, 'in_reply_to_user_id': None, 'in_reply_to_user_id_str': None, 'in_reply_to_screen_name': None, 'user': {'id': 1385443454, 'id_str': '1385443454', 'name': 'Arihant Dudhodia', 'screen_name': 'ArihantDudhodia', 'location': 'Chennai', 'description': '', 'url': None, 'entities': {'description': {'urls': []}}, 'protected': False, 'followers_count': 122, 'friends_count': 59, 'listed_count': 4, 'created_at': 'Sat Apr 27 20:54:38 +0000 2013', 'favourites_count': 511, 'utc_offset': None, 'time_zone': None, 'geo_enabled': False, 'verified': False, 'statuses_count': 2114, 'lang': None, 'contributors_enabled': False, 'is_translator': False, 'is_translation_enabled': False, 'profile_background_color': 'C0DEED', 'profile_background_image_url': 'http://abs.twimg.com/images/themes/theme1/bg.png', 'profile_background_image_url_https': 'https://abs.twimg.com/images/themes/theme1/bg.png', 'profile_background_tile': False, 'profile_image_url': 'http://pbs.twimg.com/profile_images/1155523990305136640/9Ok1GKdV_normal.jpg', 'profile_image_url_https': 'https://pbs.twimg.com/profile_images/1155523990305136640/9Ok1GKdV_normal.jpg', 'profile_banner_url': 'https://pbs.twimg.com/profile_banners/1385443454/1587963344', 'profile_link_color': '1DA1F2', 'profile_sidebar_border_color': 'C0DEED', 'profile_sidebar_fill_color': 'DDEEF6', 'profile_text_color': '333333', 'profile_use_background_image': True, 'has_extended_profile': False, 'default_profile': True, 'default_profile_image': False, 'following': False, 'follow_request_sent': False, 'notifications': False, 'translator_type': 'none', 'withheld_in_countries': []}, 'geo': None, 'coordinates': None, 'place': None, 'contributors': None, 'is_quote_status': False, 'retweet_count': 1, 'favorite_count': 0, 'favorited': False, 'retweeted': False, 'possibly_sensitive': False, 'lang': 'en'}, created_at=datetime.datetime(2021, 7, 9, 7, 38, 19), id=1413402117579018243, id_str='1413402117579018243', full_text='If this was asked by #COVAXIN or #COVISHIELD makers @INCIndia\"and @RahulGandhi would have shouted #Corruption Pfizer says it will seek FDA approval for a COVID-19 vaccine booster dose\"  https://t.co/3L7pIBUZqv', truncated=False, display_text_range=[0, 209], entities={'hashtags': [{'text': 'COVAXIN', 'indices': [21, 29]}, {'text': 'COVISHIELD', 'indices': [33, 44]}, {'text': 'Corruption', 'indices': [98, 109]}], 'symbols': [], 'user_mentions': [{'screen_name': 'INCIndia', 'name': 'Congress', 'id': 1153045459, 'id_str': '1153045459', 'indices': [52, 61]}, {'screen_name': 'RahulGandhi', 'name': 'Rahul Gandhi', 'id': 3171712086, 'id_str': '3171712086', 'indices': [66, 78]}], 'urls': [{'url': 'https://t.co/3L7pIBUZqv', 'expanded_url': 'https://twitter.com/i/events/1413253270546509826', 'display_url': 'twitter.com/i/events/14132…', 'indices': [186, 209]}]}, metadata={'iso_language_code': 'en', 'result_type': 'recent'}, source='Twitter for Android', source_url='http://twitter.com/download/android', in_reply_to_status_id=None, in_reply_to_status_id_str=None, in_reply_to_user_id=None, in_reply_to_user_id_str=None, in_reply_to_screen_name=None, author=User(_api=<tweepy.api.API object at 0x000001CA436A9490>, _json={'id': 1385443454, 'id_str': '1385443454', 'name': 'Arihant Dudhodia', 'screen_name': 'ArihantDudhodia', 'location': 'Chennai', 'description': '', 'url': None, 'entities': {'description': {'urls': []}}, 'protected': False, 'followers_count': 122, 'friends_count': 59, 'listed_count': 4, 'created_at': 'Sat Apr 27 20:54:38 +0000 2013', 'favourites_count': 511, 'utc_offset': None, 'time_zone': None, 'geo_enabled': False, 'verified': False, 'statuses_count': 2114, 'lang': None, 'contributors_enabled': False, 'is_translator': False, 'is_translation_enabled': False, 'profile_background_color': 'C0DEED', 'profile_background_image_url': 'http://abs.twimg.com/images/themes/theme1/bg.png', 'profile_background_image_url_https': 'https://abs.twimg.com/images/themes/theme1/bg.png', 'profile_background_tile': False, 'profile_image_url': 'http://pbs.twimg.com/profile_images/1155523990305136640/9Ok1GKdV_normal.jpg', 'profile_image_url_https': 'https://pbs.twimg.com/profile_images/1155523990305136640/9Ok1GKdV_normal.jpg', 'profile_banner_url': 'https://pbs.twimg.com/profile_banners/1385443454/1587963344', 'profile_link_color': '1DA1F2', 'profile_sidebar_border_color': 'C0DEED', 'profile_sidebar_fill_color': 'DDEEF6', 'profile_text_color': '333333', 'profile_use_background_image': True, 'has_extended_profile': False, 'default_profile': True, 'default_profile_image': False, 'following': False, 'follow_request_sent': False, 'notifications': False, 'translator_type': 'none', 'withheld_in_countries': []}, id=1385443454, id_str='1385443454', name='Arihant Dudhodia', screen_name='ArihantDudhodia', location='Chennai', description='', url=None, entities={'description': {'urls': []}}, protected=False, followers_count=122, friends_count=59, listed_count=4, created_at=datetime.datetime(2013, 4, 27, 20, 54, 38), favourites_count=511, utc_offset=None, time_zone=None, geo_enabled=False, verified=False, statuses_count=2114, lang=None, contributors_enabled=False, is_translator=False, is_translation_enabled=False, profile_background_color='C0DEED', profile_background_image_url='http://abs.twimg.com/images/themes/theme1/bg.png', profile_background_image_url_https='https://abs.twimg.com/images/themes/theme1/bg.png', profile_background_tile=False, profile_image_url='http://pbs.twimg.com/profile_images/1155523990305136640/9Ok1GKdV_normal.jpg', profile_image_url_https='https://pbs.twimg.com/profile_images/1155523990305136640/9Ok1GKdV_normal.jpg', profile_banner_url='https://pbs.twimg.com/profile_banners/1385443454/1587963344', profile_link_color='1DA1F2', profile_sidebar_border_color='C0DEED', profile_sidebar_fill_color='DDEEF6', profile_text_color='333333', profile_use_background_image=True, has_extended_profile=False, default_profile=True, default_profile_image=False, following=False, follow_request_sent=False, notifications=False, translator_type='none', withheld_in_countries=[]), user=User(_api=<tweepy.api.API object at 0x000001CA436A9490>, _json={'id': 1385443454, 'id_str': '1385443454', 'name': 'Arihant Dudhodia', 'screen_name': 'ArihantDudhodia', 'location': 'Chennai', 'description': '', 'url': None, 'entities': {'description': {'urls': []}}, 'protected': False, 'followers_count': 122, 'friends_count': 59, 'listed_count': 4, 'created_at': 'Sat Apr 27 20:54:38 +0000 2013', 'favourites_count': 511, 'utc_offset': None, 'time_zone': None, 'geo_enabled': False, 'verified': False, 'statuses_count': 2114, 'lang': None, 'contributors_enabled': False, 'is_translator': False, 'is_translation_enabled': False, 'profile_background_color': 'C0DEED', 'profile_background_image_url': 'http://abs.twimg.com/images/themes/theme1/bg.png', 'profile_background_image_url_https': 'https://abs.twimg.com/images/themes/theme1/bg.png', 'profile_background_tile': False, 'profile_image_url': 'http://pbs.twimg.com/profile_images/1155523990305136640/9Ok1GKdV_normal.jpg', 'profile_image_url_https': 'https://pbs.twimg.com/profile_images/1155523990305136640/9Ok1GKdV_normal.jpg', 'profile_banner_url': 'https://pbs.twimg.com/profile_banners/1385443454/1587963344', 'profile_link_color': '1DA1F2', 'profile_sidebar_border_color': 'C0DEED', 'profile_sidebar_fill_color': 'DDEEF6', 'profile_text_color': '333333', 'profile_use_background_image': True, 'has_extended_profile': False, 'default_profile': True, 'default_profile_image': False, 'following': False, 'follow_request_sent': False, 'notifications': False, 'translator_type': 'none', 'withheld_in_countries': []}, id=1385443454, id_str='1385443454', name='Arihant Dudhodia', screen_name='ArihantDudhodia', location='Chennai', description='', url=None, entities={'description': {'urls': []}}, protected=False, followers_count=122, friends_count=59, listed_count=4, created_at=datetime.datetime(2013, 4, 27, 20, 54, 38), favourites_count=511, utc_offset=None, time_zone=None, geo_enabled=False, verified=False, statuses_count=2114, lang=None, contributors_enabled=False, is_translator=False, is_translation_enabled=False, profile_background_color='C0DEED', profile_background_image_url='http://abs.twimg.com/images/themes/theme1/bg.png', profile_background_image_url_https='https://abs.twimg.com/images/themes/theme1/bg.png', profile_background_tile=False, profile_image_url='http://pbs.twimg.com/profile_images/1155523990305136640/9Ok1GKdV_normal.jpg', profile_image_url_https='https://pbs.twimg.com/profile_images/1155523990305136640/9Ok1GKdV_normal.jpg', profile_banner_url='https://pbs.twimg.com/profile_banners/1385443454/1587963344', profile_link_color='1DA1F2', profile_sidebar_border_color='C0DEED', profile_sidebar_fill_color='DDEEF6', profile_text_color='333333', profile_use_background_image=True, has_extended_profile=False, default_profile=True, default_profile_image=False, following=False, follow_request_sent=False, notifications=False, translator_type='none', withheld_in_countries=[]), geo=None, coordinates=None, place=None, contributors=None, is_quote_status=False, retweet_count=1, favorite_count=0, favorited=False, retweeted=False, possibly_sensitive=False, lang='en')\n",
      "=================================================\n",
      "Status(_api=<tweepy.api.API object at 0x000001CA436A9490>, _json={'created_at': 'Fri Jul 09 05:35:00 +0000 2021', 'id': 1413371084020363270, 'id_str': '1413371084020363270', 'full_text': '@SumiSukanya Renowned virologist Dr Shahid Jameel said that the third shot of vaccine could be a combination of “either #Covaxin, for those who have taken #Covishield, or any other mRNA vaccine, or the protein vaccine.\\n@chetanabelagere  \\nhttps://t.co/jKedlZxLal', 'truncated': False, 'display_text_range': [13, 261], 'entities': {'hashtags': [{'text': 'Covaxin', 'indices': [120, 128]}, {'text': 'Covishield', 'indices': [155, 166]}], 'symbols': [], 'user_mentions': [{'screen_name': 'SumiSukanya', 'name': 'Sumi Dutta', 'id': 1005884292, 'id_str': '1005884292', 'indices': [0, 12]}, {'screen_name': 'chetanabelagere', 'name': 'Chetana Belagere', 'id': 77175366, 'id_str': '77175366', 'indices': [219, 235]}], 'urls': [{'url': 'https://t.co/jKedlZxLal', 'expanded_url': 'https://www.newindianexpress.com/nation/2021/jul/09/covid-vaccine-booster-shot-should-be-different-renowned-virologistdr-shahid-jameel-2327572.html', 'display_url': 'newindianexpress.com/nation/2021/ju…', 'indices': [238, 261]}]}, 'metadata': {'iso_language_code': 'en', 'result_type': 'recent'}, 'source': '<a href=\"https://mobile.twitter.com\" rel=\"nofollow\">Twitter Web App</a>', 'in_reply_to_status_id': 1411345235020374017, 'in_reply_to_status_id_str': '1411345235020374017', 'in_reply_to_user_id': 94761188, 'in_reply_to_user_id_str': '94761188', 'in_reply_to_screen_name': 'NewIndianXpress', 'user': {'id': 94761188, 'id_str': '94761188', 'name': 'The New Indian Express', 'screen_name': 'NewIndianXpress', 'location': 'Chennai', 'description': 'All the tweets for breaking news & views.\\nFacebook: https://t.co/IOn1ngto5t\\n\\nTelegram: https://t.co/vUakmQcAqt', 'url': 'https://t.co/bThxeYSjGT', 'entities': {'url': {'urls': [{'url': 'https://t.co/bThxeYSjGT', 'expanded_url': 'http://www.newindianexpress.com', 'display_url': 'newindianexpress.com', 'indices': [0, 23]}]}, 'description': {'urls': [{'url': 'https://t.co/IOn1ngto5t', 'expanded_url': 'https://www.facebook.com/thenewindianxpress/', 'display_url': 'facebook.com/thenewindianxp…', 'indices': [52, 75]}, {'url': 'https://t.co/vUakmQcAqt', 'expanded_url': 'http://t.me/thenewindianexpress', 'display_url': 't.me/thenewindianex…', 'indices': [87, 110]}]}}, 'protected': False, 'followers_count': 467311, 'friends_count': 545, 'listed_count': 1528, 'created_at': 'Sat Dec 05 09:24:55 +0000 2009', 'favourites_count': 543, 'utc_offset': None, 'time_zone': None, 'geo_enabled': True, 'verified': True, 'statuses_count': 639412, 'lang': None, 'contributors_enabled': False, 'is_translator': False, 'is_translation_enabled': False, 'profile_background_color': '022330', 'profile_background_image_url': 'http://abs.twimg.com/images/themes/theme15/bg.png', 'profile_background_image_url_https': 'https://abs.twimg.com/images/themes/theme15/bg.png', 'profile_background_tile': True, 'profile_image_url': 'http://pbs.twimg.com/profile_images/1094836139217711105/gDLAVTWn_normal.jpg', 'profile_image_url_https': 'https://pbs.twimg.com/profile_images/1094836139217711105/gDLAVTWn_normal.jpg', 'profile_banner_url': 'https://pbs.twimg.com/profile_banners/94761188/1625246700', 'profile_link_color': '0000FF', 'profile_sidebar_border_color': 'FFFFFF', 'profile_sidebar_fill_color': 'C0DFEC', 'profile_text_color': '333333', 'profile_use_background_image': True, 'has_extended_profile': False, 'default_profile': False, 'default_profile_image': False, 'following': False, 'follow_request_sent': False, 'notifications': False, 'translator_type': 'none', 'withheld_in_countries': []}, 'geo': None, 'coordinates': None, 'place': None, 'contributors': None, 'is_quote_status': False, 'retweet_count': 4, 'favorite_count': 4, 'favorited': False, 'retweeted': False, 'possibly_sensitive': False, 'lang': 'en'}, created_at=datetime.datetime(2021, 7, 9, 5, 35), id=1413371084020363270, id_str='1413371084020363270', full_text='@SumiSukanya Renowned virologist Dr Shahid Jameel said that the third shot of vaccine could be a combination of “either #Covaxin, for those who have taken #Covishield, or any other mRNA vaccine, or the protein vaccine.\\n@chetanabelagere  \\nhttps://t.co/jKedlZxLal', truncated=False, display_text_range=[13, 261], entities={'hashtags': [{'text': 'Covaxin', 'indices': [120, 128]}, {'text': 'Covishield', 'indices': [155, 166]}], 'symbols': [], 'user_mentions': [{'screen_name': 'SumiSukanya', 'name': 'Sumi Dutta', 'id': 1005884292, 'id_str': '1005884292', 'indices': [0, 12]}, {'screen_name': 'chetanabelagere', 'name': 'Chetana Belagere', 'id': 77175366, 'id_str': '77175366', 'indices': [219, 235]}], 'urls': [{'url': 'https://t.co/jKedlZxLal', 'expanded_url': 'https://www.newindianexpress.com/nation/2021/jul/09/covid-vaccine-booster-shot-should-be-different-renowned-virologistdr-shahid-jameel-2327572.html', 'display_url': 'newindianexpress.com/nation/2021/ju…', 'indices': [238, 261]}]}, metadata={'iso_language_code': 'en', 'result_type': 'recent'}, source='Twitter Web App', source_url='https://mobile.twitter.com', in_reply_to_status_id=1411345235020374017, in_reply_to_status_id_str='1411345235020374017', in_reply_to_user_id=94761188, in_reply_to_user_id_str='94761188', in_reply_to_screen_name='NewIndianXpress', author=User(_api=<tweepy.api.API object at 0x000001CA436A9490>, _json={'id': 94761188, 'id_str': '94761188', 'name': 'The New Indian Express', 'screen_name': 'NewIndianXpress', 'location': 'Chennai', 'description': 'All the tweets for breaking news & views.\\nFacebook: https://t.co/IOn1ngto5t\\n\\nTelegram: https://t.co/vUakmQcAqt', 'url': 'https://t.co/bThxeYSjGT', 'entities': {'url': {'urls': [{'url': 'https://t.co/bThxeYSjGT', 'expanded_url': 'http://www.newindianexpress.com', 'display_url': 'newindianexpress.com', 'indices': [0, 23]}]}, 'description': {'urls': [{'url': 'https://t.co/IOn1ngto5t', 'expanded_url': 'https://www.facebook.com/thenewindianxpress/', 'display_url': 'facebook.com/thenewindianxp…', 'indices': [52, 75]}, {'url': 'https://t.co/vUakmQcAqt', 'expanded_url': 'http://t.me/thenewindianexpress', 'display_url': 't.me/thenewindianex…', 'indices': [87, 110]}]}}, 'protected': False, 'followers_count': 467311, 'friends_count': 545, 'listed_count': 1528, 'created_at': 'Sat Dec 05 09:24:55 +0000 2009', 'favourites_count': 543, 'utc_offset': None, 'time_zone': None, 'geo_enabled': True, 'verified': True, 'statuses_count': 639412, 'lang': None, 'contributors_enabled': False, 'is_translator': False, 'is_translation_enabled': False, 'profile_background_color': '022330', 'profile_background_image_url': 'http://abs.twimg.com/images/themes/theme15/bg.png', 'profile_background_image_url_https': 'https://abs.twimg.com/images/themes/theme15/bg.png', 'profile_background_tile': True, 'profile_image_url': 'http://pbs.twimg.com/profile_images/1094836139217711105/gDLAVTWn_normal.jpg', 'profile_image_url_https': 'https://pbs.twimg.com/profile_images/1094836139217711105/gDLAVTWn_normal.jpg', 'profile_banner_url': 'https://pbs.twimg.com/profile_banners/94761188/1625246700', 'profile_link_color': '0000FF', 'profile_sidebar_border_color': 'FFFFFF', 'profile_sidebar_fill_color': 'C0DFEC', 'profile_text_color': '333333', 'profile_use_background_image': True, 'has_extended_profile': False, 'default_profile': False, 'default_profile_image': False, 'following': False, 'follow_request_sent': False, 'notifications': False, 'translator_type': 'none', 'withheld_in_countries': []}, id=94761188, id_str='94761188', name='The New Indian Express', screen_name='NewIndianXpress', location='Chennai', description='All the tweets for breaking news & views.\\nFacebook: https://t.co/IOn1ngto5t\\n\\nTelegram: https://t.co/vUakmQcAqt', url='https://t.co/bThxeYSjGT', entities={'url': {'urls': [{'url': 'https://t.co/bThxeYSjGT', 'expanded_url': 'http://www.newindianexpress.com', 'display_url': 'newindianexpress.com', 'indices': [0, 23]}]}, 'description': {'urls': [{'url': 'https://t.co/IOn1ngto5t', 'expanded_url': 'https://www.facebook.com/thenewindianxpress/', 'display_url': 'facebook.com/thenewindianxp…', 'indices': [52, 75]}, {'url': 'https://t.co/vUakmQcAqt', 'expanded_url': 'http://t.me/thenewindianexpress', 'display_url': 't.me/thenewindianex…', 'indices': [87, 110]}]}}, protected=False, followers_count=467311, friends_count=545, listed_count=1528, created_at=datetime.datetime(2009, 12, 5, 9, 24, 55), favourites_count=543, utc_offset=None, time_zone=None, geo_enabled=True, verified=True, statuses_count=639412, lang=None, contributors_enabled=False, is_translator=False, is_translation_enabled=False, profile_background_color='022330', profile_background_image_url='http://abs.twimg.com/images/themes/theme15/bg.png', profile_background_image_url_https='https://abs.twimg.com/images/themes/theme15/bg.png', profile_background_tile=True, profile_image_url='http://pbs.twimg.com/profile_images/1094836139217711105/gDLAVTWn_normal.jpg', profile_image_url_https='https://pbs.twimg.com/profile_images/1094836139217711105/gDLAVTWn_normal.jpg', profile_banner_url='https://pbs.twimg.com/profile_banners/94761188/1625246700', profile_link_color='0000FF', profile_sidebar_border_color='FFFFFF', profile_sidebar_fill_color='C0DFEC', profile_text_color='333333', profile_use_background_image=True, has_extended_profile=False, default_profile=False, default_profile_image=False, following=False, follow_request_sent=False, notifications=False, translator_type='none', withheld_in_countries=[]), user=User(_api=<tweepy.api.API object at 0x000001CA436A9490>, _json={'id': 94761188, 'id_str': '94761188', 'name': 'The New Indian Express', 'screen_name': 'NewIndianXpress', 'location': 'Chennai', 'description': 'All the tweets for breaking news & views.\\nFacebook: https://t.co/IOn1ngto5t\\n\\nTelegram: https://t.co/vUakmQcAqt', 'url': 'https://t.co/bThxeYSjGT', 'entities': {'url': {'urls': [{'url': 'https://t.co/bThxeYSjGT', 'expanded_url': 'http://www.newindianexpress.com', 'display_url': 'newindianexpress.com', 'indices': [0, 23]}]}, 'description': {'urls': [{'url': 'https://t.co/IOn1ngto5t', 'expanded_url': 'https://www.facebook.com/thenewindianxpress/', 'display_url': 'facebook.com/thenewindianxp…', 'indices': [52, 75]}, {'url': 'https://t.co/vUakmQcAqt', 'expanded_url': 'http://t.me/thenewindianexpress', 'display_url': 't.me/thenewindianex…', 'indices': [87, 110]}]}}, 'protected': False, 'followers_count': 467311, 'friends_count': 545, 'listed_count': 1528, 'created_at': 'Sat Dec 05 09:24:55 +0000 2009', 'favourites_count': 543, 'utc_offset': None, 'time_zone': None, 'geo_enabled': True, 'verified': True, 'statuses_count': 639412, 'lang': None, 'contributors_enabled': False, 'is_translator': False, 'is_translation_enabled': False, 'profile_background_color': '022330', 'profile_background_image_url': 'http://abs.twimg.com/images/themes/theme15/bg.png', 'profile_background_image_url_https': 'https://abs.twimg.com/images/themes/theme15/bg.png', 'profile_background_tile': True, 'profile_image_url': 'http://pbs.twimg.com/profile_images/1094836139217711105/gDLAVTWn_normal.jpg', 'profile_image_url_https': 'https://pbs.twimg.com/profile_images/1094836139217711105/gDLAVTWn_normal.jpg', 'profile_banner_url': 'https://pbs.twimg.com/profile_banners/94761188/1625246700', 'profile_link_color': '0000FF', 'profile_sidebar_border_color': 'FFFFFF', 'profile_sidebar_fill_color': 'C0DFEC', 'profile_text_color': '333333', 'profile_use_background_image': True, 'has_extended_profile': False, 'default_profile': False, 'default_profile_image': False, 'following': False, 'follow_request_sent': False, 'notifications': False, 'translator_type': 'none', 'withheld_in_countries': []}, id=94761188, id_str='94761188', name='The New Indian Express', screen_name='NewIndianXpress', location='Chennai', description='All the tweets for breaking news & views.\\nFacebook: https://t.co/IOn1ngto5t\\n\\nTelegram: https://t.co/vUakmQcAqt', url='https://t.co/bThxeYSjGT', entities={'url': {'urls': [{'url': 'https://t.co/bThxeYSjGT', 'expanded_url': 'http://www.newindianexpress.com', 'display_url': 'newindianexpress.com', 'indices': [0, 23]}]}, 'description': {'urls': [{'url': 'https://t.co/IOn1ngto5t', 'expanded_url': 'https://www.facebook.com/thenewindianxpress/', 'display_url': 'facebook.com/thenewindianxp…', 'indices': [52, 75]}, {'url': 'https://t.co/vUakmQcAqt', 'expanded_url': 'http://t.me/thenewindianexpress', 'display_url': 't.me/thenewindianex…', 'indices': [87, 110]}]}}, protected=False, followers_count=467311, friends_count=545, listed_count=1528, created_at=datetime.datetime(2009, 12, 5, 9, 24, 55), favourites_count=543, utc_offset=None, time_zone=None, geo_enabled=True, verified=True, statuses_count=639412, lang=None, contributors_enabled=False, is_translator=False, is_translation_enabled=False, profile_background_color='022330', profile_background_image_url='http://abs.twimg.com/images/themes/theme15/bg.png', profile_background_image_url_https='https://abs.twimg.com/images/themes/theme15/bg.png', profile_background_tile=True, profile_image_url='http://pbs.twimg.com/profile_images/1094836139217711105/gDLAVTWn_normal.jpg', profile_image_url_https='https://pbs.twimg.com/profile_images/1094836139217711105/gDLAVTWn_normal.jpg', profile_banner_url='https://pbs.twimg.com/profile_banners/94761188/1625246700', profile_link_color='0000FF', profile_sidebar_border_color='FFFFFF', profile_sidebar_fill_color='C0DFEC', profile_text_color='333333', profile_use_background_image=True, has_extended_profile=False, default_profile=False, default_profile_image=False, following=False, follow_request_sent=False, notifications=False, translator_type='none', withheld_in_countries=[]), geo=None, coordinates=None, place=None, contributors=None, is_quote_status=False, retweet_count=4, favorite_count=4, favorited=False, retweeted=False, possibly_sensitive=False, lang='en')\n",
      "=================================================\n",
      "Status(_api=<tweepy.api.API object at 0x000001CA436A9490>, _json={'created_at': 'Fri Jul 09 02:33:58 +0000 2021', 'id': 1413325525079236617, 'id_str': '1413325525079236617', 'full_text': 'A new study has found that a single shot of Pfizer-BioNTech or AstraZeneca vaccines for Covid-19 “barely” work against the Delta variant of the deadly virus. \\n\\nFollow LIVE on #CoronavirusUpdates :\\n\\nhttps://t.co/aSUIris4Ux', 'truncated': False, 'display_text_range': [0, 221], 'entities': {'hashtags': [{'text': 'CoronavirusUpdates', 'indices': [175, 194]}], 'symbols': [], 'user_mentions': [], 'urls': [{'url': 'https://t.co/aSUIris4Ux', 'expanded_url': 'https://www.news18.com/news/india/coronavirus-live-updates-covid19-pfizer-vaccine-delta-variant-covaxin-covishield-daily-count-deaths-3942803.html', 'display_url': 'news18.com/news/india/cor…', 'indices': [198, 221]}]}, 'metadata': {'iso_language_code': 'en', 'result_type': 'recent'}, 'source': '<a href=\"https://about.twitter.com/products/tweetdeck\" rel=\"nofollow\">TweetDeck</a>', 'in_reply_to_status_id': None, 'in_reply_to_status_id_str': None, 'in_reply_to_user_id': None, 'in_reply_to_user_id_str': None, 'in_reply_to_screen_name': None, 'user': {'id': 284920800, 'id_str': '284920800', 'name': 'News18.com', 'screen_name': 'news18dotcom', 'location': 'India', 'description': \"More than just news, analysis & opinion. The digital platform of @CNNnews18\\n\\nWe're now on Telegram: https://t.co/4JMWUefhbD\", 'url': 'https://t.co/0HnxPgwuLD', 'entities': {'url': {'urls': [{'url': 'https://t.co/0HnxPgwuLD', 'expanded_url': 'https://www.news18.com', 'display_url': 'news18.com', 'indices': [0, 23]}]}, 'description': {'urls': [{'url': 'https://t.co/4JMWUefhbD', 'expanded_url': 'https://t.me/news18dotcom', 'display_url': 't.me/news18dotcom', 'indices': [100, 123]}]}}, 'protected': False, 'followers_count': 152794, 'friends_count': 168, 'listed_count': 836, 'created_at': 'Wed Apr 20 06:14:32 +0000 2011', 'favourites_count': 44, 'utc_offset': None, 'time_zone': None, 'geo_enabled': False, 'verified': True, 'statuses_count': 214039, 'lang': None, 'contributors_enabled': False, 'is_translator': False, 'is_translation_enabled': False, 'profile_background_color': 'C0DEED', 'profile_background_image_url': 'http://abs.twimg.com/images/themes/theme1/bg.png', 'profile_background_image_url_https': 'https://abs.twimg.com/images/themes/theme1/bg.png', 'profile_background_tile': False, 'profile_image_url': 'http://pbs.twimg.com/profile_images/1162274270212308993/VISZ-o80_normal.jpg', 'profile_image_url_https': 'https://pbs.twimg.com/profile_images/1162274270212308993/VISZ-o80_normal.jpg', 'profile_banner_url': 'https://pbs.twimg.com/profile_banners/284920800/1616386350', 'profile_link_color': '1DA1F2', 'profile_sidebar_border_color': 'C0DEED', 'profile_sidebar_fill_color': 'DDEEF6', 'profile_text_color': '333333', 'profile_use_background_image': True, 'has_extended_profile': False, 'default_profile': True, 'default_profile_image': False, 'following': False, 'follow_request_sent': False, 'notifications': False, 'translator_type': 'none', 'withheld_in_countries': []}, 'geo': None, 'coordinates': None, 'place': None, 'contributors': None, 'is_quote_status': False, 'retweet_count': 1, 'favorite_count': 3, 'favorited': False, 'retweeted': False, 'possibly_sensitive': False, 'lang': 'en'}, created_at=datetime.datetime(2021, 7, 9, 2, 33, 58), id=1413325525079236617, id_str='1413325525079236617', full_text='A new study has found that a single shot of Pfizer-BioNTech or AstraZeneca vaccines for Covid-19 “barely” work against the Delta variant of the deadly virus. \\n\\nFollow LIVE on #CoronavirusUpdates :\\n\\nhttps://t.co/aSUIris4Ux', truncated=False, display_text_range=[0, 221], entities={'hashtags': [{'text': 'CoronavirusUpdates', 'indices': [175, 194]}], 'symbols': [], 'user_mentions': [], 'urls': [{'url': 'https://t.co/aSUIris4Ux', 'expanded_url': 'https://www.news18.com/news/india/coronavirus-live-updates-covid19-pfizer-vaccine-delta-variant-covaxin-covishield-daily-count-deaths-3942803.html', 'display_url': 'news18.com/news/india/cor…', 'indices': [198, 221]}]}, metadata={'iso_language_code': 'en', 'result_type': 'recent'}, source='TweetDeck', source_url='https://about.twitter.com/products/tweetdeck', in_reply_to_status_id=None, in_reply_to_status_id_str=None, in_reply_to_user_id=None, in_reply_to_user_id_str=None, in_reply_to_screen_name=None, author=User(_api=<tweepy.api.API object at 0x000001CA436A9490>, _json={'id': 284920800, 'id_str': '284920800', 'name': 'News18.com', 'screen_name': 'news18dotcom', 'location': 'India', 'description': \"More than just news, analysis & opinion. The digital platform of @CNNnews18\\n\\nWe're now on Telegram: https://t.co/4JMWUefhbD\", 'url': 'https://t.co/0HnxPgwuLD', 'entities': {'url': {'urls': [{'url': 'https://t.co/0HnxPgwuLD', 'expanded_url': 'https://www.news18.com', 'display_url': 'news18.com', 'indices': [0, 23]}]}, 'description': {'urls': [{'url': 'https://t.co/4JMWUefhbD', 'expanded_url': 'https://t.me/news18dotcom', 'display_url': 't.me/news18dotcom', 'indices': [100, 123]}]}}, 'protected': False, 'followers_count': 152794, 'friends_count': 168, 'listed_count': 836, 'created_at': 'Wed Apr 20 06:14:32 +0000 2011', 'favourites_count': 44, 'utc_offset': None, 'time_zone': None, 'geo_enabled': False, 'verified': True, 'statuses_count': 214039, 'lang': None, 'contributors_enabled': False, 'is_translator': False, 'is_translation_enabled': False, 'profile_background_color': 'C0DEED', 'profile_background_image_url': 'http://abs.twimg.com/images/themes/theme1/bg.png', 'profile_background_image_url_https': 'https://abs.twimg.com/images/themes/theme1/bg.png', 'profile_background_tile': False, 'profile_image_url': 'http://pbs.twimg.com/profile_images/1162274270212308993/VISZ-o80_normal.jpg', 'profile_image_url_https': 'https://pbs.twimg.com/profile_images/1162274270212308993/VISZ-o80_normal.jpg', 'profile_banner_url': 'https://pbs.twimg.com/profile_banners/284920800/1616386350', 'profile_link_color': '1DA1F2', 'profile_sidebar_border_color': 'C0DEED', 'profile_sidebar_fill_color': 'DDEEF6', 'profile_text_color': '333333', 'profile_use_background_image': True, 'has_extended_profile': False, 'default_profile': True, 'default_profile_image': False, 'following': False, 'follow_request_sent': False, 'notifications': False, 'translator_type': 'none', 'withheld_in_countries': []}, id=284920800, id_str='284920800', name='News18.com', screen_name='news18dotcom', location='India', description=\"More than just news, analysis & opinion. The digital platform of @CNNnews18\\n\\nWe're now on Telegram: https://t.co/4JMWUefhbD\", url='https://t.co/0HnxPgwuLD', entities={'url': {'urls': [{'url': 'https://t.co/0HnxPgwuLD', 'expanded_url': 'https://www.news18.com', 'display_url': 'news18.com', 'indices': [0, 23]}]}, 'description': {'urls': [{'url': 'https://t.co/4JMWUefhbD', 'expanded_url': 'https://t.me/news18dotcom', 'display_url': 't.me/news18dotcom', 'indices': [100, 123]}]}}, protected=False, followers_count=152794, friends_count=168, listed_count=836, created_at=datetime.datetime(2011, 4, 20, 6, 14, 32), favourites_count=44, utc_offset=None, time_zone=None, geo_enabled=False, verified=True, statuses_count=214039, lang=None, contributors_enabled=False, is_translator=False, is_translation_enabled=False, profile_background_color='C0DEED', profile_background_image_url='http://abs.twimg.com/images/themes/theme1/bg.png', profile_background_image_url_https='https://abs.twimg.com/images/themes/theme1/bg.png', profile_background_tile=False, profile_image_url='http://pbs.twimg.com/profile_images/1162274270212308993/VISZ-o80_normal.jpg', profile_image_url_https='https://pbs.twimg.com/profile_images/1162274270212308993/VISZ-o80_normal.jpg', profile_banner_url='https://pbs.twimg.com/profile_banners/284920800/1616386350', profile_link_color='1DA1F2', profile_sidebar_border_color='C0DEED', profile_sidebar_fill_color='DDEEF6', profile_text_color='333333', profile_use_background_image=True, has_extended_profile=False, default_profile=True, default_profile_image=False, following=False, follow_request_sent=False, notifications=False, translator_type='none', withheld_in_countries=[]), user=User(_api=<tweepy.api.API object at 0x000001CA436A9490>, _json={'id': 284920800, 'id_str': '284920800', 'name': 'News18.com', 'screen_name': 'news18dotcom', 'location': 'India', 'description': \"More than just news, analysis & opinion. The digital platform of @CNNnews18\\n\\nWe're now on Telegram: https://t.co/4JMWUefhbD\", 'url': 'https://t.co/0HnxPgwuLD', 'entities': {'url': {'urls': [{'url': 'https://t.co/0HnxPgwuLD', 'expanded_url': 'https://www.news18.com', 'display_url': 'news18.com', 'indices': [0, 23]}]}, 'description': {'urls': [{'url': 'https://t.co/4JMWUefhbD', 'expanded_url': 'https://t.me/news18dotcom', 'display_url': 't.me/news18dotcom', 'indices': [100, 123]}]}}, 'protected': False, 'followers_count': 152794, 'friends_count': 168, 'listed_count': 836, 'created_at': 'Wed Apr 20 06:14:32 +0000 2011', 'favourites_count': 44, 'utc_offset': None, 'time_zone': None, 'geo_enabled': False, 'verified': True, 'statuses_count': 214039, 'lang': None, 'contributors_enabled': False, 'is_translator': False, 'is_translation_enabled': False, 'profile_background_color': 'C0DEED', 'profile_background_image_url': 'http://abs.twimg.com/images/themes/theme1/bg.png', 'profile_background_image_url_https': 'https://abs.twimg.com/images/themes/theme1/bg.png', 'profile_background_tile': False, 'profile_image_url': 'http://pbs.twimg.com/profile_images/1162274270212308993/VISZ-o80_normal.jpg', 'profile_image_url_https': 'https://pbs.twimg.com/profile_images/1162274270212308993/VISZ-o80_normal.jpg', 'profile_banner_url': 'https://pbs.twimg.com/profile_banners/284920800/1616386350', 'profile_link_color': '1DA1F2', 'profile_sidebar_border_color': 'C0DEED', 'profile_sidebar_fill_color': 'DDEEF6', 'profile_text_color': '333333', 'profile_use_background_image': True, 'has_extended_profile': False, 'default_profile': True, 'default_profile_image': False, 'following': False, 'follow_request_sent': False, 'notifications': False, 'translator_type': 'none', 'withheld_in_countries': []}, id=284920800, id_str='284920800', name='News18.com', screen_name='news18dotcom', location='India', description=\"More than just news, analysis & opinion. The digital platform of @CNNnews18\\n\\nWe're now on Telegram: https://t.co/4JMWUefhbD\", url='https://t.co/0HnxPgwuLD', entities={'url': {'urls': [{'url': 'https://t.co/0HnxPgwuLD', 'expanded_url': 'https://www.news18.com', 'display_url': 'news18.com', 'indices': [0, 23]}]}, 'description': {'urls': [{'url': 'https://t.co/4JMWUefhbD', 'expanded_url': 'https://t.me/news18dotcom', 'display_url': 't.me/news18dotcom', 'indices': [100, 123]}]}}, protected=False, followers_count=152794, friends_count=168, listed_count=836, created_at=datetime.datetime(2011, 4, 20, 6, 14, 32), favourites_count=44, utc_offset=None, time_zone=None, geo_enabled=False, verified=True, statuses_count=214039, lang=None, contributors_enabled=False, is_translator=False, is_translation_enabled=False, profile_background_color='C0DEED', profile_background_image_url='http://abs.twimg.com/images/themes/theme1/bg.png', profile_background_image_url_https='https://abs.twimg.com/images/themes/theme1/bg.png', profile_background_tile=False, profile_image_url='http://pbs.twimg.com/profile_images/1162274270212308993/VISZ-o80_normal.jpg', profile_image_url_https='https://pbs.twimg.com/profile_images/1162274270212308993/VISZ-o80_normal.jpg', profile_banner_url='https://pbs.twimg.com/profile_banners/284920800/1616386350', profile_link_color='1DA1F2', profile_sidebar_border_color='C0DEED', profile_sidebar_fill_color='DDEEF6', profile_text_color='333333', profile_use_background_image=True, has_extended_profile=False, default_profile=True, default_profile_image=False, following=False, follow_request_sent=False, notifications=False, translator_type='none', withheld_in_countries=[]), geo=None, coordinates=None, place=None, contributors=None, is_quote_status=False, retweet_count=1, favorite_count=3, favorited=False, retweeted=False, possibly_sensitive=False, lang='en')\n",
      "=================================================\n",
      "Status(_api=<tweepy.api.API object at 0x000001CA436A9490>, _json={'created_at': 'Thu Jul 08 15:29:57 +0000 2021', 'id': 1413158421793173508, 'id_str': '1413158421793173508', 'full_text': 'How many of you are Covid-19\\nvaccinated💉? &amp; from Which Vaccine Covaxin or Covishield? \\n\\n        Please Comment...👇👇', 'truncated': False, 'display_text_range': [0, 119], 'entities': {'hashtags': [], 'symbols': [], 'user_mentions': [], 'urls': []}, 'metadata': {'iso_language_code': 'en', 'result_type': 'recent'}, 'source': '<a href=\"http://twitter.com/download/android\" rel=\"nofollow\">Twitter for Android</a>', 'in_reply_to_status_id': None, 'in_reply_to_status_id_str': None, 'in_reply_to_user_id': None, 'in_reply_to_user_id_str': None, 'in_reply_to_screen_name': None, 'user': {'id': 1399769226378838020, 'id_str': '1399769226378838020', 'name': '⚡💓💫Mukul💫💓⚡😇😊🏏👋', 'screen_name': 'Mukul_10', 'location': \"My Mother's Land i.e Nature🌻\", 'description': '🕉️Medical Student⚕😇🎯✌️\\nFOLLOW FOR 💯 Follow 🔙 😎👍', 'url': None, 'entities': {'description': {'urls': []}}, 'protected': False, 'followers_count': 201, 'friends_count': 202, 'listed_count': 0, 'created_at': 'Tue Jun 01 16:46:13 +0000 2021', 'favourites_count': 1554, 'utc_offset': None, 'time_zone': None, 'geo_enabled': False, 'verified': False, 'statuses_count': 923, 'lang': None, 'contributors_enabled': False, 'is_translator': False, 'is_translation_enabled': False, 'profile_background_color': 'F5F8FA', 'profile_background_image_url': None, 'profile_background_image_url_https': None, 'profile_background_tile': False, 'profile_image_url': 'http://pbs.twimg.com/profile_images/1413861911649652743/x13MkubF_normal.jpg', 'profile_image_url_https': 'https://pbs.twimg.com/profile_images/1413861911649652743/x13MkubF_normal.jpg', 'profile_banner_url': 'https://pbs.twimg.com/profile_banners/1399769226378838020/1625488192', 'profile_link_color': '1DA1F2', 'profile_sidebar_border_color': 'C0DEED', 'profile_sidebar_fill_color': 'DDEEF6', 'profile_text_color': '333333', 'profile_use_background_image': True, 'has_extended_profile': True, 'default_profile': True, 'default_profile_image': False, 'following': False, 'follow_request_sent': False, 'notifications': False, 'translator_type': 'none', 'withheld_in_countries': []}, 'geo': None, 'coordinates': None, 'place': None, 'contributors': None, 'is_quote_status': False, 'retweet_count': 0, 'favorite_count': 1, 'favorited': False, 'retweeted': False, 'lang': 'en'}, created_at=datetime.datetime(2021, 7, 8, 15, 29, 57), id=1413158421793173508, id_str='1413158421793173508', full_text='How many of you are Covid-19\\nvaccinated💉? &amp; from Which Vaccine Covaxin or Covishield? \\n\\n        Please Comment...👇👇', truncated=False, display_text_range=[0, 119], entities={'hashtags': [], 'symbols': [], 'user_mentions': [], 'urls': []}, metadata={'iso_language_code': 'en', 'result_type': 'recent'}, source='Twitter for Android', source_url='http://twitter.com/download/android', in_reply_to_status_id=None, in_reply_to_status_id_str=None, in_reply_to_user_id=None, in_reply_to_user_id_str=None, in_reply_to_screen_name=None, author=User(_api=<tweepy.api.API object at 0x000001CA436A9490>, _json={'id': 1399769226378838020, 'id_str': '1399769226378838020', 'name': '⚡💓💫Mukul💫💓⚡😇😊🏏👋', 'screen_name': 'Mukul_10', 'location': \"My Mother's Land i.e Nature🌻\", 'description': '🕉️Medical Student⚕😇🎯✌️\\nFOLLOW FOR 💯 Follow 🔙 😎👍', 'url': None, 'entities': {'description': {'urls': []}}, 'protected': False, 'followers_count': 201, 'friends_count': 202, 'listed_count': 0, 'created_at': 'Tue Jun 01 16:46:13 +0000 2021', 'favourites_count': 1554, 'utc_offset': None, 'time_zone': None, 'geo_enabled': False, 'verified': False, 'statuses_count': 923, 'lang': None, 'contributors_enabled': False, 'is_translator': False, 'is_translation_enabled': False, 'profile_background_color': 'F5F8FA', 'profile_background_image_url': None, 'profile_background_image_url_https': None, 'profile_background_tile': False, 'profile_image_url': 'http://pbs.twimg.com/profile_images/1413861911649652743/x13MkubF_normal.jpg', 'profile_image_url_https': 'https://pbs.twimg.com/profile_images/1413861911649652743/x13MkubF_normal.jpg', 'profile_banner_url': 'https://pbs.twimg.com/profile_banners/1399769226378838020/1625488192', 'profile_link_color': '1DA1F2', 'profile_sidebar_border_color': 'C0DEED', 'profile_sidebar_fill_color': 'DDEEF6', 'profile_text_color': '333333', 'profile_use_background_image': True, 'has_extended_profile': True, 'default_profile': True, 'default_profile_image': False, 'following': False, 'follow_request_sent': False, 'notifications': False, 'translator_type': 'none', 'withheld_in_countries': []}, id=1399769226378838020, id_str='1399769226378838020', name='⚡💓💫Mukul💫💓⚡😇😊🏏👋', screen_name='Mukul_10', location=\"My Mother's Land i.e Nature🌻\", description='🕉️Medical Student⚕😇🎯✌️\\nFOLLOW FOR 💯 Follow 🔙 😎👍', url=None, entities={'description': {'urls': []}}, protected=False, followers_count=201, friends_count=202, listed_count=0, created_at=datetime.datetime(2021, 6, 1, 16, 46, 13), favourites_count=1554, utc_offset=None, time_zone=None, geo_enabled=False, verified=False, statuses_count=923, lang=None, contributors_enabled=False, is_translator=False, is_translation_enabled=False, profile_background_color='F5F8FA', profile_background_image_url=None, profile_background_image_url_https=None, profile_background_tile=False, profile_image_url='http://pbs.twimg.com/profile_images/1413861911649652743/x13MkubF_normal.jpg', profile_image_url_https='https://pbs.twimg.com/profile_images/1413861911649652743/x13MkubF_normal.jpg', profile_banner_url='https://pbs.twimg.com/profile_banners/1399769226378838020/1625488192', profile_link_color='1DA1F2', profile_sidebar_border_color='C0DEED', profile_sidebar_fill_color='DDEEF6', profile_text_color='333333', profile_use_background_image=True, has_extended_profile=True, default_profile=True, default_profile_image=False, following=False, follow_request_sent=False, notifications=False, translator_type='none', withheld_in_countries=[]), user=User(_api=<tweepy.api.API object at 0x000001CA436A9490>, _json={'id': 1399769226378838020, 'id_str': '1399769226378838020', 'name': '⚡💓💫Mukul💫💓⚡😇😊🏏👋', 'screen_name': 'Mukul_10', 'location': \"My Mother's Land i.e Nature🌻\", 'description': '🕉️Medical Student⚕😇🎯✌️\\nFOLLOW FOR 💯 Follow 🔙 😎👍', 'url': None, 'entities': {'description': {'urls': []}}, 'protected': False, 'followers_count': 201, 'friends_count': 202, 'listed_count': 0, 'created_at': 'Tue Jun 01 16:46:13 +0000 2021', 'favourites_count': 1554, 'utc_offset': None, 'time_zone': None, 'geo_enabled': False, 'verified': False, 'statuses_count': 923, 'lang': None, 'contributors_enabled': False, 'is_translator': False, 'is_translation_enabled': False, 'profile_background_color': 'F5F8FA', 'profile_background_image_url': None, 'profile_background_image_url_https': None, 'profile_background_tile': False, 'profile_image_url': 'http://pbs.twimg.com/profile_images/1413861911649652743/x13MkubF_normal.jpg', 'profile_image_url_https': 'https://pbs.twimg.com/profile_images/1413861911649652743/x13MkubF_normal.jpg', 'profile_banner_url': 'https://pbs.twimg.com/profile_banners/1399769226378838020/1625488192', 'profile_link_color': '1DA1F2', 'profile_sidebar_border_color': 'C0DEED', 'profile_sidebar_fill_color': 'DDEEF6', 'profile_text_color': '333333', 'profile_use_background_image': True, 'has_extended_profile': True, 'default_profile': True, 'default_profile_image': False, 'following': False, 'follow_request_sent': False, 'notifications': False, 'translator_type': 'none', 'withheld_in_countries': []}, id=1399769226378838020, id_str='1399769226378838020', name='⚡💓💫Mukul💫💓⚡😇😊🏏👋', screen_name='Mukul_10', location=\"My Mother's Land i.e Nature🌻\", description='🕉️Medical Student⚕😇🎯✌️\\nFOLLOW FOR 💯 Follow 🔙 😎👍', url=None, entities={'description': {'urls': []}}, protected=False, followers_count=201, friends_count=202, listed_count=0, created_at=datetime.datetime(2021, 6, 1, 16, 46, 13), favourites_count=1554, utc_offset=None, time_zone=None, geo_enabled=False, verified=False, statuses_count=923, lang=None, contributors_enabled=False, is_translator=False, is_translation_enabled=False, profile_background_color='F5F8FA', profile_background_image_url=None, profile_background_image_url_https=None, profile_background_tile=False, profile_image_url='http://pbs.twimg.com/profile_images/1413861911649652743/x13MkubF_normal.jpg', profile_image_url_https='https://pbs.twimg.com/profile_images/1413861911649652743/x13MkubF_normal.jpg', profile_banner_url='https://pbs.twimg.com/profile_banners/1399769226378838020/1625488192', profile_link_color='1DA1F2', profile_sidebar_border_color='C0DEED', profile_sidebar_fill_color='DDEEF6', profile_text_color='333333', profile_use_background_image=True, has_extended_profile=True, default_profile=True, default_profile_image=False, following=False, follow_request_sent=False, notifications=False, translator_type='none', withheld_in_countries=[]), geo=None, coordinates=None, place=None, contributors=None, is_quote_status=False, retweet_count=0, favorite_count=1, favorited=False, retweeted=False, lang='en')\n",
      "=================================================\n",
      "Status(_api=<tweepy.api.API object at 0x000001CA436A9490>, _json={'created_at': 'Thu Jul 08 13:15:08 +0000 2021', 'id': 1413124492436541446, 'id_str': '1413124492436541446', 'full_text': '@DNeurosx Sir pregnant women should get covid vaccine?\\nIf yes, should they get covishield or covaxin?', 'truncated': False, 'display_text_range': [10, 101], 'entities': {'hashtags': [], 'symbols': [], 'user_mentions': [{'screen_name': 'DNeurosx', 'name': 'The Brain Doctor', 'id': 1017070559283343360, 'id_str': '1017070559283343360', 'indices': [0, 9]}], 'urls': []}, 'metadata': {'iso_language_code': 'en', 'result_type': 'recent'}, 'source': '<a href=\"http://twitter.com/download/android\" rel=\"nofollow\">Twitter for Android</a>', 'in_reply_to_status_id': 1413083978823659526, 'in_reply_to_status_id_str': '1413083978823659526', 'in_reply_to_user_id': 1017070559283343360, 'in_reply_to_user_id_str': '1017070559283343360', 'in_reply_to_screen_name': 'DNeurosx', 'user': {'id': 111974789, 'id_str': '111974789', 'name': 'ANKIT SHUKLA', 'screen_name': 'india_ankit', 'location': 'India', 'description': \"There's nothing good or bad but the thinking makes it so....\", 'url': None, 'entities': {'description': {'urls': []}}, 'protected': False, 'followers_count': 106, 'friends_count': 466, 'listed_count': 0, 'created_at': 'Sat Feb 06 20:28:12 +0000 2010', 'favourites_count': 73501, 'utc_offset': None, 'time_zone': None, 'geo_enabled': True, 'verified': False, 'statuses_count': 56730, 'lang': None, 'contributors_enabled': False, 'is_translator': False, 'is_translation_enabled': False, 'profile_background_color': 'C0DEED', 'profile_background_image_url': 'http://abs.twimg.com/images/themes/theme1/bg.png', 'profile_background_image_url_https': 'https://abs.twimg.com/images/themes/theme1/bg.png', 'profile_background_tile': False, 'profile_image_url': 'http://pbs.twimg.com/profile_images/2732158100/542af7cd61e4c5e5bc20c8246ae80940_normal.jpeg', 'profile_image_url_https': 'https://pbs.twimg.com/profile_images/2732158100/542af7cd61e4c5e5bc20c8246ae80940_normal.jpeg', 'profile_link_color': '1DA1F2', 'profile_sidebar_border_color': 'C0DEED', 'profile_sidebar_fill_color': 'DDEEF6', 'profile_text_color': '333333', 'profile_use_background_image': True, 'has_extended_profile': False, 'default_profile': True, 'default_profile_image': False, 'following': False, 'follow_request_sent': False, 'notifications': False, 'translator_type': 'none', 'withheld_in_countries': []}, 'geo': None, 'coordinates': None, 'place': None, 'contributors': None, 'is_quote_status': False, 'retweet_count': 0, 'favorite_count': 0, 'favorited': False, 'retweeted': False, 'lang': 'en'}, created_at=datetime.datetime(2021, 7, 8, 13, 15, 8), id=1413124492436541446, id_str='1413124492436541446', full_text='@DNeurosx Sir pregnant women should get covid vaccine?\\nIf yes, should they get covishield or covaxin?', truncated=False, display_text_range=[10, 101], entities={'hashtags': [], 'symbols': [], 'user_mentions': [{'screen_name': 'DNeurosx', 'name': 'The Brain Doctor', 'id': 1017070559283343360, 'id_str': '1017070559283343360', 'indices': [0, 9]}], 'urls': []}, metadata={'iso_language_code': 'en', 'result_type': 'recent'}, source='Twitter for Android', source_url='http://twitter.com/download/android', in_reply_to_status_id=1413083978823659526, in_reply_to_status_id_str='1413083978823659526', in_reply_to_user_id=1017070559283343360, in_reply_to_user_id_str='1017070559283343360', in_reply_to_screen_name='DNeurosx', author=User(_api=<tweepy.api.API object at 0x000001CA436A9490>, _json={'id': 111974789, 'id_str': '111974789', 'name': 'ANKIT SHUKLA', 'screen_name': 'india_ankit', 'location': 'India', 'description': \"There's nothing good or bad but the thinking makes it so....\", 'url': None, 'entities': {'description': {'urls': []}}, 'protected': False, 'followers_count': 106, 'friends_count': 466, 'listed_count': 0, 'created_at': 'Sat Feb 06 20:28:12 +0000 2010', 'favourites_count': 73501, 'utc_offset': None, 'time_zone': None, 'geo_enabled': True, 'verified': False, 'statuses_count': 56730, 'lang': None, 'contributors_enabled': False, 'is_translator': False, 'is_translation_enabled': False, 'profile_background_color': 'C0DEED', 'profile_background_image_url': 'http://abs.twimg.com/images/themes/theme1/bg.png', 'profile_background_image_url_https': 'https://abs.twimg.com/images/themes/theme1/bg.png', 'profile_background_tile': False, 'profile_image_url': 'http://pbs.twimg.com/profile_images/2732158100/542af7cd61e4c5e5bc20c8246ae80940_normal.jpeg', 'profile_image_url_https': 'https://pbs.twimg.com/profile_images/2732158100/542af7cd61e4c5e5bc20c8246ae80940_normal.jpeg', 'profile_link_color': '1DA1F2', 'profile_sidebar_border_color': 'C0DEED', 'profile_sidebar_fill_color': 'DDEEF6', 'profile_text_color': '333333', 'profile_use_background_image': True, 'has_extended_profile': False, 'default_profile': True, 'default_profile_image': False, 'following': False, 'follow_request_sent': False, 'notifications': False, 'translator_type': 'none', 'withheld_in_countries': []}, id=111974789, id_str='111974789', name='ANKIT SHUKLA', screen_name='india_ankit', location='India', description=\"There's nothing good or bad but the thinking makes it so....\", url=None, entities={'description': {'urls': []}}, protected=False, followers_count=106, friends_count=466, listed_count=0, created_at=datetime.datetime(2010, 2, 6, 20, 28, 12), favourites_count=73501, utc_offset=None, time_zone=None, geo_enabled=True, verified=False, statuses_count=56730, lang=None, contributors_enabled=False, is_translator=False, is_translation_enabled=False, profile_background_color='C0DEED', profile_background_image_url='http://abs.twimg.com/images/themes/theme1/bg.png', profile_background_image_url_https='https://abs.twimg.com/images/themes/theme1/bg.png', profile_background_tile=False, profile_image_url='http://pbs.twimg.com/profile_images/2732158100/542af7cd61e4c5e5bc20c8246ae80940_normal.jpeg', profile_image_url_https='https://pbs.twimg.com/profile_images/2732158100/542af7cd61e4c5e5bc20c8246ae80940_normal.jpeg', profile_link_color='1DA1F2', profile_sidebar_border_color='C0DEED', profile_sidebar_fill_color='DDEEF6', profile_text_color='333333', profile_use_background_image=True, has_extended_profile=False, default_profile=True, default_profile_image=False, following=False, follow_request_sent=False, notifications=False, translator_type='none', withheld_in_countries=[]), user=User(_api=<tweepy.api.API object at 0x000001CA436A9490>, _json={'id': 111974789, 'id_str': '111974789', 'name': 'ANKIT SHUKLA', 'screen_name': 'india_ankit', 'location': 'India', 'description': \"There's nothing good or bad but the thinking makes it so....\", 'url': None, 'entities': {'description': {'urls': []}}, 'protected': False, 'followers_count': 106, 'friends_count': 466, 'listed_count': 0, 'created_at': 'Sat Feb 06 20:28:12 +0000 2010', 'favourites_count': 73501, 'utc_offset': None, 'time_zone': None, 'geo_enabled': True, 'verified': False, 'statuses_count': 56730, 'lang': None, 'contributors_enabled': False, 'is_translator': False, 'is_translation_enabled': False, 'profile_background_color': 'C0DEED', 'profile_background_image_url': 'http://abs.twimg.com/images/themes/theme1/bg.png', 'profile_background_image_url_https': 'https://abs.twimg.com/images/themes/theme1/bg.png', 'profile_background_tile': False, 'profile_image_url': 'http://pbs.twimg.com/profile_images/2732158100/542af7cd61e4c5e5bc20c8246ae80940_normal.jpeg', 'profile_image_url_https': 'https://pbs.twimg.com/profile_images/2732158100/542af7cd61e4c5e5bc20c8246ae80940_normal.jpeg', 'profile_link_color': '1DA1F2', 'profile_sidebar_border_color': 'C0DEED', 'profile_sidebar_fill_color': 'DDEEF6', 'profile_text_color': '333333', 'profile_use_background_image': True, 'has_extended_profile': False, 'default_profile': True, 'default_profile_image': False, 'following': False, 'follow_request_sent': False, 'notifications': False, 'translator_type': 'none', 'withheld_in_countries': []}, id=111974789, id_str='111974789', name='ANKIT SHUKLA', screen_name='india_ankit', location='India', description=\"There's nothing good or bad but the thinking makes it so....\", url=None, entities={'description': {'urls': []}}, protected=False, followers_count=106, friends_count=466, listed_count=0, created_at=datetime.datetime(2010, 2, 6, 20, 28, 12), favourites_count=73501, utc_offset=None, time_zone=None, geo_enabled=True, verified=False, statuses_count=56730, lang=None, contributors_enabled=False, is_translator=False, is_translation_enabled=False, profile_background_color='C0DEED', profile_background_image_url='http://abs.twimg.com/images/themes/theme1/bg.png', profile_background_image_url_https='https://abs.twimg.com/images/themes/theme1/bg.png', profile_background_tile=False, profile_image_url='http://pbs.twimg.com/profile_images/2732158100/542af7cd61e4c5e5bc20c8246ae80940_normal.jpeg', profile_image_url_https='https://pbs.twimg.com/profile_images/2732158100/542af7cd61e4c5e5bc20c8246ae80940_normal.jpeg', profile_link_color='1DA1F2', profile_sidebar_border_color='C0DEED', profile_sidebar_fill_color='DDEEF6', profile_text_color='333333', profile_use_background_image=True, has_extended_profile=False, default_profile=True, default_profile_image=False, following=False, follow_request_sent=False, notifications=False, translator_type='none', withheld_in_countries=[]), geo=None, coordinates=None, place=None, contributors=None, is_quote_status=False, retweet_count=0, favorite_count=0, favorited=False, retweeted=False, lang='en')\n",
      "=================================================\n",
      "Status(_api=<tweepy.api.API object at 0x000001CA436A9490>, _json={'created_at': 'Thu Jul 08 12:22:07 +0000 2021', 'id': 1413111153471868929, 'id_str': '1413111153471868929', 'full_text': 'What to take!!! \\nCovishield or Covaxin..\\nThe Conundrum continues..\\nEligible to take Vaccine from next week.. Hope I can take a decision quickly.. \\nPS:-\\nI got tested COVID positive in March, so waited 3 months before taking vaccine..', 'truncated': False, 'display_text_range': [0, 232], 'entities': {'hashtags': [], 'symbols': [], 'user_mentions': [], 'urls': []}, 'metadata': {'iso_language_code': 'en', 'result_type': 'recent'}, 'source': '<a href=\"http://twitter.com/download/android\" rel=\"nofollow\">Twitter for Android</a>', 'in_reply_to_status_id': None, 'in_reply_to_status_id_str': None, 'in_reply_to_user_id': None, 'in_reply_to_user_id_str': None, 'in_reply_to_screen_name': None, 'user': {'id': 2954936726, 'id_str': '2954936726', 'name': 'Dr.Varun - Muchas Gracias', 'screen_name': 'OptimistVarun', 'location': 'India', 'description': 'Nobody yet', 'url': None, 'entities': {'description': {'urls': []}}, 'protected': False, 'followers_count': 1183, 'friends_count': 2181, 'listed_count': 9, 'created_at': 'Thu Jan 01 14:35:09 +0000 2015', 'favourites_count': 513434, 'utc_offset': None, 'time_zone': None, 'geo_enabled': True, 'verified': False, 'statuses_count': 91718, 'lang': None, 'contributors_enabled': False, 'is_translator': False, 'is_translation_enabled': False, 'profile_background_color': 'C0DEED', 'profile_background_image_url': 'http://abs.twimg.com/images/themes/theme1/bg.png', 'profile_background_image_url_https': 'https://abs.twimg.com/images/themes/theme1/bg.png', 'profile_background_tile': False, 'profile_image_url': 'http://pbs.twimg.com/profile_images/1413121533791203328/1xzuWopi_normal.jpg', 'profile_image_url_https': 'https://pbs.twimg.com/profile_images/1413121533791203328/1xzuWopi_normal.jpg', 'profile_banner_url': 'https://pbs.twimg.com/profile_banners/2954936726/1623684098', 'profile_link_color': '1DA1F2', 'profile_sidebar_border_color': 'C0DEED', 'profile_sidebar_fill_color': 'DDEEF6', 'profile_text_color': '333333', 'profile_use_background_image': True, 'has_extended_profile': True, 'default_profile': True, 'default_profile_image': False, 'following': False, 'follow_request_sent': False, 'notifications': False, 'translator_type': 'none', 'withheld_in_countries': []}, 'geo': None, 'coordinates': None, 'place': None, 'contributors': None, 'is_quote_status': False, 'retweet_count': 0, 'favorite_count': 1, 'favorited': False, 'retweeted': False, 'lang': 'en'}, created_at=datetime.datetime(2021, 7, 8, 12, 22, 7), id=1413111153471868929, id_str='1413111153471868929', full_text='What to take!!! \\nCovishield or Covaxin..\\nThe Conundrum continues..\\nEligible to take Vaccine from next week.. Hope I can take a decision quickly.. \\nPS:-\\nI got tested COVID positive in March, so waited 3 months before taking vaccine..', truncated=False, display_text_range=[0, 232], entities={'hashtags': [], 'symbols': [], 'user_mentions': [], 'urls': []}, metadata={'iso_language_code': 'en', 'result_type': 'recent'}, source='Twitter for Android', source_url='http://twitter.com/download/android', in_reply_to_status_id=None, in_reply_to_status_id_str=None, in_reply_to_user_id=None, in_reply_to_user_id_str=None, in_reply_to_screen_name=None, author=User(_api=<tweepy.api.API object at 0x000001CA436A9490>, _json={'id': 2954936726, 'id_str': '2954936726', 'name': 'Dr.Varun - Muchas Gracias', 'screen_name': 'OptimistVarun', 'location': 'India', 'description': 'Nobody yet', 'url': None, 'entities': {'description': {'urls': []}}, 'protected': False, 'followers_count': 1183, 'friends_count': 2181, 'listed_count': 9, 'created_at': 'Thu Jan 01 14:35:09 +0000 2015', 'favourites_count': 513434, 'utc_offset': None, 'time_zone': None, 'geo_enabled': True, 'verified': False, 'statuses_count': 91718, 'lang': None, 'contributors_enabled': False, 'is_translator': False, 'is_translation_enabled': False, 'profile_background_color': 'C0DEED', 'profile_background_image_url': 'http://abs.twimg.com/images/themes/theme1/bg.png', 'profile_background_image_url_https': 'https://abs.twimg.com/images/themes/theme1/bg.png', 'profile_background_tile': False, 'profile_image_url': 'http://pbs.twimg.com/profile_images/1413121533791203328/1xzuWopi_normal.jpg', 'profile_image_url_https': 'https://pbs.twimg.com/profile_images/1413121533791203328/1xzuWopi_normal.jpg', 'profile_banner_url': 'https://pbs.twimg.com/profile_banners/2954936726/1623684098', 'profile_link_color': '1DA1F2', 'profile_sidebar_border_color': 'C0DEED', 'profile_sidebar_fill_color': 'DDEEF6', 'profile_text_color': '333333', 'profile_use_background_image': True, 'has_extended_profile': True, 'default_profile': True, 'default_profile_image': False, 'following': False, 'follow_request_sent': False, 'notifications': False, 'translator_type': 'none', 'withheld_in_countries': []}, id=2954936726, id_str='2954936726', name='Dr.Varun - Muchas Gracias', screen_name='OptimistVarun', location='India', description='Nobody yet', url=None, entities={'description': {'urls': []}}, protected=False, followers_count=1183, friends_count=2181, listed_count=9, created_at=datetime.datetime(2015, 1, 1, 14, 35, 9), favourites_count=513434, utc_offset=None, time_zone=None, geo_enabled=True, verified=False, statuses_count=91718, lang=None, contributors_enabled=False, is_translator=False, is_translation_enabled=False, profile_background_color='C0DEED', profile_background_image_url='http://abs.twimg.com/images/themes/theme1/bg.png', profile_background_image_url_https='https://abs.twimg.com/images/themes/theme1/bg.png', profile_background_tile=False, profile_image_url='http://pbs.twimg.com/profile_images/1413121533791203328/1xzuWopi_normal.jpg', profile_image_url_https='https://pbs.twimg.com/profile_images/1413121533791203328/1xzuWopi_normal.jpg', profile_banner_url='https://pbs.twimg.com/profile_banners/2954936726/1623684098', profile_link_color='1DA1F2', profile_sidebar_border_color='C0DEED', profile_sidebar_fill_color='DDEEF6', profile_text_color='333333', profile_use_background_image=True, has_extended_profile=True, default_profile=True, default_profile_image=False, following=False, follow_request_sent=False, notifications=False, translator_type='none', withheld_in_countries=[]), user=User(_api=<tweepy.api.API object at 0x000001CA436A9490>, _json={'id': 2954936726, 'id_str': '2954936726', 'name': 'Dr.Varun - Muchas Gracias', 'screen_name': 'OptimistVarun', 'location': 'India', 'description': 'Nobody yet', 'url': None, 'entities': {'description': {'urls': []}}, 'protected': False, 'followers_count': 1183, 'friends_count': 2181, 'listed_count': 9, 'created_at': 'Thu Jan 01 14:35:09 +0000 2015', 'favourites_count': 513434, 'utc_offset': None, 'time_zone': None, 'geo_enabled': True, 'verified': False, 'statuses_count': 91718, 'lang': None, 'contributors_enabled': False, 'is_translator': False, 'is_translation_enabled': False, 'profile_background_color': 'C0DEED', 'profile_background_image_url': 'http://abs.twimg.com/images/themes/theme1/bg.png', 'profile_background_image_url_https': 'https://abs.twimg.com/images/themes/theme1/bg.png', 'profile_background_tile': False, 'profile_image_url': 'http://pbs.twimg.com/profile_images/1413121533791203328/1xzuWopi_normal.jpg', 'profile_image_url_https': 'https://pbs.twimg.com/profile_images/1413121533791203328/1xzuWopi_normal.jpg', 'profile_banner_url': 'https://pbs.twimg.com/profile_banners/2954936726/1623684098', 'profile_link_color': '1DA1F2', 'profile_sidebar_border_color': 'C0DEED', 'profile_sidebar_fill_color': 'DDEEF6', 'profile_text_color': '333333', 'profile_use_background_image': True, 'has_extended_profile': True, 'default_profile': True, 'default_profile_image': False, 'following': False, 'follow_request_sent': False, 'notifications': False, 'translator_type': 'none', 'withheld_in_countries': []}, id=2954936726, id_str='2954936726', name='Dr.Varun - Muchas Gracias', screen_name='OptimistVarun', location='India', description='Nobody yet', url=None, entities={'description': {'urls': []}}, protected=False, followers_count=1183, friends_count=2181, listed_count=9, created_at=datetime.datetime(2015, 1, 1, 14, 35, 9), favourites_count=513434, utc_offset=None, time_zone=None, geo_enabled=True, verified=False, statuses_count=91718, lang=None, contributors_enabled=False, is_translator=False, is_translation_enabled=False, profile_background_color='C0DEED', profile_background_image_url='http://abs.twimg.com/images/themes/theme1/bg.png', profile_background_image_url_https='https://abs.twimg.com/images/themes/theme1/bg.png', profile_background_tile=False, profile_image_url='http://pbs.twimg.com/profile_images/1413121533791203328/1xzuWopi_normal.jpg', profile_image_url_https='https://pbs.twimg.com/profile_images/1413121533791203328/1xzuWopi_normal.jpg', profile_banner_url='https://pbs.twimg.com/profile_banners/2954936726/1623684098', profile_link_color='1DA1F2', profile_sidebar_border_color='C0DEED', profile_sidebar_fill_color='DDEEF6', profile_text_color='333333', profile_use_background_image=True, has_extended_profile=True, default_profile=True, default_profile_image=False, following=False, follow_request_sent=False, notifications=False, translator_type='none', withheld_in_countries=[]), geo=None, coordinates=None, place=None, contributors=None, is_quote_status=False, retweet_count=0, favorite_count=1, favorited=False, retweeted=False, lang='en')\n",
      "=================================================\n"
     ]
    }
   ],
   "source": [
    "# Lets provide the query which I need to search\n",
    "\n",
    "query = \"covishield or covaxin vaccine\"\n",
    "\n",
    "# fetch tweets\n",
    "\n",
    "Tweets = api.search(query, count=10, lang='en', exclude='retweets', tweet_mode='extended')\n",
    "\n",
    "for tweet in Tweets:\n",
    "    print(tweet)\n",
    "    print('=================================================')"
   ]
  },
  {
   "cell_type": "markdown",
   "metadata": {},
   "source": [
    "# Getting the tweets and some of its related attributes "
   ]
  },
  {
   "cell_type": "code",
   "execution_count": 6,
   "metadata": {},
   "outputs": [
    {
     "data": {
      "text/html": [
       "<div>\n",
       "<style scoped>\n",
       "    .dataframe tbody tr th:only-of-type {\n",
       "        vertical-align: middle;\n",
       "    }\n",
       "\n",
       "    .dataframe tbody tr th {\n",
       "        vertical-align: top;\n",
       "    }\n",
       "\n",
       "    .dataframe thead th {\n",
       "        text-align: right;\n",
       "    }\n",
       "</style>\n",
       "<table border=\"1\" class=\"dataframe\">\n",
       "  <thead>\n",
       "    <tr style=\"text-align: right;\">\n",
       "      <th></th>\n",
       "      <th>Tweets</th>\n",
       "      <th>User</th>\n",
       "      <th>User_statuses_count</th>\n",
       "      <th>User_location</th>\n",
       "      <th>User_verified</th>\n",
       "      <th>User_followers</th>\n",
       "      <th>fav_count</th>\n",
       "      <th>rt_count</th>\n",
       "      <th>tweet_date</th>\n",
       "    </tr>\n",
       "  </thead>\n",
       "  <tbody>\n",
       "  </tbody>\n",
       "</table>\n",
       "</div>"
      ],
      "text/plain": [
       "Empty DataFrame\n",
       "Columns: [Tweets, User, User_statuses_count, User_location, User_verified, User_followers, fav_count, rt_count, tweet_date]\n",
       "Index: []"
      ]
     },
     "execution_count": 6,
     "metadata": {},
     "output_type": "execute_result"
    }
   ],
   "source": [
    "df = pd.DataFrame(columns=['Tweets','User','User_statuses_count','User_location','User_verified','User_followers','fav_count','rt_count','tweet_date'])\n",
    "df "
   ]
  },
  {
   "cell_type": "code",
   "execution_count": 7,
   "metadata": {},
   "outputs": [],
   "source": [
    "def stream(data,file_name):\n",
    "    i = 0\n",
    "    for tweet in tweepy.Cursor(api.search, q=data, count=100, lang='en').items():\n",
    "        print(i, end='\\r')\n",
    "        df.loc[i,'Tweets'] = tweet.text\n",
    "        df.loc[i,'User'] = tweet.user.name\n",
    "        df.loc[i,'User_statuses_count'] = tweet.user.statuses_count\n",
    "        df.loc[i,'User_location'] = tweet.user.location\n",
    "        df.loc[i,'User_verified'] = tweet.user.verified\n",
    "        df.loc[i,'User_followers'] = tweet.user.followers_count\n",
    "        df.loc[i,'fav_count'] = tweet.favorite_count\n",
    "        df.loc[i,'rt_count' ] = tweet.retweet_count\n",
    "        df.loc[i, 'tweet_date'] = tweet.created_at\n",
    "        df.to_excel('{}.xlsx'.format(file_name))\n",
    "        i = i+1\n",
    "        if i == 1000:\n",
    "            break\n",
    "        else:\n",
    "            pass  \n",
    "        "
   ]
  },
  {
   "cell_type": "code",
   "execution_count": 8,
   "metadata": {},
   "outputs": [
    {
     "name": "stdout",
     "output_type": "stream",
     "text": [
      "358\r"
     ]
    }
   ],
   "source": [
    "stream(data='PopulationControlBill Uttarpradesh', file_name='my_tweets')"
   ]
  },
  {
   "cell_type": "code",
   "execution_count": 9,
   "metadata": {},
   "outputs": [
    {
     "data": {
      "text/html": [
       "<div>\n",
       "<style scoped>\n",
       "    .dataframe tbody tr th:only-of-type {\n",
       "        vertical-align: middle;\n",
       "    }\n",
       "\n",
       "    .dataframe tbody tr th {\n",
       "        vertical-align: top;\n",
       "    }\n",
       "\n",
       "    .dataframe thead th {\n",
       "        text-align: right;\n",
       "    }\n",
       "</style>\n",
       "<table border=\"1\" class=\"dataframe\">\n",
       "  <thead>\n",
       "    <tr style=\"text-align: right;\">\n",
       "      <th></th>\n",
       "      <th>Tweets</th>\n",
       "      <th>User</th>\n",
       "      <th>User_statuses_count</th>\n",
       "      <th>User_location</th>\n",
       "      <th>User_verified</th>\n",
       "      <th>User_followers</th>\n",
       "      <th>fav_count</th>\n",
       "      <th>rt_count</th>\n",
       "      <th>tweet_date</th>\n",
       "    </tr>\n",
       "  </thead>\n",
       "  <tbody>\n",
       "    <tr>\n",
       "      <th>0</th>\n",
       "      <td>More is Sore\\nControl is Care\\n#WorldPopulatio...</td>\n",
       "      <td>Help Me Help You</td>\n",
       "      <td>30</td>\n",
       "      <td>कोलकाता, भारत</td>\n",
       "      <td>False</td>\n",
       "      <td>3</td>\n",
       "      <td>1</td>\n",
       "      <td>0</td>\n",
       "      <td>2021-07-10 21:37:10</td>\n",
       "    </tr>\n",
       "    <tr>\n",
       "      <th>1</th>\n",
       "      <td>RT @Complan__Boy: I wish the Population Contro...</td>\n",
       "      <td>Aki_nCi</td>\n",
       "      <td>3040</td>\n",
       "      <td></td>\n",
       "      <td>False</td>\n",
       "      <td>39</td>\n",
       "      <td>0</td>\n",
       "      <td>24</td>\n",
       "      <td>2021-07-10 21:35:55</td>\n",
       "    </tr>\n",
       "    <tr>\n",
       "      <th>2</th>\n",
       "      <td>RT @rishu_1809: #PopulationControlBill #UttarP...</td>\n",
       "      <td>𝕾𝖍𝖚𝖛𝖗𝖔𝖏𝖞𝖔𝖙𝖎</td>\n",
       "      <td>1322</td>\n",
       "      <td></td>\n",
       "      <td>False</td>\n",
       "      <td>22</td>\n",
       "      <td>0</td>\n",
       "      <td>3</td>\n",
       "      <td>2021-07-10 21:28:51</td>\n",
       "    </tr>\n",
       "    <tr>\n",
       "      <th>3</th>\n",
       "      <td>RT @BAADSAH_HUSSAIN: I wish the Population Con...</td>\n",
       "      <td>Ritayan Sarkar</td>\n",
       "      <td>607</td>\n",
       "      <td></td>\n",
       "      <td>False</td>\n",
       "      <td>25</td>\n",
       "      <td>0</td>\n",
       "      <td>42</td>\n",
       "      <td>2021-07-10 21:10:47</td>\n",
       "    </tr>\n",
       "    <tr>\n",
       "      <th>4</th>\n",
       "      <td>RT @BAADSAH_HUSSAIN: I wish the Population Con...</td>\n",
       "      <td>Waajid</td>\n",
       "      <td>163</td>\n",
       "      <td></td>\n",
       "      <td>False</td>\n",
       "      <td>4</td>\n",
       "      <td>0</td>\n",
       "      <td>42</td>\n",
       "      <td>2021-07-10 20:51:15</td>\n",
       "    </tr>\n",
       "  </tbody>\n",
       "</table>\n",
       "</div>"
      ],
      "text/plain": [
       "                                              Tweets              User  \\\n",
       "0  More is Sore\\nControl is Care\\n#WorldPopulatio...  Help Me Help You   \n",
       "1  RT @Complan__Boy: I wish the Population Contro...           Aki_nCi   \n",
       "2  RT @rishu_1809: #PopulationControlBill #UttarP...       𝕾𝖍𝖚𝖛𝖗𝖔𝖏𝖞𝖔𝖙𝖎   \n",
       "3  RT @BAADSAH_HUSSAIN: I wish the Population Con...    Ritayan Sarkar   \n",
       "4  RT @BAADSAH_HUSSAIN: I wish the Population Con...            Waajid   \n",
       "\n",
       "  User_statuses_count  User_location User_verified User_followers fav_count  \\\n",
       "0                  30  कोलकाता, भारत         False              3         1   \n",
       "1                3040                        False             39         0   \n",
       "2                1322                        False             22         0   \n",
       "3                 607                        False             25         0   \n",
       "4                 163                        False              4         0   \n",
       "\n",
       "  rt_count           tweet_date  \n",
       "0        0  2021-07-10 21:37:10  \n",
       "1       24  2021-07-10 21:35:55  \n",
       "2        3  2021-07-10 21:28:51  \n",
       "3       42  2021-07-10 21:10:47  \n",
       "4       42  2021-07-10 20:51:15  "
      ]
     },
     "execution_count": 9,
     "metadata": {},
     "output_type": "execute_result"
    }
   ],
   "source": [
    "df.head()"
   ]
  },
  {
   "cell_type": "code",
   "execution_count": 10,
   "metadata": {},
   "outputs": [
    {
     "data": {
      "text/plain": [
       "(359, 9)"
      ]
     },
     "execution_count": 10,
     "metadata": {},
     "output_type": "execute_result"
    }
   ],
   "source": [
    "df.shape"
   ]
  },
  {
   "cell_type": "code",
   "execution_count": 11,
   "metadata": {},
   "outputs": [],
   "source": [
    "from textblob import TextBlob"
   ]
  },
  {
   "cell_type": "code",
   "execution_count": 12,
   "metadata": {},
   "outputs": [],
   "source": [
    "import re\n",
    "def clean_tweet(tweet):\n",
    "    return ' '.join(re.sub('(@[A-Za-z0-9]+)|([^0-9A-Za-z \\t])|(\\w+:\\/\\/\\S+)', ' ', tweet).split())"
   ]
  },
  {
   "cell_type": "code",
   "execution_count": 13,
   "metadata": {},
   "outputs": [],
   "source": [
    "def analyze_sentiment(tweet):\n",
    "    analysis = TextBlob(tweet)\n",
    "    if analysis.sentiment.polarity>0:\n",
    "        return 'Positive'\n",
    "    elif analysis.sentiment.polarity==0:\n",
    "        return 'Neutral'\n",
    "    else:\n",
    "        return 'Negative'"
   ]
  },
  {
   "cell_type": "code",
   "execution_count": 14,
   "metadata": {},
   "outputs": [],
   "source": [
    "df['clean_tweets'] = df['Tweets'].apply(lambda x : clean_tweet(x))"
   ]
  },
  {
   "cell_type": "code",
   "execution_count": 15,
   "metadata": {},
   "outputs": [],
   "source": [
    "pd.set_option(\"display.max_colwidth\", -1)\n"
   ]
  },
  {
   "cell_type": "code",
   "execution_count": 16,
   "metadata": {},
   "outputs": [
    {
     "data": {
      "text/html": [
       "<div>\n",
       "<style scoped>\n",
       "    .dataframe tbody tr th:only-of-type {\n",
       "        vertical-align: middle;\n",
       "    }\n",
       "\n",
       "    .dataframe tbody tr th {\n",
       "        vertical-align: top;\n",
       "    }\n",
       "\n",
       "    .dataframe thead th {\n",
       "        text-align: right;\n",
       "    }\n",
       "</style>\n",
       "<table border=\"1\" class=\"dataframe\">\n",
       "  <thead>\n",
       "    <tr style=\"text-align: right;\">\n",
       "      <th></th>\n",
       "      <th>Tweets</th>\n",
       "      <th>clean_tweets</th>\n",
       "    </tr>\n",
       "  </thead>\n",
       "  <tbody>\n",
       "    <tr>\n",
       "      <th>0</th>\n",
       "      <td>More is Sore\\nControl is Care\\n#WorldPopulationDay #PopulationControlLaw #PopulationControlBill #PopulationPolicy… https://t.co/0X4cvkgcax</td>\n",
       "      <td>More is Sore Control is Care WorldPopulationDay PopulationControlLaw PopulationControlBill PopulationPolicy</td>\n",
       "    </tr>\n",
       "    <tr>\n",
       "      <th>1</th>\n",
       "      <td>RT @Complan__Boy: I wish the Population Control Bill had come in 1971.\\n#UttarPradesh\\n#PopulationControlBill https://t.co/DEq6QZFzY7</td>\n",
       "      <td>RT Boy I wish the Population Control Bill had come in 1971 UttarPradesh PopulationControlBill</td>\n",
       "    </tr>\n",
       "    <tr>\n",
       "      <th>2</th>\n",
       "      <td>RT @rishu_1809: #PopulationControlBill #UttarPradesh \\n\\nLovers who are planning their future - https://t.co/qOqbqnd6q1</td>\n",
       "      <td>RT 1809 PopulationControlBill UttarPradesh Lovers who are planning their future</td>\n",
       "    </tr>\n",
       "    <tr>\n",
       "      <th>3</th>\n",
       "      <td>RT @BAADSAH_HUSSAIN: I wish the Population Control Bill had come in 1971.\\n#UttarPradesh\\n#PopulationControlBill https://t.co/cgkIQhQHUa\\n@BAA…</td>\n",
       "      <td>RT HUSSAIN I wish the Population Control Bill had come in 1971 UttarPradesh PopulationControlBill</td>\n",
       "    </tr>\n",
       "    <tr>\n",
       "      <th>4</th>\n",
       "      <td>RT @BAADSAH_HUSSAIN: I wish the Population Control Bill had come in 1971.\\n#UttarPradesh\\n#PopulationControlBill https://t.co/cgkIQhQHUa\\n@BAA…</td>\n",
       "      <td>RT HUSSAIN I wish the Population Control Bill had come in 1971 UttarPradesh PopulationControlBill</td>\n",
       "    </tr>\n",
       "  </tbody>\n",
       "</table>\n",
       "</div>"
      ],
      "text/plain": [
       "                                                                                                                                            Tweets  \\\n",
       "0  More is Sore\\nControl is Care\\n#WorldPopulationDay #PopulationControlLaw #PopulationControlBill #PopulationPolicy… https://t.co/0X4cvkgcax        \n",
       "1  RT @Complan__Boy: I wish the Population Control Bill had come in 1971.\\n#UttarPradesh\\n#PopulationControlBill https://t.co/DEq6QZFzY7             \n",
       "2  RT @rishu_1809: #PopulationControlBill #UttarPradesh \\n\\nLovers who are planning their future - https://t.co/qOqbqnd6q1                           \n",
       "3  RT @BAADSAH_HUSSAIN: I wish the Population Control Bill had come in 1971.\\n#UttarPradesh\\n#PopulationControlBill https://t.co/cgkIQhQHUa\\n@BAA…   \n",
       "4  RT @BAADSAH_HUSSAIN: I wish the Population Control Bill had come in 1971.\\n#UttarPradesh\\n#PopulationControlBill https://t.co/cgkIQhQHUa\\n@BAA…   \n",
       "\n",
       "                                                                                                  clean_tweets  \n",
       "0  More is Sore Control is Care WorldPopulationDay PopulationControlLaw PopulationControlBill PopulationPolicy  \n",
       "1  RT Boy I wish the Population Control Bill had come in 1971 UttarPradesh PopulationControlBill                \n",
       "2  RT 1809 PopulationControlBill UttarPradesh Lovers who are planning their future                              \n",
       "3  RT HUSSAIN I wish the Population Control Bill had come in 1971 UttarPradesh PopulationControlBill            \n",
       "4  RT HUSSAIN I wish the Population Control Bill had come in 1971 UttarPradesh PopulationControlBill            "
      ]
     },
     "execution_count": 16,
     "metadata": {},
     "output_type": "execute_result"
    }
   ],
   "source": [
    "df[['Tweets', 'clean_tweets']].head()"
   ]
  },
  {
   "cell_type": "code",
   "execution_count": 17,
   "metadata": {},
   "outputs": [
    {
     "data": {
      "text/html": [
       "<div>\n",
       "<style scoped>\n",
       "    .dataframe tbody tr th:only-of-type {\n",
       "        vertical-align: middle;\n",
       "    }\n",
       "\n",
       "    .dataframe tbody tr th {\n",
       "        vertical-align: top;\n",
       "    }\n",
       "\n",
       "    .dataframe thead th {\n",
       "        text-align: right;\n",
       "    }\n",
       "</style>\n",
       "<table border=\"1\" class=\"dataframe\">\n",
       "  <thead>\n",
       "    <tr style=\"text-align: right;\">\n",
       "      <th></th>\n",
       "      <th>clean_tweets</th>\n",
       "      <th>Sentiment</th>\n",
       "    </tr>\n",
       "  </thead>\n",
       "  <tbody>\n",
       "    <tr>\n",
       "      <th>0</th>\n",
       "      <td>More is Sore Control is Care WorldPopulationDay PopulationControlLaw PopulationControlBill PopulationPolicy</td>\n",
       "      <td>Positive</td>\n",
       "    </tr>\n",
       "    <tr>\n",
       "      <th>1</th>\n",
       "      <td>RT Boy I wish the Population Control Bill had come in 1971 UttarPradesh PopulationControlBill</td>\n",
       "      <td>Neutral</td>\n",
       "    </tr>\n",
       "    <tr>\n",
       "      <th>2</th>\n",
       "      <td>RT 1809 PopulationControlBill UttarPradesh Lovers who are planning their future</td>\n",
       "      <td>Neutral</td>\n",
       "    </tr>\n",
       "    <tr>\n",
       "      <th>3</th>\n",
       "      <td>RT HUSSAIN I wish the Population Control Bill had come in 1971 UttarPradesh PopulationControlBill</td>\n",
       "      <td>Neutral</td>\n",
       "    </tr>\n",
       "    <tr>\n",
       "      <th>4</th>\n",
       "      <td>RT HUSSAIN I wish the Population Control Bill had come in 1971 UttarPradesh PopulationControlBill</td>\n",
       "      <td>Neutral</td>\n",
       "    </tr>\n",
       "  </tbody>\n",
       "</table>\n",
       "</div>"
      ],
      "text/plain": [
       "                                                                                                  clean_tweets  \\\n",
       "0  More is Sore Control is Care WorldPopulationDay PopulationControlLaw PopulationControlBill PopulationPolicy   \n",
       "1  RT Boy I wish the Population Control Bill had come in 1971 UttarPradesh PopulationControlBill                 \n",
       "2  RT 1809 PopulationControlBill UttarPradesh Lovers who are planning their future                               \n",
       "3  RT HUSSAIN I wish the Population Control Bill had come in 1971 UttarPradesh PopulationControlBill             \n",
       "4  RT HUSSAIN I wish the Population Control Bill had come in 1971 UttarPradesh PopulationControlBill             \n",
       "\n",
       "  Sentiment  \n",
       "0  Positive  \n",
       "1  Neutral   \n",
       "2  Neutral   \n",
       "3  Neutral   \n",
       "4  Neutral   "
      ]
     },
     "execution_count": 17,
     "metadata": {},
     "output_type": "execute_result"
    }
   ],
   "source": [
    "df['Sentiment'] = df['clean_tweets'].apply(lambda x: analyze_sentiment(x))\n",
    "df[['clean_tweets','Sentiment']].head()"
   ]
  },
  {
   "cell_type": "code",
   "execution_count": 18,
   "metadata": {},
   "outputs": [
    {
     "data": {
      "text/html": [
       "<div>\n",
       "<style scoped>\n",
       "    .dataframe tbody tr th:only-of-type {\n",
       "        vertical-align: middle;\n",
       "    }\n",
       "\n",
       "    .dataframe tbody tr th {\n",
       "        vertical-align: top;\n",
       "    }\n",
       "\n",
       "    .dataframe thead th {\n",
       "        text-align: right;\n",
       "    }\n",
       "</style>\n",
       "<table border=\"1\" class=\"dataframe\">\n",
       "  <thead>\n",
       "    <tr style=\"text-align: right;\">\n",
       "      <th></th>\n",
       "      <th>Tweets</th>\n",
       "      <th>User</th>\n",
       "      <th>User_statuses_count</th>\n",
       "      <th>User_location</th>\n",
       "      <th>User_verified</th>\n",
       "      <th>User_followers</th>\n",
       "      <th>fav_count</th>\n",
       "      <th>rt_count</th>\n",
       "      <th>tweet_date</th>\n",
       "      <th>clean_tweets</th>\n",
       "      <th>Sentiment</th>\n",
       "    </tr>\n",
       "  </thead>\n",
       "  <tbody>\n",
       "    <tr>\n",
       "      <th>0</th>\n",
       "      <td>More is Sore\\nControl is Care\\n#WorldPopulationDay #PopulationControlLaw #PopulationControlBill #PopulationPolicy… https://t.co/0X4cvkgcax</td>\n",
       "      <td>Help Me Help You</td>\n",
       "      <td>30</td>\n",
       "      <td>कोलकाता, भारत</td>\n",
       "      <td>False</td>\n",
       "      <td>3</td>\n",
       "      <td>1</td>\n",
       "      <td>0</td>\n",
       "      <td>2021-07-10 21:37:10</td>\n",
       "      <td>More is Sore Control is Care WorldPopulationDay PopulationControlLaw PopulationControlBill PopulationPolicy</td>\n",
       "      <td>Positive</td>\n",
       "    </tr>\n",
       "    <tr>\n",
       "      <th>1</th>\n",
       "      <td>RT @Complan__Boy: I wish the Population Control Bill had come in 1971.\\n#UttarPradesh\\n#PopulationControlBill https://t.co/DEq6QZFzY7</td>\n",
       "      <td>Aki_nCi</td>\n",
       "      <td>3040</td>\n",
       "      <td></td>\n",
       "      <td>False</td>\n",
       "      <td>39</td>\n",
       "      <td>0</td>\n",
       "      <td>24</td>\n",
       "      <td>2021-07-10 21:35:55</td>\n",
       "      <td>RT Boy I wish the Population Control Bill had come in 1971 UttarPradesh PopulationControlBill</td>\n",
       "      <td>Neutral</td>\n",
       "    </tr>\n",
       "    <tr>\n",
       "      <th>2</th>\n",
       "      <td>RT @rishu_1809: #PopulationControlBill #UttarPradesh \\n\\nLovers who are planning their future - https://t.co/qOqbqnd6q1</td>\n",
       "      <td>𝕾𝖍𝖚𝖛𝖗𝖔𝖏𝖞𝖔𝖙𝖎</td>\n",
       "      <td>1322</td>\n",
       "      <td></td>\n",
       "      <td>False</td>\n",
       "      <td>22</td>\n",
       "      <td>0</td>\n",
       "      <td>3</td>\n",
       "      <td>2021-07-10 21:28:51</td>\n",
       "      <td>RT 1809 PopulationControlBill UttarPradesh Lovers who are planning their future</td>\n",
       "      <td>Neutral</td>\n",
       "    </tr>\n",
       "    <tr>\n",
       "      <th>3</th>\n",
       "      <td>RT @BAADSAH_HUSSAIN: I wish the Population Control Bill had come in 1971.\\n#UttarPradesh\\n#PopulationControlBill https://t.co/cgkIQhQHUa\\n@BAA…</td>\n",
       "      <td>Ritayan Sarkar</td>\n",
       "      <td>607</td>\n",
       "      <td></td>\n",
       "      <td>False</td>\n",
       "      <td>25</td>\n",
       "      <td>0</td>\n",
       "      <td>42</td>\n",
       "      <td>2021-07-10 21:10:47</td>\n",
       "      <td>RT HUSSAIN I wish the Population Control Bill had come in 1971 UttarPradesh PopulationControlBill</td>\n",
       "      <td>Neutral</td>\n",
       "    </tr>\n",
       "    <tr>\n",
       "      <th>4</th>\n",
       "      <td>RT @BAADSAH_HUSSAIN: I wish the Population Control Bill had come in 1971.\\n#UttarPradesh\\n#PopulationControlBill https://t.co/cgkIQhQHUa\\n@BAA…</td>\n",
       "      <td>Waajid</td>\n",
       "      <td>163</td>\n",
       "      <td></td>\n",
       "      <td>False</td>\n",
       "      <td>4</td>\n",
       "      <td>0</td>\n",
       "      <td>42</td>\n",
       "      <td>2021-07-10 20:51:15</td>\n",
       "      <td>RT HUSSAIN I wish the Population Control Bill had come in 1971 UttarPradesh PopulationControlBill</td>\n",
       "      <td>Neutral</td>\n",
       "    </tr>\n",
       "  </tbody>\n",
       "</table>\n",
       "</div>"
      ],
      "text/plain": [
       "                                                                                                                                            Tweets  \\\n",
       "0  More is Sore\\nControl is Care\\n#WorldPopulationDay #PopulationControlLaw #PopulationControlBill #PopulationPolicy… https://t.co/0X4cvkgcax        \n",
       "1  RT @Complan__Boy: I wish the Population Control Bill had come in 1971.\\n#UttarPradesh\\n#PopulationControlBill https://t.co/DEq6QZFzY7             \n",
       "2  RT @rishu_1809: #PopulationControlBill #UttarPradesh \\n\\nLovers who are planning their future - https://t.co/qOqbqnd6q1                           \n",
       "3  RT @BAADSAH_HUSSAIN: I wish the Population Control Bill had come in 1971.\\n#UttarPradesh\\n#PopulationControlBill https://t.co/cgkIQhQHUa\\n@BAA…   \n",
       "4  RT @BAADSAH_HUSSAIN: I wish the Population Control Bill had come in 1971.\\n#UttarPradesh\\n#PopulationControlBill https://t.co/cgkIQhQHUa\\n@BAA…   \n",
       "\n",
       "               User User_statuses_count  User_location User_verified  \\\n",
       "0  Help Me Help You  30                  कोलकाता, भारत  False          \n",
       "1  Aki_nCi           3040                               False          \n",
       "2  𝕾𝖍𝖚𝖛𝖗𝖔𝖏𝖞𝖔𝖙𝖎       1322                               False          \n",
       "3  Ritayan Sarkar    607                                False          \n",
       "4  Waajid            163                                False          \n",
       "\n",
       "  User_followers fav_count rt_count           tweet_date  \\\n",
       "0  3              1         0        2021-07-10 21:37:10   \n",
       "1  39             0         24       2021-07-10 21:35:55   \n",
       "2  22             0         3        2021-07-10 21:28:51   \n",
       "3  25             0         42       2021-07-10 21:10:47   \n",
       "4  4              0         42       2021-07-10 20:51:15   \n",
       "\n",
       "                                                                                                  clean_tweets  \\\n",
       "0  More is Sore Control is Care WorldPopulationDay PopulationControlLaw PopulationControlBill PopulationPolicy   \n",
       "1  RT Boy I wish the Population Control Bill had come in 1971 UttarPradesh PopulationControlBill                 \n",
       "2  RT 1809 PopulationControlBill UttarPradesh Lovers who are planning their future                               \n",
       "3  RT HUSSAIN I wish the Population Control Bill had come in 1971 UttarPradesh PopulationControlBill             \n",
       "4  RT HUSSAIN I wish the Population Control Bill had come in 1971 UttarPradesh PopulationControlBill             \n",
       "\n",
       "  Sentiment  \n",
       "0  Positive  \n",
       "1  Neutral   \n",
       "2  Neutral   \n",
       "3  Neutral   \n",
       "4  Neutral   "
      ]
     },
     "execution_count": 18,
     "metadata": {},
     "output_type": "execute_result"
    }
   ],
   "source": [
    "df.head()"
   ]
  },
  {
   "cell_type": "code",
   "execution_count": 19,
   "metadata": {},
   "outputs": [
    {
     "name": "stdout",
     "output_type": "stream",
     "text": [
      "original Tweet:\n",
      "#PopulationControlBill\n",
      "#YogiAdityanath \n",
      "@BJP4UP @HTUttarPradesh @INCIndia @PMOIndia @republic @timesofindia \n",
      "I can'… https://t.co/VG2HFlkUSO\n",
      "\n",
      "clean Tweet:\n",
      "PopulationControlBill YogiAdityanath I can\n",
      "\n",
      "Sentiment:\n",
      "Neutral\n"
     ]
    }
   ],
   "source": [
    "n=34\n",
    "print('original Tweet:\\n'+df['Tweets'][n])\n",
    "print()\n",
    "print('clean Tweet:\\n'+df['clean_tweets'][n])\n",
    "print()\n",
    "print('Sentiment:\\n'+df['Sentiment'][n])\n",
    "\n"
   ]
  },
  {
   "cell_type": "code",
   "execution_count": 20,
   "metadata": {},
   "outputs": [
    {
     "name": "stdout",
     "output_type": "stream",
     "text": [
      "original Tweet:\n",
      "RT @prafullaketkar: Couples with more than two children to be ineligible to contest local body polls; won't get benefits of Govt Schemes. #…\n",
      "\n",
      "clean Tweet:\n",
      "RT Couples with more than two children to be ineligible to contest local body polls won t get benefits of Govt Schemes\n",
      "\n",
      "Sentiment:\n",
      "Positive\n"
     ]
    }
   ],
   "source": [
    "n=20\n",
    "print('original Tweet:\\n'+df['Tweets'][n])\n",
    "print()\n",
    "print('clean Tweet:\\n'+df['clean_tweets'][n])\n",
    "print()\n",
    "print('Sentiment:\\n'+df['Sentiment'][n])\n",
    "\n"
   ]
  },
  {
   "cell_type": "code",
   "execution_count": 21,
   "metadata": {},
   "outputs": [
    {
     "data": {
      "text/plain": [
       "197"
      ]
     },
     "execution_count": 21,
     "metadata": {},
     "output_type": "execute_result"
    }
   ],
   "source": [
    "df[df['Sentiment']=='Positive'].shape[0]\n"
   ]
  },
  {
   "cell_type": "code",
   "execution_count": 22,
   "metadata": {},
   "outputs": [
    {
     "data": {
      "text/plain": [
       "144"
      ]
     },
     "execution_count": 22,
     "metadata": {},
     "output_type": "execute_result"
    }
   ],
   "source": [
    "df[df['Sentiment']=='Neutral'].shape[0]\n"
   ]
  },
  {
   "cell_type": "code",
   "execution_count": 23,
   "metadata": {},
   "outputs": [
    {
     "data": {
      "text/plain": [
       "18"
      ]
     },
     "execution_count": 23,
     "metadata": {},
     "output_type": "execute_result"
    }
   ],
   "source": [
    "df[df['Sentiment']=='Negative'].shape[0]"
   ]
  },
  {
   "cell_type": "code",
   "execution_count": null,
   "metadata": {},
   "outputs": [],
   "source": []
  }
 ],
 "metadata": {
  "kernelspec": {
   "display_name": "Python 3",
   "language": "python",
   "name": "python3"
  },
  "language_info": {
   "codemirror_mode": {
    "name": "ipython",
    "version": 3
   },
   "file_extension": ".py",
   "mimetype": "text/x-python",
   "name": "python",
   "nbconvert_exporter": "python",
   "pygments_lexer": "ipython3",
   "version": "3.8.5"
  }
 },
 "nbformat": 4,
 "nbformat_minor": 4
}
