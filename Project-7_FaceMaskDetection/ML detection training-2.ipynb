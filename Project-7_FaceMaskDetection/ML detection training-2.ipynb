{
 "cells": [
  {
   "cell_type": "code",
   "execution_count": 1,
   "id": "1061bf23",
   "metadata": {},
   "outputs": [],
   "source": [
    "import numpy as np\n",
    "import cv2\n"
   ]
  },
  {
   "cell_type": "code",
   "execution_count": 2,
   "id": "7f1c8f90",
   "metadata": {},
   "outputs": [],
   "source": [
    "with_mask = np.load('with_mask.npy')\n",
    "without_mask = np.load('without_mask.npy')"
   ]
  },
  {
   "cell_type": "code",
   "execution_count": 3,
   "id": "a8b3eefd",
   "metadata": {},
   "outputs": [
    {
     "data": {
      "text/plain": [
       "(200, 50, 50, 3)"
      ]
     },
     "execution_count": 3,
     "metadata": {},
     "output_type": "execute_result"
    }
   ],
   "source": [
    "with_mask.shape"
   ]
  },
  {
   "cell_type": "code",
   "execution_count": 4,
   "id": "4a17a46c",
   "metadata": {},
   "outputs": [
    {
     "data": {
      "text/plain": [
       "(200, 50, 50, 3)"
      ]
     },
     "execution_count": 4,
     "metadata": {},
     "output_type": "execute_result"
    }
   ],
   "source": [
    "without_mask.shape"
   ]
  },
  {
   "cell_type": "code",
   "execution_count": 5,
   "id": "f299a932",
   "metadata": {},
   "outputs": [],
   "source": [
    "with_mask = with_mask.reshape(200,50*50*3)  # turning remaining dims into columns\n",
    "without_mask = without_mask.reshape(200,50*50*3 )"
   ]
  },
  {
   "cell_type": "code",
   "execution_count": 6,
   "id": "4cc92d87",
   "metadata": {},
   "outputs": [
    {
     "data": {
      "text/plain": [
       "(200, 7500)"
      ]
     },
     "execution_count": 6,
     "metadata": {},
     "output_type": "execute_result"
    }
   ],
   "source": [
    "with_mask.shape"
   ]
  },
  {
   "cell_type": "code",
   "execution_count": 7,
   "id": "e1334cb0",
   "metadata": {},
   "outputs": [
    {
     "data": {
      "text/plain": [
       "(200, 7500)"
      ]
     },
     "execution_count": 7,
     "metadata": {},
     "output_type": "execute_result"
    }
   ],
   "source": [
    "without_mask.shape"
   ]
  },
  {
   "cell_type": "code",
   "execution_count": 8,
   "id": "f0037b04",
   "metadata": {},
   "outputs": [],
   "source": [
    "X = np.r_[with_mask, without_mask] # r_ is used in numpy to concatenate rows"
   ]
  },
  {
   "cell_type": "code",
   "execution_count": 9,
   "id": "189da048",
   "metadata": {},
   "outputs": [
    {
     "data": {
      "text/plain": [
       "(400, 7500)"
      ]
     },
     "execution_count": 9,
     "metadata": {},
     "output_type": "execute_result"
    }
   ],
   "source": [
    "X.shape"
   ]
  },
  {
   "cell_type": "code",
   "execution_count": 10,
   "id": "2d9359f4",
   "metadata": {},
   "outputs": [],
   "source": [
    "labels = np.zeros(X.shape[0])  # labeling all values to zero, X.shape[0] is 400"
   ]
  },
  {
   "cell_type": "code",
   "execution_count": 11,
   "id": "9fa3fcd3",
   "metadata": {},
   "outputs": [],
   "source": [
    "labels[200:] = 1.0  # after 200 converting to 1 as label"
   ]
  },
  {
   "cell_type": "code",
   "execution_count": 12,
   "id": "51209568",
   "metadata": {},
   "outputs": [],
   "source": [
    "from sklearn.svm import SVC\n",
    "from sklearn.metrics import accuracy_score\n",
    "from sklearn.model_selection import train_test_split\n"
   ]
  },
  {
   "cell_type": "code",
   "execution_count": 13,
   "id": "0bbd7c91",
   "metadata": {},
   "outputs": [],
   "source": [
    "X_train,X_test,y_train,y_test = train_test_split(X, labels, test_size=0.20)\n"
   ]
  },
  {
   "cell_type": "code",
   "execution_count": 14,
   "id": "1d6c65ad",
   "metadata": {},
   "outputs": [
    {
     "data": {
      "text/plain": [
       "(320, 7500)"
      ]
     },
     "execution_count": 14,
     "metadata": {},
     "output_type": "execute_result"
    }
   ],
   "source": [
    "X_train.shape"
   ]
  },
  {
   "cell_type": "code",
   "execution_count": 15,
   "id": "6a19570e",
   "metadata": {},
   "outputs": [],
   "source": [
    "# Dimensional reductionality technique to reduce 7500 columns\n",
    "from sklearn.decomposition import PCA\n",
    "pca = PCA(n_components=3) \n",
    "X_train = pca.fit_transform(X_train)\n",
    "X_test = pca.transform(X_test)"
   ]
  },
  {
   "cell_type": "code",
   "execution_count": 16,
   "id": "ffc43c7b",
   "metadata": {},
   "outputs": [
    {
     "data": {
      "text/plain": [
       "array([ 3225.52546852, -1096.65944943,   212.28582534])"
      ]
     },
     "execution_count": 16,
     "metadata": {},
     "output_type": "execute_result"
    }
   ],
   "source": [
    "X_train[0] # behind maths eigen values and eigen vectors of matrix arrays in pca to reduce dims"
   ]
  },
  {
   "cell_type": "code",
   "execution_count": 17,
   "id": "dd7df8b3",
   "metadata": {},
   "outputs": [
    {
     "data": {
      "text/plain": [
       "(320, 3)"
      ]
     },
     "execution_count": 17,
     "metadata": {},
     "output_type": "execute_result"
    }
   ],
   "source": [
    "X_train.shape"
   ]
  },
  {
   "cell_type": "code",
   "execution_count": 18,
   "id": "3f3bd2e2",
   "metadata": {},
   "outputs": [],
   "source": [
    "X_train,X_test,y_train,y_test = train_test_split(X, labels)\n"
   ]
  },
  {
   "cell_type": "code",
   "execution_count": 19,
   "id": "9223b326",
   "metadata": {},
   "outputs": [
    {
     "data": {
      "text/plain": [
       "SVC(random_state=0)"
      ]
     },
     "execution_count": 19,
     "metadata": {},
     "output_type": "execute_result"
    }
   ],
   "source": [
    "svm = SVC(random_state=0)\n",
    "svm.fit(X_train, y_train)\n"
   ]
  },
  {
   "cell_type": "code",
   "execution_count": 20,
   "id": "9e08b381",
   "metadata": {},
   "outputs": [],
   "source": [
    "y_pred = svm.predict(X_test)"
   ]
  },
  {
   "cell_type": "code",
   "execution_count": 21,
   "id": "0e97f9e2",
   "metadata": {},
   "outputs": [
    {
     "data": {
      "text/plain": [
       "1.0"
      ]
     },
     "execution_count": 21,
     "metadata": {},
     "output_type": "execute_result"
    }
   ],
   "source": [
    "accuracy_score(y_test,y_pred)\n"
   ]
  },
  {
   "cell_type": "raw",
   "id": "550bf18d",
   "metadata": {},
   "source": [
    "from sklearn.model_selection import ShuffleSplit\n",
    "n_samples = X.shape[0]\n",
    "cv = ShuffleSplit(n_splits=5, test_size=0.3, random_state=0)"
   ]
  },
  {
   "cell_type": "raw",
   "id": "9c619bf0",
   "metadata": {},
   "source": [
    "from sklearn.model_selection import KFold, cross_val_score, validation_curve\n",
    "svm = SVC(random_state=42)\n",
    "scores = cross_val_score(svm, X, labels, cv=cv)\n",
    "print (scores.mean()*100, \"%\")\n",
    "\n"
   ]
  },
  {
   "cell_type": "code",
   "execution_count": 22,
   "id": "e802ff2f",
   "metadata": {},
   "outputs": [],
   "source": [
    "haar_data = cv2.CascadeClassifier(r\"E:\\AI-ML PYTHON\\Project-7\\Mask dataset\\haarcascade_frontalface_default - Govindaraj V.xml\")"
   ]
  },
  {
   "cell_type": "code",
   "execution_count": 23,
   "id": "c5bdad1c",
   "metadata": {},
   "outputs": [],
   "source": [
    "names = {0:'Mask', 1:'No Mask'}\n",
    "color_dict={0:(0,255,0),1:(0,0,255)}"
   ]
  },
  {
   "cell_type": "code",
   "execution_count": 24,
   "id": "7783c4ed",
   "metadata": {},
   "outputs": [],
   "source": [
    "capture=cv2.VideoCapture(0)\n",
    "data = []\n",
    "\n",
    "\n",
    "while True:\n",
    "    flag,img = capture.read()\n",
    "    if flag:\n",
    "        faces = haar_data.detectMultiScale(img)\n",
    "        for x,y,w,h in faces:\n",
    "            face = img[y:y+h, x:x+w, :]\n",
    "            face = cv2.resize(face,(50,50))\n",
    "            face = face.reshape(1,-1)\n",
    "          #  face = pca.tranform(face)\n",
    "            pred = svm.predict(face)[0]\n",
    "            n = names[int(pred)] \n",
    "            cv2.rectangle(img,(x,y),(x+w, y+h), color_dict[pred] ,2)  \n",
    "            cv2.rectangle(img,(x,y-40),(x+w,y), color_dict[pred],-1)\n",
    "            cv2.putText(img, n, (x,y), cv2.FONT_HERSHEY_SIMPLEX, 1, (255,255,255),2)\n",
    "                                     # 1 is 16 pixes font and 2 is font weight bold\n",
    "        cv2.imshow('result',img)\n",
    "        \n",
    "        if cv2.waitKey(2) == 27:\n",
    "            break\n",
    "            \n",
    "capture.release()\n",
    "cv2.destroyAllWindows()\n"
   ]
  },
  {
   "cell_type": "code",
   "execution_count": null,
   "id": "e229c892",
   "metadata": {},
   "outputs": [],
   "source": []
  },
  {
   "cell_type": "code",
   "execution_count": null,
   "id": "ab23a224",
   "metadata": {},
   "outputs": [],
   "source": []
  }
 ],
 "metadata": {
  "kernelspec": {
   "display_name": "Python 3",
   "language": "python",
   "name": "python3"
  },
  "language_info": {
   "codemirror_mode": {
    "name": "ipython",
    "version": 3
   },
   "file_extension": ".py",
   "mimetype": "text/x-python",
   "name": "python",
   "nbconvert_exporter": "python",
   "pygments_lexer": "ipython3",
   "version": "3.8.5"
  }
 },
 "nbformat": 4,
 "nbformat_minor": 5
}
