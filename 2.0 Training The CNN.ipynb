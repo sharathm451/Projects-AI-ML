{
 "cells": [
  {
   "cell_type": "code",
   "execution_count": 1,
   "id": "bdd1e9c0",
   "metadata": {},
   "outputs": [],
   "source": [
    "import numpy as np\n",
    "\n",
    "data=np.load('data.npy')\n",
    "target=np.load('target.npy')\n"
   ]
  },
  {
   "cell_type": "code",
   "execution_count": 2,
   "id": "cd251da3",
   "metadata": {},
   "outputs": [],
   "source": [
    "from keras.models import Sequential\n",
    "from keras.layers import Dense,Activation,Flatten,Dropout\n",
    "from keras.layers import Conv2D,MaxPooling2D\n",
    "from keras.callbacks import ModelCheckpoint\n"
   ]
  },
  {
   "cell_type": "code",
   "execution_count": 3,
   "id": "3e816cbb",
   "metadata": {},
   "outputs": [],
   "source": [
    "model = Sequential()\n",
    "\n",
    "model.add(Conv2D(200,(3,3),input_shape=data.shape[1:])) # which is (100,100,3)\n",
    "model.add(Activation('relu'))\n",
    "model.add(MaxPooling2D(pool_size=(2,2)))\n",
    "\n",
    "model.add(Conv2D(100,(3,3)))\n",
    "model.add(Activation('relu'))\n",
    "model.add(MaxPooling2D(pool_size=(2,2)))\n",
    "\n",
    "model.add(Flatten())\n",
    "model.add(Dropout(0.5))\n",
    "model.add(Dense(50,activation='relu'))\n",
    "model.add(Dense(2,activation='softmax'))\n",
    "\n",
    "model.compile(optimizer='adam',\n",
    "             loss='categorical_crossentropy',\n",
    "             metrics=['accuracy'])"
   ]
  },
  {
   "cell_type": "code",
   "execution_count": 4,
   "id": "5a93d21f",
   "metadata": {},
   "outputs": [],
   "source": [
    "from sklearn.model_selection import train_test_split\n",
    "X_train,X_test, y_train,y_test = train_test_split(data,target,test_size=0.2,random_state=1)"
   ]
  },
  {
   "cell_type": "code",
   "execution_count": 6,
   "id": "05b47ec0",
   "metadata": {},
   "outputs": [
    {
     "name": "stdout",
     "output_type": "stream",
     "text": [
      "Epoch 1/20\n",
      "28/28 [==============================] - ETA: 0s - loss: 0.7122 - accuracy: 0.5568WARNING:tensorflow:From D:\\ANACONDA\\lib\\site-packages\\tensorflow\\python\\training\\tracking\\tracking.py:111: Model.state_updates (from tensorflow.python.keras.engine.training) is deprecated and will be removed in a future version.\n",
      "Instructions for updating:\n",
      "This property should not be used in TensorFlow 2.0, as updates are applied automatically.\n",
      "WARNING:tensorflow:From D:\\ANACONDA\\lib\\site-packages\\tensorflow\\python\\training\\tracking\\tracking.py:111: Layer.updates (from tensorflow.python.keras.engine.base_layer) is deprecated and will be removed in a future version.\n",
      "Instructions for updating:\n",
      "This property should not be used in TensorFlow 2.0, as updates are applied automatically.\n",
      "INFO:tensorflow:Assets written to: model-001.model\\assets\n",
      "28/28 [==============================] - 54s 2s/step - loss: 0.7122 - accuracy: 0.5568 - val_loss: 0.6289 - val_accuracy: 0.6818\n",
      "Epoch 2/20\n",
      "28/28 [==============================] - ETA: 0s - loss: 0.5813 - accuracy: 0.7091INFO:tensorflow:Assets written to: model-002.model\\assets\n",
      "28/28 [==============================] - 64s 2s/step - loss: 0.5813 - accuracy: 0.7091 - val_loss: 0.4725 - val_accuracy: 0.8500\n",
      "Epoch 3/20\n",
      "28/28 [==============================] - ETA: 0s - loss: 0.3857 - accuracy: 0.8511INFO:tensorflow:Assets written to: model-003.model\\assets\n",
      "28/28 [==============================] - 57s 2s/step - loss: 0.3857 - accuracy: 0.8511 - val_loss: 0.3503 - val_accuracy: 0.8682\n",
      "Epoch 4/20\n",
      "28/28 [==============================] - ETA: 0s - loss: 0.3073 - accuracy: 0.8727INFO:tensorflow:Assets written to: model-004.model\\assets\n",
      "28/28 [==============================] - 62s 2s/step - loss: 0.3073 - accuracy: 0.8727 - val_loss: 0.2147 - val_accuracy: 0.9227\n",
      "Epoch 5/20\n",
      "28/28 [==============================] - ETA: 0s - loss: 0.2175 - accuracy: 0.9239INFO:tensorflow:Assets written to: model-005.model\\assets\n",
      "28/28 [==============================] - 60s 2s/step - loss: 0.2175 - accuracy: 0.9239 - val_loss: 0.2025 - val_accuracy: 0.9273\n",
      "Epoch 6/20\n",
      "28/28 [==============================] - ETA: 0s - loss: 0.1786 - accuracy: 0.9375INFO:tensorflow:Assets written to: model-006.model\\assets\n",
      "28/28 [==============================] - 58s 2s/step - loss: 0.1786 - accuracy: 0.9375 - val_loss: 0.1589 - val_accuracy: 0.9455\n",
      "Epoch 7/20\n",
      "28/28 [==============================] - 56s 2s/step - loss: 0.1138 - accuracy: 0.9625 - val_loss: 0.2029 - val_accuracy: 0.9409\n",
      "Epoch 8/20\n",
      "28/28 [==============================] - 54s 2s/step - loss: 0.0960 - accuracy: 0.9670 - val_loss: 0.1593 - val_accuracy: 0.9500\n",
      "Epoch 9/20\n",
      "28/28 [==============================] - 54s 2s/step - loss: 0.0943 - accuracy: 0.9648 - val_loss: 0.2185 - val_accuracy: 0.8955\n",
      "Epoch 10/20\n",
      "28/28 [==============================] - 56s 2s/step - loss: 0.0847 - accuracy: 0.9682 - val_loss: 0.1974 - val_accuracy: 0.9545\n",
      "Epoch 11/20\n",
      "28/28 [==============================] - ETA: 0s - loss: 0.0915 - accuracy: 0.9682INFO:tensorflow:Assets written to: model-011.model\\assets\n",
      "28/28 [==============================] - 63s 2s/step - loss: 0.0915 - accuracy: 0.9682 - val_loss: 0.1544 - val_accuracy: 0.9500\n",
      "Epoch 12/20\n",
      "28/28 [==============================] - 53s 2s/step - loss: 0.0709 - accuracy: 0.9750 - val_loss: 0.1822 - val_accuracy: 0.9545\n",
      "Epoch 13/20\n",
      "28/28 [==============================] - 58s 2s/step - loss: 0.0491 - accuracy: 0.9807 - val_loss: 0.1662 - val_accuracy: 0.9455\n",
      "Epoch 14/20\n",
      "28/28 [==============================] - 60s 2s/step - loss: 0.0464 - accuracy: 0.9852 - val_loss: 0.2028 - val_accuracy: 0.9500\n",
      "Epoch 15/20\n",
      "28/28 [==============================] - 52s 2s/step - loss: 0.0463 - accuracy: 0.9852 - val_loss: 0.1864 - val_accuracy: 0.9545\n",
      "Epoch 16/20\n",
      "28/28 [==============================] - 55s 2s/step - loss: 0.0269 - accuracy: 0.9920 - val_loss: 0.2045 - val_accuracy: 0.9591\n",
      "Epoch 17/20\n",
      "28/28 [==============================] - 53s 2s/step - loss: 0.0267 - accuracy: 0.9920 - val_loss: 0.1904 - val_accuracy: 0.9500\n",
      "Epoch 18/20\n",
      "28/28 [==============================] - 53s 2s/step - loss: 0.0397 - accuracy: 0.9886 - val_loss: 0.1667 - val_accuracy: 0.9591\n",
      "Epoch 19/20\n",
      "28/28 [==============================] - 52s 2s/step - loss: 0.0294 - accuracy: 0.9920 - val_loss: 0.2663 - val_accuracy: 0.9455\n",
      "Epoch 20/20\n",
      "28/28 [==============================] - 58s 2s/step - loss: 0.0480 - accuracy: 0.9830 - val_loss: 0.2532 - val_accuracy: 0.9455\n"
     ]
    }
   ],
   "source": [
    "checkpoint=ModelCheckpoint('model-{epoch:03d}.model',monitor='val_loss',verbose=0,save_best_only=True,mode='auto')\n",
    "history=model.fit(X_train,y_train,epochs=20,callbacks=[checkpoint],validation_split=0.2)"
   ]
  },
  {
   "cell_type": "code",
   "execution_count": 7,
   "id": "488d84b4",
   "metadata": {},
   "outputs": [
    {
     "data": {
      "image/png": "[encoded data removed]",
      "text/plain": [
       "<Figure size 432x288 with 1 Axes>"
      ]
     },
     "metadata": {
      "needs_background": "light"
     },
     "output_type": "display_data"
    }
   ],
   "source": [
    "from matplotlib import pyplot as plt\n",
    "\n",
    "plt.plot(history.history['loss'],'r',label='training loss')\n",
    "plt.plot(history.history['val_loss'],label='validation loss')\n",
    "plt.xlabel('# epochs')\n",
    "plt.ylabel('loss')\n",
    "plt.legend()\n",
    "plt.show()"
   ]
  },
  {
   "cell_type": "code",
   "execution_count": 8,
   "id": "28fac8f8",
   "metadata": {},
   "outputs": [
    {
     "data": {
      "image/png": "[encoded data removed]",
      "text/plain": [
       "<Figure size 432x288 with 1 Axes>"
      ]
     },
     "metadata": {
      "needs_background": "light"
     },
     "output_type": "display_data"
    }
   ],
   "source": [
    "plt.plot(history.history['accuracy'],'r',label='training accuracy')\n",
    "plt.plot(history.history['val_accuracy'],label='validation accuracy')\n",
    "plt.xlabel('# epochs')\n",
    "plt.ylabel('loss')\n",
    "plt.legend()\n",
    "plt.show()"
   ]
  },
  {
   "cell_type": "code",
   "execution_count": 9,
   "id": "cd225c2a",
   "metadata": {},
   "outputs": [
    {
     "ename": "NameError",
     "evalue": "name 'test_data' is not defined",
     "output_type": "error",
     "traceback": [
      "\u001b[1;31m---------------------------------------------------------------------------\u001b[0m",
      "\u001b[1;31mNameError\u001b[0m                                 Traceback (most recent call last)",
      "\u001b[1;32m<ipython-input-9-a15c08f78d9b>\u001b[0m in \u001b[0;36m<module>\u001b[1;34m\u001b[0m\n\u001b[1;32m----> 1\u001b[1;33m \u001b[0mprint\u001b[0m\u001b[1;33m(\u001b[0m\u001b[0mmodel\u001b[0m\u001b[1;33m.\u001b[0m\u001b[0mevaluate\u001b[0m\u001b[1;33m(\u001b[0m\u001b[0mtest_data\u001b[0m\u001b[1;33m,\u001b[0m\u001b[0mtest_target\u001b[0m\u001b[1;33m)\u001b[0m\u001b[1;33m)\u001b[0m\u001b[1;33m\u001b[0m\u001b[1;33m\u001b[0m\u001b[0m\n\u001b[0m",
      "\u001b[1;31mNameError\u001b[0m: name 'test_data' is not defined"
     ]
    }
   ],
   "source": [
    "print(model.evaluate(test_data,test_target))"
   ]
  },
  {
   "cell_type": "markdown",
   "id": "74cdaa85",
   "metadata": {},
   "source": [
    " - if checkpoint is used here no need to save model separately we can load specific best model manually \n",
    " -  if not model has to be saved with model.save('model.h5') syntax"
   ]
  },
  {
   "cell_type": "code",
   "execution_count": null,
   "id": "a6fd8b7f",
   "metadata": {},
   "outputs": [],
   "source": []
  }
 ],
 "metadata": {
  "kernelspec": {
   "display_name": "Python 3",
   "language": "python",
   "name": "python3"
  },
  "language_info": {
   "codemirror_mode": {
    "name": "ipython",
    "version": 3
   },
   "file_extension": ".py",
   "mimetype": "text/x-python",
   "name": "python",
   "nbconvert_exporter": "python",
   "pygments_lexer": "ipython3",
   "version": "3.8.5"
  }
 },
 "nbformat": 4,
 "nbformat_minor": 5
}
