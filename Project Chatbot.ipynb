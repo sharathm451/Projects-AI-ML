{
  "nbformat": 4,
  "nbformat_minor": 0,
  "metadata": {
    "colab": {
      "name": "Chatbot.ipynb",
      "provenance": []
    },
    "kernelspec": {
      "name": "python3",
      "display_name": "Python 3"
    },
    "language_info": {
      "name": "python"
    },
    "accelerator": "GPU"
  },
  "cells": [
    {
      "cell_type": "markdown",
      "metadata": {
        "id": "7YLI4Hc_xm6e"
      },
      "source": [
        "**Sentence Tokenization**"
      ]
    },
    {
      "cell_type": "code",
      "metadata": {
        "colab": {
          "base_uri": "https://localhost:8080/"
        },
        "id": "E7qzpWZvxAuM",
        "outputId": "9c32068d-a4a7-423d-8721-5f77e3e8e63a"
      },
      "source": [
        "import nltk\n",
        "nltk.download('punkt')\n",
        "from nltk.tokenize import sent_tokenize\n",
        "text = \"\"\"Hello Mr.john, Hope you are doing good.\n",
        "By the way i have a plan to visit your house in the next week\"\"\"\n",
        "token_sent = sent_tokenize(text)\n",
        "print(token_sent)"
      ],
      "execution_count": null,
      "outputs": [
        {
          "output_type": "stream",
          "text": [
            "[nltk_data] Downloading package punkt to /root/nltk_data...\n",
            "[nltk_data]   Package punkt is already up-to-date!\n",
            "['Hello Mr.john, Hope you are doing good.', 'By the way i have a plan to visit your house in the next week']\n"
          ],
          "name": "stdout"
        }
      ]
    },
    {
      "cell_type": "markdown",
      "metadata": {
        "id": "MBuQsqpRywJl"
      },
      "source": [
        "**Word Tokenization**"
      ]
    },
    {
      "cell_type": "code",
      "metadata": {
        "colab": {
          "base_uri": "https://localhost:8080/"
        },
        "id": "iZRkCx79xAiO",
        "outputId": "68371863-9419-46dc-dfce-1ea78405b917"
      },
      "source": [
        "from nltk.tokenize import word_tokenize\n",
        "token_word = word_tokenize(text)\n",
        "print(token_word)"
      ],
      "execution_count": null,
      "outputs": [
        {
          "output_type": "stream",
          "text": [
            "['Hello', 'Mr.john', ',', 'Hope', 'you', 'are', 'doing', 'good', '.', 'By', 'the', 'way', 'i', 'have', 'a', 'plan', 'to', 'visit', 'your', 'house', 'in', 'the', 'next', 'week']\n"
          ],
          "name": "stdout"
        }
      ]
    },
    {
      "cell_type": "markdown",
      "metadata": {
        "id": "Cl3WY9mNzEVj"
      },
      "source": [
        "**Frequent Distribution**"
      ]
    },
    {
      "cell_type": "code",
      "metadata": {
        "colab": {
          "base_uri": "https://localhost:8080/"
        },
        "id": "fVcu8GUKxAVd",
        "outputId": "a3c0e4a2-2f5f-49e3-cda4-291297f06a02"
      },
      "source": [
        "from nltk.probability import FreqDist\n",
        "freq_dist=FreqDist(token_word)\n",
        "print(freq_dist)"
      ],
      "execution_count": null,
      "outputs": [
        {
          "output_type": "stream",
          "text": [
            "<FreqDist with 23 samples and 24 outcomes>\n"
          ],
          "name": "stdout"
        }
      ]
    },
    {
      "cell_type": "code",
      "metadata": {
        "colab": {
          "base_uri": "https://localhost:8080/"
        },
        "id": "Vj-I3ZRdxALT",
        "outputId": "4e6de4de-109e-4e76-8b9d-002c9cac4c96"
      },
      "source": [
        "freq_dist.most_common()"
      ],
      "execution_count": null,
      "outputs": [
        {
          "output_type": "execute_result",
          "data": {
            "text/plain": [
              "[('the', 2),\n",
              " ('Hello', 1),\n",
              " ('Mr.john', 1),\n",
              " (',', 1),\n",
              " ('Hope', 1),\n",
              " ('you', 1),\n",
              " ('are', 1),\n",
              " ('doing', 1),\n",
              " ('good', 1),\n",
              " ('.', 1),\n",
              " ('By', 1),\n",
              " ('way', 1),\n",
              " ('i', 1),\n",
              " ('have', 1),\n",
              " ('a', 1),\n",
              " ('plan', 1),\n",
              " ('to', 1),\n",
              " ('visit', 1),\n",
              " ('your', 1),\n",
              " ('house', 1),\n",
              " ('in', 1),\n",
              " ('next', 1),\n",
              " ('week', 1)]"
            ]
          },
          "metadata": {
            "tags": []
          },
          "execution_count": 4
        }
      ]
    },
    {
      "cell_type": "code",
      "metadata": {
        "colab": {
          "base_uri": "https://localhost:8080/",
          "height": 306
        },
        "id": "2lsYSHbwxAAc",
        "outputId": "a7851b54-a241-4e86-8a66-5c14751efafd"
      },
      "source": [
        "import matplotlib.pyplot as plt \n",
        "freq_dist.plot(27,cumulative=False)\n",
        "plt.show()"
      ],
      "execution_count": null,
      "outputs": [
        {
          "output_type": "display_data",
          "data": {
            "image/png": "[encoded data removed]",
            "text/plain": [
              "<Figure size 432x288 with 1 Axes>"
            ]
          },
          "metadata": {
            "tags": [],
            "needs_background": "light"
          }
        }
      ]
    },
    {
      "cell_type": "markdown",
      "metadata": {
        "id": "O-nBzxHuz0oN"
      },
      "source": [
        "**Stop Words**"
      ]
    },
    {
      "cell_type": "code",
      "metadata": {
        "colab": {
          "base_uri": "https://localhost:8080/"
        },
        "id": "Jl4h-9QPw_pE",
        "outputId": "1dfe73bc-d87b-4123-d4b0-6d99d406c3f0"
      },
      "source": [
        "nltk.download('stopwords')\n",
        "from nltk.corpus import stopwords\n",
        "stop_words=set(stopwords.words('english'))\n",
        "print(stop_words)"
      ],
      "execution_count": null,
      "outputs": [
        {
          "output_type": "stream",
          "text": [
            "[nltk_data] Downloading package stopwords to /root/nltk_data...\n",
            "[nltk_data]   Package stopwords is already up-to-date!\n",
            "{'those', 'on', 'won', \"it's\", 'are', 're', 'yourselves', 'had', 'such', 'and', 'at', 'ourselves', 'own', 'only', 'than', 'himself', 'few', 'mightn', 'for', 's', 'wouldn', 'will', \"don't\", 'does', 'then', 'if', \"hasn't\", 'when', 'yourself', 'once', 'doing', 'with', 'i', 'how', 'other', 'll', 'shan', 'very', 'its', 'have', 'below', \"shouldn't\", 'doesn', 'be', 'in', \"wouldn't\", 'after', 'not', \"mustn't\", 'am', 'here', 'so', 'their', 'should', 'why', 'no', \"mightn't\", 'this', \"aren't\", 'against', 'just', 'of', 'hasn', 'we', 'yours', 'did', \"doesn't\", 'before', 'o', 'ain', 'was', 'ours', 'them', 'ma', 'by', 'she', 'y', \"isn't\", 'your', 'hadn', 'they', 'd', 'he', 'herself', 'couldn', 'further', 'mustn', 've', 'through', \"wasn't\", 'wasn', 'hers', 'both', \"she's\", 'has', 'an', \"needn't\", 'themselves', 'my', \"you'll\", 'haven', 'most', 'where', 'but', 'now', 'nor', 'who', 'all', 'whom', 'm', 'can', 'itself', 'any', \"shan't\", \"haven't\", 'aren', 'as', 'above', 'the', \"weren't\", 'down', 'our', 'to', \"you'd\", 'a', 'off', 'because', 'his', 'under', 'same', 'about', 'needn', 'over', 'during', 'more', \"should've\", \"won't\", 'into', 'each', 'that', 'while', 'been', 'me', 'didn', \"you're\", 'what', 'up', 'again', 'some', 'shouldn', 'weren', \"didn't\", 'or', 'isn', 'him', 'which', 'too', 'out', 'her', 'having', 'do', 'from', 'there', 'it', \"that'll\", 'these', 'myself', 'you', \"you've\", 'theirs', 'being', 'between', 'were', \"couldn't\", 'until', 't', \"hadn't\", 'don', 'is'}\n"
          ],
          "name": "stdout"
        }
      ]
    },
    {
      "cell_type": "code",
      "metadata": {
        "colab": {
          "base_uri": "https://localhost:8080/"
        },
        "id": "sjVFK-Dgw_dj",
        "outputId": "d2ae8794-1cb3-4c05-bfe4-fa702dba112f"
      },
      "source": [
        "len(stop_words)"
      ],
      "execution_count": null,
      "outputs": [
        {
          "output_type": "execute_result",
          "data": {
            "text/plain": [
              "179"
            ]
          },
          "metadata": {
            "tags": []
          },
          "execution_count": 7
        }
      ]
    },
    {
      "cell_type": "markdown",
      "metadata": {
        "id": "qsDNfa_21Zqr"
      },
      "source": [
        "**Removing Stopwords**"
      ]
    },
    {
      "cell_type": "code",
      "metadata": {
        "colab": {
          "base_uri": "https://localhost:8080/"
        },
        "id": "SVSHo9Oww_Qf",
        "outputId": "116e8313-a211-4cd4-c558-7848a495b6c4"
      },
      "source": [
        "filtered_sent=[]\n",
        "for w in token_word:\n",
        "  if w not in stop_words:\n",
        "    filtered_sent.append(w)\n",
        "print('Token sent\\n\\n',token_word)\n",
        "print('\\n')\n",
        "print('After Removing Stopwords\\n\\n',filtered_sent)\n"
      ],
      "execution_count": null,
      "outputs": [
        {
          "output_type": "stream",
          "text": [
            "Token sent\n",
            "\n",
            " ['Hello', 'Mr.john', ',', 'Hope', 'you', 'are', 'doing', 'good', '.', 'By', 'the', 'way', 'i', 'have', 'a', 'plan', 'to', 'visit', 'your', 'house', 'in', 'the', 'next', 'week']\n",
            "\n",
            "\n",
            "After Removing Stopwords\n",
            "\n",
            " ['Hello', 'Mr.john', ',', 'Hope', 'good', '.', 'By', 'way', 'plan', 'visit', 'house', 'next', 'week']\n"
          ],
          "name": "stdout"
        }
      ]
    },
    {
      "cell_type": "markdown",
      "metadata": {
        "id": "67LJJSIM25dW"
      },
      "source": [
        "**Stemming**"
      ]
    },
    {
      "cell_type": "code",
      "metadata": {
        "colab": {
          "base_uri": "https://localhost:8080/"
        },
        "id": "Y9F-8-sKw-4v",
        "outputId": "76f35214-7742-43aa-8a38-1fe96be839d1"
      },
      "source": [
        "st='connect,connected,connecting'\n",
        "st_words=word_tokenize(st)\n",
        "print(st_words)"
      ],
      "execution_count": null,
      "outputs": [
        {
          "output_type": "stream",
          "text": [
            "['connect', ',', 'connected', ',', 'connecting']\n"
          ],
          "name": "stdout"
        }
      ]
    },
    {
      "cell_type": "code",
      "metadata": {
        "colab": {
          "base_uri": "https://localhost:8080/"
        },
        "id": "mRAU1bFZw_Dz",
        "outputId": "6723e61c-f276-4423-fd2e-c32d4363a107"
      },
      "source": [
        " from nltk.stem import PorterStemmer\n",
        " ps = PorterStemmer()\n",
        " stemmed_words=[]\n",
        " for w in st_words:\n",
        "   stemmed_words.append(ps.stem(w))\n",
        "print(\"\\n The filterd sentence \\n \\t\",filtered_sent)\n",
        "print(\"\\n stemmed words \\n\",stemmed_words)"
      ],
      "execution_count": null,
      "outputs": [
        {
          "output_type": "stream",
          "text": [
            "\n",
            " The filterd sentence \n",
            " \t ['Hello', 'Mr.john', ',', 'Hope', 'good', '.', 'By', 'way', 'plan', 'visit', 'house', 'next', 'week']\n",
            "\n",
            " stemmed words \n",
            " ['connect', ',', 'connect', ',', 'connect']\n"
          ],
          "name": "stdout"
        }
      ]
    },
    {
      "cell_type": "markdown",
      "metadata": {
        "id": "WpjxSzYW4bmS"
      },
      "source": [
        "**Lemmetization**"
      ]
    },
    {
      "cell_type": "code",
      "metadata": {
        "colab": {
          "base_uri": "https://localhost:8080/"
        },
        "id": "nU6vgDF24Lcp",
        "outputId": "5e54093a-3022-4414-ac92-bbae486abc80"
      },
      "source": [
        "nltk.download('wordnet')\n",
        "from nltk.stem import WordNetLemmatizer\n",
        "lem=WordNetLemmatizer()\n",
        "stem=PorterStemmer()\n",
        "word='flying'\n",
        "print('Lemmatized word\\n',lem.lemmatize(word,'v'))\n",
        "print('\\n stemmed word\\n',stem.stem(word))"
      ],
      "execution_count": null,
      "outputs": [
        {
          "output_type": "stream",
          "text": [
            "[nltk_data] Downloading package wordnet to /root/nltk_data...\n",
            "[nltk_data]   Package wordnet is already up-to-date!\n",
            "Lemmatized word\n",
            " fly\n",
            "\n",
            " stemmed word\n",
            " fli\n"
          ],
          "name": "stdout"
        }
      ]
    },
    {
      "cell_type": "code",
      "metadata": {
        "id": "yRK55Zfyw3Zf"
      },
      "source": [
        "import numpy as np\n",
        "import nltk\n",
        "import string\n",
        "import random"
      ],
      "execution_count": null,
      "outputs": []
    },
    {
      "cell_type": "markdown",
      "metadata": {
        "id": "qrRrImqfxgd3"
      },
      "source": [
        "**Importing and Reading the corpus**\n"
      ]
    },
    {
      "cell_type": "code",
      "metadata": {
        "colab": {
          "base_uri": "https://localhost:8080/"
        },
        "id": "L0Mp-86VxmxD",
        "outputId": "64706728-7c61-46a5-fce1-538de53de928"
      },
      "source": [
        " f = open('chatbot.txt','r',errors='ignore')\n",
        "raw_doc = f.read()\n",
        "raw_doc = raw_doc.lower() \n",
        "nltk.download('punkt') #Using the punkt tokenizer\n",
        "nltk.download('wordnet') #using the wordnet dictionary\n",
        "sent_tokens = nltk.sent_tokenize(raw_doc) # converts doc to list of sentences\n",
        "word_tokens = nltk.word_tokenize(raw_doc) # converts doc to list of words"
      ],
      "execution_count": null,
      "outputs": [
        {
          "output_type": "stream",
          "text": [
            "[nltk_data] Downloading package punkt to /root/nltk_data...\n",
            "[nltk_data]   Package punkt is already up-to-date!\n",
            "[nltk_data] Downloading package wordnet to /root/nltk_data...\n",
            "[nltk_data]   Package wordnet is already up-to-date!\n"
          ],
          "name": "stdout"
        }
      ]
    },
    {
      "cell_type": "markdown",
      "metadata": {
        "id": "I203DGCO0Vbj"
      },
      "source": [
        "**Example of sentence tokens**"
      ]
    },
    {
      "cell_type": "code",
      "metadata": {
        "colab": {
          "base_uri": "https://localhost:8080/"
        },
        "id": "odudQwE90cLa",
        "outputId": "a3a7a93c-73e7-41c7-f392-a16807c5fee2"
      },
      "source": [
        "sent_tokens[:2]"
      ],
      "execution_count": null,
      "outputs": [
        {
          "output_type": "execute_result",
          "data": {
            "text/plain": [
              "['a chatbot (also known as a talkbot, chatterbot, bot, im bot, interactive agent, or artificial conversational entity) is a computer program or an artificial intelligence which conducts a conversation via auditory or textual methods.',\n",
              " 'such programs are often designed to convincingly simulate how a human would behave as a conversational partner, thereby passing the turing test.']"
            ]
          },
          "metadata": {
            "tags": []
          },
          "execution_count": 14
        }
      ]
    },
    {
      "cell_type": "markdown",
      "metadata": {
        "id": "_GvkMS2j07_s"
      },
      "source": [
        "**Example of word tokens**"
      ]
    },
    {
      "cell_type": "code",
      "metadata": {
        "colab": {
          "base_uri": "https://localhost:8080/"
        },
        "id": "C2c7vpFs00YL",
        "outputId": "da72aa85-ef12-46a7-80b1-5088a3b8e50d"
      },
      "source": [
        "word_tokens[:3]"
      ],
      "execution_count": null,
      "outputs": [
        {
          "output_type": "execute_result",
          "data": {
            "text/plain": [
              "['a', 'chatbot', '(']"
            ]
          },
          "metadata": {
            "tags": []
          },
          "execution_count": 15
        }
      ]
    },
    {
      "cell_type": "markdown",
      "metadata": {
        "id": "P01fPXQ11K45"
      },
      "source": [
        "**Text preprocessing**"
      ]
    },
    {
      "cell_type": "code",
      "metadata": {
        "id": "dSspsASv1G2H"
      },
      "source": [
        "lemmer = nltk.stem.WordNetLemmatizer()\n",
        "# wordnet is a semantically-oriented dictionary of English included in NLTK.\n",
        "def LemTokens(tokens):\n",
        "  return [lemmer.lemmatize(token) for token in tokens]\n",
        "remove_punct_dict = dict((ord(punct),None) for punct in string.punctuation)\n",
        "def LemNormalize(text):\n",
        "  return LemTokens(nltk.word_tokenize(text.lower().translate(remove_punct_dict)))"
      ],
      "execution_count": null,
      "outputs": []
    },
    {
      "cell_type": "markdown",
      "metadata": {
        "id": "JtwJ_-eQ8iVt"
      },
      "source": [
        "**Defining the greeting function**"
      ]
    },
    {
      "cell_type": "code",
      "metadata": {
        "id": "l8K4v0ud8nKy"
      },
      "source": [
        "Greet_Inputs = (\"hello\",\"hi\",\"greetings\",\"sup\",\"what's up\",\"hey\",)\n",
        "Greet_Response = [\"hi\",\"hey\",\"*nods*\",\"hi there\",\"hello\",\"I am glad! You are talking to me\"]\n",
        "\n",
        "def greet(sentence):\n",
        "  for word in sentence.split():\n",
        "    if word.lower() in Greet_Inputs:\n",
        "      return random.choice(Greet_Response)\n"
      ],
      "execution_count": null,
      "outputs": []
    },
    {
      "cell_type": "markdown",
      "metadata": {
        "id": "UZSkFvhr-YmH"
      },
      "source": [
        "**Response Generation**"
      ]
    },
    {
      "cell_type": "code",
      "metadata": {
        "id": "gDRrjKuj-Ej5"
      },
      "source": [
        "from sklearn.feature_extraction.text import TfidfVectorizer # Term Frequency how frequent the word in corpus and inverse doc is oppose of it how rare the term is being used\n",
        "from sklearn.metrics.pairwise import cosine_similarity # it normalizes the bag of words and give normalized vector output\n"
      ],
      "execution_count": null,
      "outputs": []
    },
    {
      "cell_type": "code",
      "metadata": {
        "id": "ydsfP6zB-zi-"
      },
      "source": [
        "def response(user_response):\n",
        "  robo1_response=''\n",
        "  TfidVec = TfidfVectorizer(tokenizer=LemNormalize, stop_words='english')\n",
        "  tfidf = TfidVec.fit_transform(sent_tokens)\n",
        "  vals = cosine_similarity(tfidf[-1], tfidf)\n",
        "  idx = vals.argsort()[0][-2]\n",
        "  flat = vals.flatten()\n",
        "  flat.sort()\n",
        "  req_tfidf = flat[-2]\n",
        "  if(req_tfidf==0):\n",
        "    robo1_response=robo1_response+\"I am sorry! I don't understand you\"\n",
        "    return robo1_response\n",
        "  else:\n",
        "    robo1_response = robo1_response+sent_tokens[idx]\n",
        "    return robo1_response\n",
        "     "
      ],
      "execution_count": null,
      "outputs": []
    },
    {
      "cell_type": "markdown",
      "metadata": {
        "id": "KUViD8WnGT_z"
      },
      "source": [
        "**Defining conversation start/end protocols**"
      ]
    },
    {
      "cell_type": "code",
      "metadata": {
        "colab": {
          "base_uri": "https://localhost:8080/"
        },
        "id": "ZSBYGEr_GbjQ",
        "outputId": "ddbbf24a-4e8b-4a32-d9e0-fc61ed98a160"
      },
      "source": [
        "flag=True\n",
        "print(\"BOT:My name is stark. Let's have a conversation! Also, if you want to exit any time,just type Bye!\")\n",
        "while(flag==True):\n",
        "  user_response = input()\n",
        "  user_response = user_response.lower()\n",
        "  if(user_response!='bye'):\n",
        "    if(user_response=='thanks' or user_response=='thank you'):\n",
        "      flag=False\n",
        "      print(\"BOT: You are welcome..\")\n",
        "    else:\n",
        "      if(greet(user_response)!=None):\n",
        "        print(\"BOT:\"+greet(user_response))\n",
        "      else:\n",
        "        sent_tokens.append(user_response)\n",
        "        word_tokens=word_tokens+nltk.word_tokenize(user_response)\n",
        "        final_words=list(set(word_tokens))\n",
        "        print(\"BOT:\",end=\"\")\n",
        "        print(response(user_response))\n",
        "        sent_tokens.remove(user_response)\n",
        "  else:\n",
        "    flag=False\n",
        "    print(\"BOT:Goodbye! Take care <3\")\n",
        "\n",
        "\n"
      ],
      "execution_count": null,
      "outputs": [
        {
          "output_type": "stream",
          "text": [
            "BOT:My name is stark. Let's have a conversation! Also, if you want to exit any time,just type Bye!\n",
            "hi \n",
            "BOT:hi\n",
            "data science\n"
          ],
          "name": "stdout"
        },
        {
          "output_type": "stream",
          "text": [
            "/usr/local/lib/python3.7/dist-packages/sklearn/feature_extraction/text.py:385: UserWarning: Your stop_words may be inconsistent with your preprocessing. Tokenizing the stop words generated tokens ['ha', 'le', 'u', 'wa'] not in stop_words.\n",
            "  'stop_words.' % sorted(inconsistent))\n"
          ],
          "name": "stderr"
        },
        {
          "output_type": "stream",
          "text": [
            "BOT:however, a study conducted by narrative science in 2015 found that 80 percent of their respondents believe ai improves worker performance and creates jobs.\n",
            "artificial intelligence\n"
          ],
          "name": "stdout"
        },
        {
          "output_type": "stream",
          "text": [
            "/usr/local/lib/python3.7/dist-packages/sklearn/feature_extraction/text.py:385: UserWarning: Your stop_words may be inconsistent with your preprocessing. Tokenizing the stop words generated tokens ['ha', 'le', 'u', 'wa'] not in stop_words.\n",
            "  'stop_words.' % sorted(inconsistent))\n"
          ],
          "name": "stderr"
        },
        {
          "output_type": "stream",
          "text": [
            "BOT:a chatbot (also known as a talkbot, chatterbot, bot, im bot, interactive agent, or artificial conversational entity) is a computer program or an artificial intelligence which conducts a conversation via auditory or textual methods.\n",
            "chatbot\n"
          ],
          "name": "stdout"
        },
        {
          "output_type": "stream",
          "text": [
            "/usr/local/lib/python3.7/dist-packages/sklearn/feature_extraction/text.py:385: UserWarning: Your stop_words may be inconsistent with your preprocessing. Tokenizing the stop words generated tokens ['ha', 'le', 'u', 'wa'] not in stop_words.\n",
            "  'stop_words.' % sorted(inconsistent))\n"
          ],
          "name": "stderr"
        },
        {
          "output_type": "stream",
          "text": [
            "BOT:design\n",
            "the chatbot design is the process that defines the interaction between the user and the chatbot.the chatbot designer will define the chatbot personality, the questions that will be asked to the users, and the overall interaction.it can be viewed as a subset of the conversational design.\n"
          ],
          "name": "stdout"
        }
      ]
    },
    {
      "cell_type": "code",
      "metadata": {
        "id": "g2P8jboeIfvZ"
      },
      "source": [
        ""
      ],
      "execution_count": null,
      "outputs": []
    }
  ]
}