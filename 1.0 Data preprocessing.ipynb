{
 "cells": [
  {
   "cell_type": "code",
   "execution_count": 1,
   "id": "23052613",
   "metadata": {},
   "outputs": [
    {
     "name": "stdout",
     "output_type": "stream",
     "text": [
      "[0, 1]\n",
      "{'with mask': 0, 'without mask': 1}\n",
      "['with mask', 'without mask']\n"
     ]
    }
   ],
   "source": [
    "import cv2,os\n",
    "\n",
    "data_path = r'E:\\AI-ML PYTHON\\Project-7\\Mask dataset\\data\\train'\n",
    "categories = os.listdir(data_path) # list the files in directory\n",
    "\n",
    "labels = [i for i in range(len(categories))]\n",
    "\n",
    "label_dict = dict(zip(categories,labels))\n",
    "\n",
    "print(labels)\n",
    "print(label_dict)\n",
    "print(categories)"
   ]
  },
  {
   "cell_type": "code",
   "execution_count": 2,
   "id": "30b877ee",
   "metadata": {},
   "outputs": [],
   "source": [
    "img_size = 100\n",
    "data=[]\n",
    "target=[]\n",
    "\n",
    "for category in categories:\n",
    "    folder_path=os.path.join(data_path,category)#to combine file components into one path instead of hard-coding manually\n",
    "    img_names=os.listdir(folder_path)#to list evey image in that category\n",
    "    \n",
    "    for img_name in img_names:\n",
    "        img_path=os.path.join(folder_path,img_name)#to combine every img into one path which already category added to main path\n",
    "        img=cv2.imread(img_path)\n",
    "        \n",
    "        try:\n",
    "            gray = cv2.cvtColor(img,cv2.COLOR_BGR2GRAY)\n",
    "            resize=cv2.resize(gray,(img_size,img_size))\n",
    "            data.append(resize)# In this inner loop every image process and append to data\n",
    "            target.append(label_dict[category])# In this outerloop every images of this specific category is appended to target\n",
    "            #appending the image and the label(categorized) into the list (dataset)\n",
    "                                   \n",
    "        except Exception as e:\n",
    "            print('Exception:',e)\n",
    "        \n",
    "    "
   ]
  },
  {
   "cell_type": "code",
   "execution_count": 3,
   "id": "b2667102",
   "metadata": {},
   "outputs": [
    {
     "name": "stdout",
     "output_type": "stream",
     "text": [
      "(1376, 100, 100, 1)\n",
      "int32\n",
      "float32\n"
     ]
    }
   ],
   "source": [
    "import numpy as np\n",
    "data=np.array(data)/255\n",
    "data=np.reshape(data,(data.shape[0], img_size,img_size, 1))\n",
    "print(data.shape)\n",
    "target=np.array(target)\n",
    "\n",
    "print(target.dtype)\n",
    "\n",
    "from keras.utils import np_utils\n",
    "new_target = np_utils.to_categorical(target)\n",
    "print(new_target.dtype)\n",
    "\n",
    "np.save('data',data)\n",
    "np.save('target',new_target)"
   ]
  },
  {
   "cell_type": "code",
   "execution_count": null,
   "id": "b9029de2",
   "metadata": {},
   "outputs": [],
   "source": []
  }
 ],
 "metadata": {
  "kernelspec": {
   "display_name": "Python 3",
   "language": "python",
   "name": "python3"
  },
  "language_info": {
   "codemirror_mode": {
    "name": "ipython",
    "version": 3
   },
   "file_extension": ".py",
   "mimetype": "text/x-python",
   "name": "python",
   "nbconvert_exporter": "python",
   "pygments_lexer": "ipython3",
   "version": "3.8.5"
  }
 },
 "nbformat": 4,
 "nbformat_minor": 5
}
