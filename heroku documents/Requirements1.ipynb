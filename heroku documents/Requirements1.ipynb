{
 "cells": [
  {
   "cell_type": "code",
   "execution_count": 1,
   "id": "860e1166",
   "metadata": {},
   "outputs": [
    {
     "data": {
      "text/plain": [
       "'F:\\\\Anaconda\\\\envs\\\\Deploymentation\\\\Projects\\\\Projects'"
      ]
     },
     "execution_count": 1,
     "metadata": {},
     "output_type": "execute_result"
    }
   ],
   "source": [
    "import os\n",
    "os.getcwd()"
   ]
  },
  {
   "cell_type": "code",
   "execution_count": 4,
   "id": "ca08d5ae",
   "metadata": {},
   "outputs": [
    {
     "name": "stdout",
     "output_type": "stream",
     "text": [
      "Collecting gunicornNote: you may need to restart the kernel to use updated packages.\n",
      "  Using cached gunicorn-20.1.0-py3-none-any.whl (79 kB)\n",
      "Requirement already satisfied: setuptools>=3.0 in f:\\anaconda\\lib\\site-packages (from gunicorn) (50.3.1.post20201107)\n",
      "Installing collected packages: gunicorn\n",
      "Successfully installed gunicorn-20.1.0\n",
      "\n"
     ]
    }
   ],
   "source": [
    "pip install gunicorn\n"
   ]
  },
  {
   "cell_type": "code",
   "execution_count": 5,
   "id": "49d87ef2",
   "metadata": {},
   "outputs": [],
   "source": [
    "import numpy as np\n",
    "import pandas as pd \n",
    "import requests\n",
    "import seaborn as sns\n",
    "import flask\n",
    "import matplotlib as plt\n",
    "import sklearn\n",
    "import itsdangerous\n",
    "import jinja2\n",
    "import markupsafe\n",
    "import werkzeug\n",
    "import scipy\n",
    "import gunicorn"
   ]
  },
  {
   "cell_type": "code",
   "execution_count": 6,
   "id": "c645fc35",
   "metadata": {},
   "outputs": [
    {
     "name": "stdout",
     "output_type": "stream",
     "text": [
      "1.19.2\n",
      "1.1.3\n",
      "2.24.0\n",
      "0.11.0\n",
      "1.1.2\n",
      "3.3.2\n",
      "0.23.2\n",
      "1.1.0\n",
      "2.11.2\n",
      "1.1.1\n",
      "1.0.1\n",
      "1.5.2\n",
      "20.1.0\n"
     ]
    }
   ],
   "source": [
    "print(np.__version__)\n",
    "print(pd.__version__)\n",
    "print(requests.__version__)\n",
    "print(sns.__version__)\n",
    "print(flask.__version__)\n",
    "print(plt.__version__)\n",
    "print(sklearn.__version__)\n",
    "print(itsdangerous.__version__)\n",
    "print(jinja2.__version__)\n",
    "print(markupsafe.__version__)\n",
    "print(werkzeug.__version__)\n",
    "print(scipy.__version__)\n",
    "print(gunicorn.__version__)"
   ]
  },
  {
   "cell_type": "code",
   "execution_count": null,
   "id": "5d772a31",
   "metadata": {},
   "outputs": [],
   "source": []
  }
 ],
 "metadata": {
  "kernelspec": {
   "display_name": "Python [conda env:ANACONDA]",
   "language": "python",
   "name": "conda-env-ANACONDA-py"
  },
  "language_info": {
   "codemirror_mode": {
    "name": "ipython",
    "version": 3
   },
   "file_extension": ".py",
   "mimetype": "text/x-python",
   "name": "python",
   "nbconvert_exporter": "python",
   "pygments_lexer": "ipython3",
   "version": "3.8.5"
  }
 },
 "nbformat": 4,
 "nbformat_minor": 5
}
